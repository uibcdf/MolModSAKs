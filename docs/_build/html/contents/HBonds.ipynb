{
 "cells": [
  {
   "cell_type": "code",
   "execution_count": 1,
   "metadata": {
    "execution": {
     "iopub.execute_input": "2021-05-25T23:33:06.569932Z",
     "iopub.status.busy": "2021-05-25T23:33:06.569275Z",
     "iopub.status.idle": "2021-05-25T23:33:06.579890Z",
     "shell.execute_reply": "2021-05-25T23:33:06.580542Z"
    }
   },
   "outputs": [],
   "source": [
    "%load_ext autoreload\n",
    "%autoreload 2"
   ]
  },
  {
   "cell_type": "code",
   "execution_count": 2,
   "metadata": {
    "execution": {
     "iopub.execute_input": "2021-05-25T23:33:06.585304Z",
     "iopub.status.busy": "2021-05-25T23:33:06.584341Z",
     "iopub.status.idle": "2021-05-25T23:33:06.725982Z",
     "shell.execute_reply": "2021-05-25T23:33:06.725560Z"
    }
   },
   "outputs": [],
   "source": [
    "import numpy as np\n",
    "np.warnings.filterwarnings('ignore', category=np.VisibleDeprecationWarning) # Debugging: 'ignore' -> 'error'"
   ]
  },
  {
   "cell_type": "markdown",
   "metadata": {},
   "source": [
    "# Hydrogen bonds"
   ]
  },
  {
   "cell_type": "code",
   "execution_count": 3,
   "metadata": {
    "execution": {
     "iopub.execute_input": "2021-05-25T23:33:06.729550Z",
     "iopub.status.busy": "2021-05-25T23:33:06.728839Z",
     "iopub.status.idle": "2021-05-25T23:33:07.956548Z",
     "shell.execute_reply": "2021-05-25T23:33:07.957480Z"
    }
   },
   "outputs": [
    {
     "data": {
      "application/vnd.jupyter.widget-view+json": {
       "model_id": "19cb4718abfb4140a10d91202c3202fb",
       "version_major": 2,
       "version_minor": 0
      },
      "text/plain": []
     },
     "metadata": {},
     "output_type": "display_data"
    }
   ],
   "source": [
    "import molsysmt as msm"
   ]
  },
  {
   "cell_type": "code",
   "execution_count": 4,
   "metadata": {
    "execution": {
     "iopub.execute_input": "2021-05-25T23:33:07.963219Z",
     "iopub.status.busy": "2021-05-25T23:33:07.962137Z",
     "iopub.status.idle": "2021-05-25T23:33:08.223636Z",
     "shell.execute_reply": "2021-05-25T23:33:08.222702Z"
    }
   },
   "outputs": [],
   "source": [
    "molecular_system = msm.demo_systems.files['pentalanine.h5']\n",
    "molecular_system = msm.convert(molecular_system, to_form='molsysmt.MolSys')"
   ]
  },
  {
   "cell_type": "code",
   "execution_count": 5,
   "metadata": {
    "execution": {
     "iopub.execute_input": "2021-05-25T23:33:08.228559Z",
     "iopub.status.busy": "2021-05-25T23:33:08.227464Z",
     "iopub.status.idle": "2021-05-25T23:33:08.441371Z",
     "shell.execute_reply": "2021-05-25T23:33:08.442269Z"
    }
   },
   "outputs": [
    {
     "data": {
      "text/html": [
       "<style  type=\"text/css\" >\n",
       "</style><table id=\"T_b31ee_\" ><thead>    <tr>        <th class=\"col_heading level0 col0\" >form</th>        <th class=\"col_heading level0 col1\" >n_atoms</th>        <th class=\"col_heading level0 col2\" >n_groups</th>        <th class=\"col_heading level0 col3\" >n_components</th>        <th class=\"col_heading level0 col4\" >n_chains</th>        <th class=\"col_heading level0 col5\" >n_molecules</th>        <th class=\"col_heading level0 col6\" >n_entities</th>        <th class=\"col_heading level0 col7\" >n_peptides</th>        <th class=\"col_heading level0 col8\" >n_frames</th>    </tr></thead><tbody>\n",
       "                <tr>\n",
       "                                <td id=\"T_b31ee_row0_col0\" class=\"data row0 col0\" >molsysmt.MolSys</td>\n",
       "                        <td id=\"T_b31ee_row0_col1\" class=\"data row0 col1\" >62</td>\n",
       "                        <td id=\"T_b31ee_row0_col2\" class=\"data row0 col2\" >7</td>\n",
       "                        <td id=\"T_b31ee_row0_col3\" class=\"data row0 col3\" >1</td>\n",
       "                        <td id=\"T_b31ee_row0_col4\" class=\"data row0 col4\" >1</td>\n",
       "                        <td id=\"T_b31ee_row0_col5\" class=\"data row0 col5\" >1</td>\n",
       "                        <td id=\"T_b31ee_row0_col6\" class=\"data row0 col6\" >1</td>\n",
       "                        <td id=\"T_b31ee_row0_col7\" class=\"data row0 col7\" >1</td>\n",
       "                        <td id=\"T_b31ee_row0_col8\" class=\"data row0 col8\" >5000</td>\n",
       "            </tr>\n",
       "    </tbody></table>"
      ],
      "text/plain": [
       "<pandas.io.formats.style.Styler at 0x7f4c5960e990>"
      ]
     },
     "execution_count": 1,
     "metadata": {},
     "output_type": "execute_result"
    }
   ],
   "source": [
    "msm.info(molecular_system)"
   ]
  },
  {
   "cell_type": "markdown",
   "metadata": {},
   "source": [
    "## Acceptor atoms"
   ]
  },
  {
   "cell_type": "code",
   "execution_count": 6,
   "metadata": {
    "execution": {
     "iopub.execute_input": "2021-05-25T23:33:08.447407Z",
     "iopub.status.busy": "2021-05-25T23:33:08.446339Z",
     "iopub.status.idle": "2021-05-25T23:33:08.467988Z",
     "shell.execute_reply": "2021-05-25T23:33:08.468948Z"
    }
   },
   "outputs": [
    {
     "data": {
      "text/plain": [
       "[\"atom_type=='O'\", \"atom_type=='N'\", \"atom_type=='S'\"]"
      ]
     },
     "execution_count": 1,
     "metadata": {},
     "output_type": "execute_result"
    }
   ],
   "source": [
    "msm.hbonds.acceptor_inclusion_rules"
   ]
  },
  {
   "cell_type": "code",
   "execution_count": 7,
   "metadata": {
    "execution": {
     "iopub.execute_input": "2021-05-25T23:33:08.474799Z",
     "iopub.status.busy": "2021-05-25T23:33:08.473735Z",
     "iopub.status.idle": "2021-05-25T23:33:08.490923Z",
     "shell.execute_reply": "2021-05-25T23:33:08.491567Z"
    }
   },
   "outputs": [
    {
     "data": {
      "text/plain": [
       "[\"atom_name=='NE2' and group_name=='GLN'\",\n",
       " \"(atom_name=='NE2' and group_name=='HIS') bonded to (atom_type=='H')\",\n",
       " \"(atom_name=='ND1' and group_name=='HIS') bonded to (atom_type=='H')\"]"
      ]
     },
     "execution_count": 1,
     "metadata": {},
     "output_type": "execute_result"
    }
   ],
   "source": [
    "msm.hbonds.acceptor_exclusion_rules"
   ]
  },
  {
   "cell_type": "code",
   "execution_count": 8,
   "metadata": {
    "execution": {
     "iopub.execute_input": "2021-05-25T23:33:08.497946Z",
     "iopub.status.busy": "2021-05-25T23:33:08.494753Z",
     "iopub.status.idle": "2021-05-25T23:33:08.639794Z",
     "shell.execute_reply": "2021-05-25T23:33:08.640566Z"
    }
   },
   "outputs": [],
   "source": [
    "acceptors=msm.hbonds.get_acceptor_atoms(molecular_system)"
   ]
  },
  {
   "cell_type": "code",
   "execution_count": 9,
   "metadata": {
    "execution": {
     "iopub.execute_input": "2021-05-25T23:33:08.645247Z",
     "iopub.status.busy": "2021-05-25T23:33:08.644162Z",
     "iopub.status.idle": "2021-05-25T23:33:08.662679Z",
     "shell.execute_reply": "2021-05-25T23:33:08.663572Z"
    }
   },
   "outputs": [
    {
     "data": {
      "text/plain": [
       "array([ 5,  6, 15, ..., 46, 55, 56])"
      ]
     },
     "execution_count": 1,
     "metadata": {},
     "output_type": "execute_result"
    }
   ],
   "source": [
    "acceptors"
   ]
  },
  {
   "cell_type": "code",
   "execution_count": 10,
   "metadata": {
    "execution": {
     "iopub.execute_input": "2021-05-25T23:33:08.670196Z",
     "iopub.status.busy": "2021-05-25T23:33:08.669127Z",
     "iopub.status.idle": "2021-05-25T23:33:08.876953Z",
     "shell.execute_reply": "2021-05-25T23:33:08.877859Z"
    }
   },
   "outputs": [
    {
     "data": {
      "text/html": [
       "<style  type=\"text/css\" >\n",
       "</style><table id=\"T_9189a_\" ><thead>    <tr>        <th class=\"col_heading level0 col0\" >index</th>        <th class=\"col_heading level0 col1\" >id</th>        <th class=\"col_heading level0 col2\" >name</th>        <th class=\"col_heading level0 col3\" >type</th>        <th class=\"col_heading level0 col4\" >group index</th>        <th class=\"col_heading level0 col5\" >group id</th>        <th class=\"col_heading level0 col6\" >group name</th>        <th class=\"col_heading level0 col7\" >group type</th>        <th class=\"col_heading level0 col8\" >component index</th>        <th class=\"col_heading level0 col9\" >chain index</th>        <th class=\"col_heading level0 col10\" >molecule index</th>        <th class=\"col_heading level0 col11\" >molecule type</th>        <th class=\"col_heading level0 col12\" >entity index</th>        <th class=\"col_heading level0 col13\" >entity name</th>    </tr></thead><tbody>\n",
       "                <tr>\n",
       "                                <td id=\"T_9189a_row0_col0\" class=\"data row0 col0\" >5</td>\n",
       "                        <td id=\"T_9189a_row0_col1\" class=\"data row0 col1\" >None</td>\n",
       "                        <td id=\"T_9189a_row0_col2\" class=\"data row0 col2\" >O</td>\n",
       "                        <td id=\"T_9189a_row0_col3\" class=\"data row0 col3\" >O</td>\n",
       "                        <td id=\"T_9189a_row0_col4\" class=\"data row0 col4\" >0</td>\n",
       "                        <td id=\"T_9189a_row0_col5\" class=\"data row0 col5\" >1</td>\n",
       "                        <td id=\"T_9189a_row0_col6\" class=\"data row0 col6\" >ACE</td>\n",
       "                        <td id=\"T_9189a_row0_col7\" class=\"data row0 col7\" >aminoacid</td>\n",
       "                        <td id=\"T_9189a_row0_col8\" class=\"data row0 col8\" >0</td>\n",
       "                        <td id=\"T_9189a_row0_col9\" class=\"data row0 col9\" >0</td>\n",
       "                        <td id=\"T_9189a_row0_col10\" class=\"data row0 col10\" >0</td>\n",
       "                        <td id=\"T_9189a_row0_col11\" class=\"data row0 col11\" >peptide</td>\n",
       "                        <td id=\"T_9189a_row0_col12\" class=\"data row0 col12\" >0</td>\n",
       "                        <td id=\"T_9189a_row0_col13\" class=\"data row0 col13\" >Peptide_0</td>\n",
       "            </tr>\n",
       "            <tr>\n",
       "                                <td id=\"T_9189a_row1_col0\" class=\"data row1 col0\" >6</td>\n",
       "                        <td id=\"T_9189a_row1_col1\" class=\"data row1 col1\" >None</td>\n",
       "                        <td id=\"T_9189a_row1_col2\" class=\"data row1 col2\" >N</td>\n",
       "                        <td id=\"T_9189a_row1_col3\" class=\"data row1 col3\" >N</td>\n",
       "                        <td id=\"T_9189a_row1_col4\" class=\"data row1 col4\" >1</td>\n",
       "                        <td id=\"T_9189a_row1_col5\" class=\"data row1 col5\" >2</td>\n",
       "                        <td id=\"T_9189a_row1_col6\" class=\"data row1 col6\" >ALA</td>\n",
       "                        <td id=\"T_9189a_row1_col7\" class=\"data row1 col7\" >aminoacid</td>\n",
       "                        <td id=\"T_9189a_row1_col8\" class=\"data row1 col8\" >0</td>\n",
       "                        <td id=\"T_9189a_row1_col9\" class=\"data row1 col9\" >0</td>\n",
       "                        <td id=\"T_9189a_row1_col10\" class=\"data row1 col10\" >0</td>\n",
       "                        <td id=\"T_9189a_row1_col11\" class=\"data row1 col11\" >peptide</td>\n",
       "                        <td id=\"T_9189a_row1_col12\" class=\"data row1 col12\" >0</td>\n",
       "                        <td id=\"T_9189a_row1_col13\" class=\"data row1 col13\" >Peptide_0</td>\n",
       "            </tr>\n",
       "            <tr>\n",
       "                                <td id=\"T_9189a_row2_col0\" class=\"data row2 col0\" >15</td>\n",
       "                        <td id=\"T_9189a_row2_col1\" class=\"data row2 col1\" >None</td>\n",
       "                        <td id=\"T_9189a_row2_col2\" class=\"data row2 col2\" >O</td>\n",
       "                        <td id=\"T_9189a_row2_col3\" class=\"data row2 col3\" >O</td>\n",
       "                        <td id=\"T_9189a_row2_col4\" class=\"data row2 col4\" >1</td>\n",
       "                        <td id=\"T_9189a_row2_col5\" class=\"data row2 col5\" >2</td>\n",
       "                        <td id=\"T_9189a_row2_col6\" class=\"data row2 col6\" >ALA</td>\n",
       "                        <td id=\"T_9189a_row2_col7\" class=\"data row2 col7\" >aminoacid</td>\n",
       "                        <td id=\"T_9189a_row2_col8\" class=\"data row2 col8\" >0</td>\n",
       "                        <td id=\"T_9189a_row2_col9\" class=\"data row2 col9\" >0</td>\n",
       "                        <td id=\"T_9189a_row2_col10\" class=\"data row2 col10\" >0</td>\n",
       "                        <td id=\"T_9189a_row2_col11\" class=\"data row2 col11\" >peptide</td>\n",
       "                        <td id=\"T_9189a_row2_col12\" class=\"data row2 col12\" >0</td>\n",
       "                        <td id=\"T_9189a_row2_col13\" class=\"data row2 col13\" >Peptide_0</td>\n",
       "            </tr>\n",
       "            <tr>\n",
       "                                <td id=\"T_9189a_row3_col0\" class=\"data row3 col0\" >16</td>\n",
       "                        <td id=\"T_9189a_row3_col1\" class=\"data row3 col1\" >None</td>\n",
       "                        <td id=\"T_9189a_row3_col2\" class=\"data row3 col2\" >N</td>\n",
       "                        <td id=\"T_9189a_row3_col3\" class=\"data row3 col3\" >N</td>\n",
       "                        <td id=\"T_9189a_row3_col4\" class=\"data row3 col4\" >2</td>\n",
       "                        <td id=\"T_9189a_row3_col5\" class=\"data row3 col5\" >3</td>\n",
       "                        <td id=\"T_9189a_row3_col6\" class=\"data row3 col6\" >ALA</td>\n",
       "                        <td id=\"T_9189a_row3_col7\" class=\"data row3 col7\" >aminoacid</td>\n",
       "                        <td id=\"T_9189a_row3_col8\" class=\"data row3 col8\" >0</td>\n",
       "                        <td id=\"T_9189a_row3_col9\" class=\"data row3 col9\" >0</td>\n",
       "                        <td id=\"T_9189a_row3_col10\" class=\"data row3 col10\" >0</td>\n",
       "                        <td id=\"T_9189a_row3_col11\" class=\"data row3 col11\" >peptide</td>\n",
       "                        <td id=\"T_9189a_row3_col12\" class=\"data row3 col12\" >0</td>\n",
       "                        <td id=\"T_9189a_row3_col13\" class=\"data row3 col13\" >Peptide_0</td>\n",
       "            </tr>\n",
       "            <tr>\n",
       "                                <td id=\"T_9189a_row4_col0\" class=\"data row4 col0\" >25</td>\n",
       "                        <td id=\"T_9189a_row4_col1\" class=\"data row4 col1\" >None</td>\n",
       "                        <td id=\"T_9189a_row4_col2\" class=\"data row4 col2\" >O</td>\n",
       "                        <td id=\"T_9189a_row4_col3\" class=\"data row4 col3\" >O</td>\n",
       "                        <td id=\"T_9189a_row4_col4\" class=\"data row4 col4\" >2</td>\n",
       "                        <td id=\"T_9189a_row4_col5\" class=\"data row4 col5\" >3</td>\n",
       "                        <td id=\"T_9189a_row4_col6\" class=\"data row4 col6\" >ALA</td>\n",
       "                        <td id=\"T_9189a_row4_col7\" class=\"data row4 col7\" >aminoacid</td>\n",
       "                        <td id=\"T_9189a_row4_col8\" class=\"data row4 col8\" >0</td>\n",
       "                        <td id=\"T_9189a_row4_col9\" class=\"data row4 col9\" >0</td>\n",
       "                        <td id=\"T_9189a_row4_col10\" class=\"data row4 col10\" >0</td>\n",
       "                        <td id=\"T_9189a_row4_col11\" class=\"data row4 col11\" >peptide</td>\n",
       "                        <td id=\"T_9189a_row4_col12\" class=\"data row4 col12\" >0</td>\n",
       "                        <td id=\"T_9189a_row4_col13\" class=\"data row4 col13\" >Peptide_0</td>\n",
       "            </tr>\n",
       "            <tr>\n",
       "                                <td id=\"T_9189a_row5_col0\" class=\"data row5 col0\" >26</td>\n",
       "                        <td id=\"T_9189a_row5_col1\" class=\"data row5 col1\" >None</td>\n",
       "                        <td id=\"T_9189a_row5_col2\" class=\"data row5 col2\" >N</td>\n",
       "                        <td id=\"T_9189a_row5_col3\" class=\"data row5 col3\" >N</td>\n",
       "                        <td id=\"T_9189a_row5_col4\" class=\"data row5 col4\" >3</td>\n",
       "                        <td id=\"T_9189a_row5_col5\" class=\"data row5 col5\" >4</td>\n",
       "                        <td id=\"T_9189a_row5_col6\" class=\"data row5 col6\" >ALA</td>\n",
       "                        <td id=\"T_9189a_row5_col7\" class=\"data row5 col7\" >aminoacid</td>\n",
       "                        <td id=\"T_9189a_row5_col8\" class=\"data row5 col8\" >0</td>\n",
       "                        <td id=\"T_9189a_row5_col9\" class=\"data row5 col9\" >0</td>\n",
       "                        <td id=\"T_9189a_row5_col10\" class=\"data row5 col10\" >0</td>\n",
       "                        <td id=\"T_9189a_row5_col11\" class=\"data row5 col11\" >peptide</td>\n",
       "                        <td id=\"T_9189a_row5_col12\" class=\"data row5 col12\" >0</td>\n",
       "                        <td id=\"T_9189a_row5_col13\" class=\"data row5 col13\" >Peptide_0</td>\n",
       "            </tr>\n",
       "            <tr>\n",
       "                                <td id=\"T_9189a_row6_col0\" class=\"data row6 col0\" >35</td>\n",
       "                        <td id=\"T_9189a_row6_col1\" class=\"data row6 col1\" >None</td>\n",
       "                        <td id=\"T_9189a_row6_col2\" class=\"data row6 col2\" >O</td>\n",
       "                        <td id=\"T_9189a_row6_col3\" class=\"data row6 col3\" >O</td>\n",
       "                        <td id=\"T_9189a_row6_col4\" class=\"data row6 col4\" >3</td>\n",
       "                        <td id=\"T_9189a_row6_col5\" class=\"data row6 col5\" >4</td>\n",
       "                        <td id=\"T_9189a_row6_col6\" class=\"data row6 col6\" >ALA</td>\n",
       "                        <td id=\"T_9189a_row6_col7\" class=\"data row6 col7\" >aminoacid</td>\n",
       "                        <td id=\"T_9189a_row6_col8\" class=\"data row6 col8\" >0</td>\n",
       "                        <td id=\"T_9189a_row6_col9\" class=\"data row6 col9\" >0</td>\n",
       "                        <td id=\"T_9189a_row6_col10\" class=\"data row6 col10\" >0</td>\n",
       "                        <td id=\"T_9189a_row6_col11\" class=\"data row6 col11\" >peptide</td>\n",
       "                        <td id=\"T_9189a_row6_col12\" class=\"data row6 col12\" >0</td>\n",
       "                        <td id=\"T_9189a_row6_col13\" class=\"data row6 col13\" >Peptide_0</td>\n",
       "            </tr>\n",
       "            <tr>\n",
       "                                <td id=\"T_9189a_row7_col0\" class=\"data row7 col0\" >36</td>\n",
       "                        <td id=\"T_9189a_row7_col1\" class=\"data row7 col1\" >None</td>\n",
       "                        <td id=\"T_9189a_row7_col2\" class=\"data row7 col2\" >N</td>\n",
       "                        <td id=\"T_9189a_row7_col3\" class=\"data row7 col3\" >N</td>\n",
       "                        <td id=\"T_9189a_row7_col4\" class=\"data row7 col4\" >4</td>\n",
       "                        <td id=\"T_9189a_row7_col5\" class=\"data row7 col5\" >5</td>\n",
       "                        <td id=\"T_9189a_row7_col6\" class=\"data row7 col6\" >ALA</td>\n",
       "                        <td id=\"T_9189a_row7_col7\" class=\"data row7 col7\" >aminoacid</td>\n",
       "                        <td id=\"T_9189a_row7_col8\" class=\"data row7 col8\" >0</td>\n",
       "                        <td id=\"T_9189a_row7_col9\" class=\"data row7 col9\" >0</td>\n",
       "                        <td id=\"T_9189a_row7_col10\" class=\"data row7 col10\" >0</td>\n",
       "                        <td id=\"T_9189a_row7_col11\" class=\"data row7 col11\" >peptide</td>\n",
       "                        <td id=\"T_9189a_row7_col12\" class=\"data row7 col12\" >0</td>\n",
       "                        <td id=\"T_9189a_row7_col13\" class=\"data row7 col13\" >Peptide_0</td>\n",
       "            </tr>\n",
       "            <tr>\n",
       "                                <td id=\"T_9189a_row8_col0\" class=\"data row8 col0\" >45</td>\n",
       "                        <td id=\"T_9189a_row8_col1\" class=\"data row8 col1\" >None</td>\n",
       "                        <td id=\"T_9189a_row8_col2\" class=\"data row8 col2\" >O</td>\n",
       "                        <td id=\"T_9189a_row8_col3\" class=\"data row8 col3\" >O</td>\n",
       "                        <td id=\"T_9189a_row8_col4\" class=\"data row8 col4\" >4</td>\n",
       "                        <td id=\"T_9189a_row8_col5\" class=\"data row8 col5\" >5</td>\n",
       "                        <td id=\"T_9189a_row8_col6\" class=\"data row8 col6\" >ALA</td>\n",
       "                        <td id=\"T_9189a_row8_col7\" class=\"data row8 col7\" >aminoacid</td>\n",
       "                        <td id=\"T_9189a_row8_col8\" class=\"data row8 col8\" >0</td>\n",
       "                        <td id=\"T_9189a_row8_col9\" class=\"data row8 col9\" >0</td>\n",
       "                        <td id=\"T_9189a_row8_col10\" class=\"data row8 col10\" >0</td>\n",
       "                        <td id=\"T_9189a_row8_col11\" class=\"data row8 col11\" >peptide</td>\n",
       "                        <td id=\"T_9189a_row8_col12\" class=\"data row8 col12\" >0</td>\n",
       "                        <td id=\"T_9189a_row8_col13\" class=\"data row8 col13\" >Peptide_0</td>\n",
       "            </tr>\n",
       "            <tr>\n",
       "                                <td id=\"T_9189a_row9_col0\" class=\"data row9 col0\" >46</td>\n",
       "                        <td id=\"T_9189a_row9_col1\" class=\"data row9 col1\" >None</td>\n",
       "                        <td id=\"T_9189a_row9_col2\" class=\"data row9 col2\" >N</td>\n",
       "                        <td id=\"T_9189a_row9_col3\" class=\"data row9 col3\" >N</td>\n",
       "                        <td id=\"T_9189a_row9_col4\" class=\"data row9 col4\" >5</td>\n",
       "                        <td id=\"T_9189a_row9_col5\" class=\"data row9 col5\" >6</td>\n",
       "                        <td id=\"T_9189a_row9_col6\" class=\"data row9 col6\" >ALA</td>\n",
       "                        <td id=\"T_9189a_row9_col7\" class=\"data row9 col7\" >aminoacid</td>\n",
       "                        <td id=\"T_9189a_row9_col8\" class=\"data row9 col8\" >0</td>\n",
       "                        <td id=\"T_9189a_row9_col9\" class=\"data row9 col9\" >0</td>\n",
       "                        <td id=\"T_9189a_row9_col10\" class=\"data row9 col10\" >0</td>\n",
       "                        <td id=\"T_9189a_row9_col11\" class=\"data row9 col11\" >peptide</td>\n",
       "                        <td id=\"T_9189a_row9_col12\" class=\"data row9 col12\" >0</td>\n",
       "                        <td id=\"T_9189a_row9_col13\" class=\"data row9 col13\" >Peptide_0</td>\n",
       "            </tr>\n",
       "            <tr>\n",
       "                                <td id=\"T_9189a_row10_col0\" class=\"data row10 col0\" >55</td>\n",
       "                        <td id=\"T_9189a_row10_col1\" class=\"data row10 col1\" >None</td>\n",
       "                        <td id=\"T_9189a_row10_col2\" class=\"data row10 col2\" >O</td>\n",
       "                        <td id=\"T_9189a_row10_col3\" class=\"data row10 col3\" >O</td>\n",
       "                        <td id=\"T_9189a_row10_col4\" class=\"data row10 col4\" >5</td>\n",
       "                        <td id=\"T_9189a_row10_col5\" class=\"data row10 col5\" >6</td>\n",
       "                        <td id=\"T_9189a_row10_col6\" class=\"data row10 col6\" >ALA</td>\n",
       "                        <td id=\"T_9189a_row10_col7\" class=\"data row10 col7\" >aminoacid</td>\n",
       "                        <td id=\"T_9189a_row10_col8\" class=\"data row10 col8\" >0</td>\n",
       "                        <td id=\"T_9189a_row10_col9\" class=\"data row10 col9\" >0</td>\n",
       "                        <td id=\"T_9189a_row10_col10\" class=\"data row10 col10\" >0</td>\n",
       "                        <td id=\"T_9189a_row10_col11\" class=\"data row10 col11\" >peptide</td>\n",
       "                        <td id=\"T_9189a_row10_col12\" class=\"data row10 col12\" >0</td>\n",
       "                        <td id=\"T_9189a_row10_col13\" class=\"data row10 col13\" >Peptide_0</td>\n",
       "            </tr>\n",
       "            <tr>\n",
       "                                <td id=\"T_9189a_row11_col0\" class=\"data row11 col0\" >56</td>\n",
       "                        <td id=\"T_9189a_row11_col1\" class=\"data row11 col1\" >None</td>\n",
       "                        <td id=\"T_9189a_row11_col2\" class=\"data row11 col2\" >N</td>\n",
       "                        <td id=\"T_9189a_row11_col3\" class=\"data row11 col3\" >N</td>\n",
       "                        <td id=\"T_9189a_row11_col4\" class=\"data row11 col4\" >6</td>\n",
       "                        <td id=\"T_9189a_row11_col5\" class=\"data row11 col5\" >7</td>\n",
       "                        <td id=\"T_9189a_row11_col6\" class=\"data row11 col6\" >NME</td>\n",
       "                        <td id=\"T_9189a_row11_col7\" class=\"data row11 col7\" >aminoacid</td>\n",
       "                        <td id=\"T_9189a_row11_col8\" class=\"data row11 col8\" >0</td>\n",
       "                        <td id=\"T_9189a_row11_col9\" class=\"data row11 col9\" >0</td>\n",
       "                        <td id=\"T_9189a_row11_col10\" class=\"data row11 col10\" >0</td>\n",
       "                        <td id=\"T_9189a_row11_col11\" class=\"data row11 col11\" >peptide</td>\n",
       "                        <td id=\"T_9189a_row11_col12\" class=\"data row11 col12\" >0</td>\n",
       "                        <td id=\"T_9189a_row11_col13\" class=\"data row11 col13\" >Peptide_0</td>\n",
       "            </tr>\n",
       "    </tbody></table>"
      ],
      "text/plain": [
       "<pandas.io.formats.style.Styler at 0x7f4c261d0e90>"
      ]
     },
     "execution_count": 1,
     "metadata": {},
     "output_type": "execute_result"
    }
   ],
   "source": [
    "msm.info(molecular_system, target='atom', selection='@acceptors')"
   ]
  },
  {
   "cell_type": "code",
   "execution_count": 11,
   "metadata": {
    "execution": {
     "iopub.execute_input": "2021-05-25T23:33:08.882890Z",
     "iopub.status.busy": "2021-05-25T23:33:08.881813Z",
     "iopub.status.idle": "2021-05-25T23:33:09.054585Z",
     "shell.execute_reply": "2021-05-25T23:33:09.053668Z"
    }
   },
   "outputs": [],
   "source": [
    "acceptors=msm.hbonds.get_acceptor_atoms(molecular_system, inclusion_rules=[\"atom_name=='CB'\"],\n",
    "                                        exclusion_rules=[\"atom_type=='N' and group_name=='ALA'\"])"
   ]
  },
  {
   "cell_type": "code",
   "execution_count": 12,
   "metadata": {
    "execution": {
     "iopub.execute_input": "2021-05-25T23:33:09.059462Z",
     "iopub.status.busy": "2021-05-25T23:33:09.058374Z",
     "iopub.status.idle": "2021-05-25T23:33:09.112222Z",
     "shell.execute_reply": "2021-05-25T23:33:09.113145Z"
    }
   },
   "outputs": [
    {
     "data": {
      "text/html": [
       "<style  type=\"text/css\" >\n",
       "</style><table id=\"T_57979_\" ><thead>    <tr>        <th class=\"col_heading level0 col0\" >index</th>        <th class=\"col_heading level0 col1\" >id</th>        <th class=\"col_heading level0 col2\" >name</th>        <th class=\"col_heading level0 col3\" >type</th>        <th class=\"col_heading level0 col4\" >group index</th>        <th class=\"col_heading level0 col5\" >group id</th>        <th class=\"col_heading level0 col6\" >group name</th>        <th class=\"col_heading level0 col7\" >group type</th>        <th class=\"col_heading level0 col8\" >component index</th>        <th class=\"col_heading level0 col9\" >chain index</th>        <th class=\"col_heading level0 col10\" >molecule index</th>        <th class=\"col_heading level0 col11\" >molecule type</th>        <th class=\"col_heading level0 col12\" >entity index</th>        <th class=\"col_heading level0 col13\" >entity name</th>    </tr></thead><tbody>\n",
       "                <tr>\n",
       "                                <td id=\"T_57979_row0_col0\" class=\"data row0 col0\" >5</td>\n",
       "                        <td id=\"T_57979_row0_col1\" class=\"data row0 col1\" >None</td>\n",
       "                        <td id=\"T_57979_row0_col2\" class=\"data row0 col2\" >O</td>\n",
       "                        <td id=\"T_57979_row0_col3\" class=\"data row0 col3\" >O</td>\n",
       "                        <td id=\"T_57979_row0_col4\" class=\"data row0 col4\" >0</td>\n",
       "                        <td id=\"T_57979_row0_col5\" class=\"data row0 col5\" >1</td>\n",
       "                        <td id=\"T_57979_row0_col6\" class=\"data row0 col6\" >ACE</td>\n",
       "                        <td id=\"T_57979_row0_col7\" class=\"data row0 col7\" >aminoacid</td>\n",
       "                        <td id=\"T_57979_row0_col8\" class=\"data row0 col8\" >0</td>\n",
       "                        <td id=\"T_57979_row0_col9\" class=\"data row0 col9\" >0</td>\n",
       "                        <td id=\"T_57979_row0_col10\" class=\"data row0 col10\" >0</td>\n",
       "                        <td id=\"T_57979_row0_col11\" class=\"data row0 col11\" >peptide</td>\n",
       "                        <td id=\"T_57979_row0_col12\" class=\"data row0 col12\" >0</td>\n",
       "                        <td id=\"T_57979_row0_col13\" class=\"data row0 col13\" >Peptide_0</td>\n",
       "            </tr>\n",
       "            <tr>\n",
       "                                <td id=\"T_57979_row1_col0\" class=\"data row1 col0\" >10</td>\n",
       "                        <td id=\"T_57979_row1_col1\" class=\"data row1 col1\" >None</td>\n",
       "                        <td id=\"T_57979_row1_col2\" class=\"data row1 col2\" >CB</td>\n",
       "                        <td id=\"T_57979_row1_col3\" class=\"data row1 col3\" >C</td>\n",
       "                        <td id=\"T_57979_row1_col4\" class=\"data row1 col4\" >1</td>\n",
       "                        <td id=\"T_57979_row1_col5\" class=\"data row1 col5\" >2</td>\n",
       "                        <td id=\"T_57979_row1_col6\" class=\"data row1 col6\" >ALA</td>\n",
       "                        <td id=\"T_57979_row1_col7\" class=\"data row1 col7\" >aminoacid</td>\n",
       "                        <td id=\"T_57979_row1_col8\" class=\"data row1 col8\" >0</td>\n",
       "                        <td id=\"T_57979_row1_col9\" class=\"data row1 col9\" >0</td>\n",
       "                        <td id=\"T_57979_row1_col10\" class=\"data row1 col10\" >0</td>\n",
       "                        <td id=\"T_57979_row1_col11\" class=\"data row1 col11\" >peptide</td>\n",
       "                        <td id=\"T_57979_row1_col12\" class=\"data row1 col12\" >0</td>\n",
       "                        <td id=\"T_57979_row1_col13\" class=\"data row1 col13\" >Peptide_0</td>\n",
       "            </tr>\n",
       "            <tr>\n",
       "                                <td id=\"T_57979_row2_col0\" class=\"data row2 col0\" >15</td>\n",
       "                        <td id=\"T_57979_row2_col1\" class=\"data row2 col1\" >None</td>\n",
       "                        <td id=\"T_57979_row2_col2\" class=\"data row2 col2\" >O</td>\n",
       "                        <td id=\"T_57979_row2_col3\" class=\"data row2 col3\" >O</td>\n",
       "                        <td id=\"T_57979_row2_col4\" class=\"data row2 col4\" >1</td>\n",
       "                        <td id=\"T_57979_row2_col5\" class=\"data row2 col5\" >2</td>\n",
       "                        <td id=\"T_57979_row2_col6\" class=\"data row2 col6\" >ALA</td>\n",
       "                        <td id=\"T_57979_row2_col7\" class=\"data row2 col7\" >aminoacid</td>\n",
       "                        <td id=\"T_57979_row2_col8\" class=\"data row2 col8\" >0</td>\n",
       "                        <td id=\"T_57979_row2_col9\" class=\"data row2 col9\" >0</td>\n",
       "                        <td id=\"T_57979_row2_col10\" class=\"data row2 col10\" >0</td>\n",
       "                        <td id=\"T_57979_row2_col11\" class=\"data row2 col11\" >peptide</td>\n",
       "                        <td id=\"T_57979_row2_col12\" class=\"data row2 col12\" >0</td>\n",
       "                        <td id=\"T_57979_row2_col13\" class=\"data row2 col13\" >Peptide_0</td>\n",
       "            </tr>\n",
       "            <tr>\n",
       "                                <td id=\"T_57979_row3_col0\" class=\"data row3 col0\" >20</td>\n",
       "                        <td id=\"T_57979_row3_col1\" class=\"data row3 col1\" >None</td>\n",
       "                        <td id=\"T_57979_row3_col2\" class=\"data row3 col2\" >CB</td>\n",
       "                        <td id=\"T_57979_row3_col3\" class=\"data row3 col3\" >C</td>\n",
       "                        <td id=\"T_57979_row3_col4\" class=\"data row3 col4\" >2</td>\n",
       "                        <td id=\"T_57979_row3_col5\" class=\"data row3 col5\" >3</td>\n",
       "                        <td id=\"T_57979_row3_col6\" class=\"data row3 col6\" >ALA</td>\n",
       "                        <td id=\"T_57979_row3_col7\" class=\"data row3 col7\" >aminoacid</td>\n",
       "                        <td id=\"T_57979_row3_col8\" class=\"data row3 col8\" >0</td>\n",
       "                        <td id=\"T_57979_row3_col9\" class=\"data row3 col9\" >0</td>\n",
       "                        <td id=\"T_57979_row3_col10\" class=\"data row3 col10\" >0</td>\n",
       "                        <td id=\"T_57979_row3_col11\" class=\"data row3 col11\" >peptide</td>\n",
       "                        <td id=\"T_57979_row3_col12\" class=\"data row3 col12\" >0</td>\n",
       "                        <td id=\"T_57979_row3_col13\" class=\"data row3 col13\" >Peptide_0</td>\n",
       "            </tr>\n",
       "            <tr>\n",
       "                                <td id=\"T_57979_row4_col0\" class=\"data row4 col0\" >25</td>\n",
       "                        <td id=\"T_57979_row4_col1\" class=\"data row4 col1\" >None</td>\n",
       "                        <td id=\"T_57979_row4_col2\" class=\"data row4 col2\" >O</td>\n",
       "                        <td id=\"T_57979_row4_col3\" class=\"data row4 col3\" >O</td>\n",
       "                        <td id=\"T_57979_row4_col4\" class=\"data row4 col4\" >2</td>\n",
       "                        <td id=\"T_57979_row4_col5\" class=\"data row4 col5\" >3</td>\n",
       "                        <td id=\"T_57979_row4_col6\" class=\"data row4 col6\" >ALA</td>\n",
       "                        <td id=\"T_57979_row4_col7\" class=\"data row4 col7\" >aminoacid</td>\n",
       "                        <td id=\"T_57979_row4_col8\" class=\"data row4 col8\" >0</td>\n",
       "                        <td id=\"T_57979_row4_col9\" class=\"data row4 col9\" >0</td>\n",
       "                        <td id=\"T_57979_row4_col10\" class=\"data row4 col10\" >0</td>\n",
       "                        <td id=\"T_57979_row4_col11\" class=\"data row4 col11\" >peptide</td>\n",
       "                        <td id=\"T_57979_row4_col12\" class=\"data row4 col12\" >0</td>\n",
       "                        <td id=\"T_57979_row4_col13\" class=\"data row4 col13\" >Peptide_0</td>\n",
       "            </tr>\n",
       "            <tr>\n",
       "                                <td id=\"T_57979_row5_col0\" class=\"data row5 col0\" >30</td>\n",
       "                        <td id=\"T_57979_row5_col1\" class=\"data row5 col1\" >None</td>\n",
       "                        <td id=\"T_57979_row5_col2\" class=\"data row5 col2\" >CB</td>\n",
       "                        <td id=\"T_57979_row5_col3\" class=\"data row5 col3\" >C</td>\n",
       "                        <td id=\"T_57979_row5_col4\" class=\"data row5 col4\" >3</td>\n",
       "                        <td id=\"T_57979_row5_col5\" class=\"data row5 col5\" >4</td>\n",
       "                        <td id=\"T_57979_row5_col6\" class=\"data row5 col6\" >ALA</td>\n",
       "                        <td id=\"T_57979_row5_col7\" class=\"data row5 col7\" >aminoacid</td>\n",
       "                        <td id=\"T_57979_row5_col8\" class=\"data row5 col8\" >0</td>\n",
       "                        <td id=\"T_57979_row5_col9\" class=\"data row5 col9\" >0</td>\n",
       "                        <td id=\"T_57979_row5_col10\" class=\"data row5 col10\" >0</td>\n",
       "                        <td id=\"T_57979_row5_col11\" class=\"data row5 col11\" >peptide</td>\n",
       "                        <td id=\"T_57979_row5_col12\" class=\"data row5 col12\" >0</td>\n",
       "                        <td id=\"T_57979_row5_col13\" class=\"data row5 col13\" >Peptide_0</td>\n",
       "            </tr>\n",
       "            <tr>\n",
       "                                <td id=\"T_57979_row6_col0\" class=\"data row6 col0\" >35</td>\n",
       "                        <td id=\"T_57979_row6_col1\" class=\"data row6 col1\" >None</td>\n",
       "                        <td id=\"T_57979_row6_col2\" class=\"data row6 col2\" >O</td>\n",
       "                        <td id=\"T_57979_row6_col3\" class=\"data row6 col3\" >O</td>\n",
       "                        <td id=\"T_57979_row6_col4\" class=\"data row6 col4\" >3</td>\n",
       "                        <td id=\"T_57979_row6_col5\" class=\"data row6 col5\" >4</td>\n",
       "                        <td id=\"T_57979_row6_col6\" class=\"data row6 col6\" >ALA</td>\n",
       "                        <td id=\"T_57979_row6_col7\" class=\"data row6 col7\" >aminoacid</td>\n",
       "                        <td id=\"T_57979_row6_col8\" class=\"data row6 col8\" >0</td>\n",
       "                        <td id=\"T_57979_row6_col9\" class=\"data row6 col9\" >0</td>\n",
       "                        <td id=\"T_57979_row6_col10\" class=\"data row6 col10\" >0</td>\n",
       "                        <td id=\"T_57979_row6_col11\" class=\"data row6 col11\" >peptide</td>\n",
       "                        <td id=\"T_57979_row6_col12\" class=\"data row6 col12\" >0</td>\n",
       "                        <td id=\"T_57979_row6_col13\" class=\"data row6 col13\" >Peptide_0</td>\n",
       "            </tr>\n",
       "            <tr>\n",
       "                                <td id=\"T_57979_row7_col0\" class=\"data row7 col0\" >40</td>\n",
       "                        <td id=\"T_57979_row7_col1\" class=\"data row7 col1\" >None</td>\n",
       "                        <td id=\"T_57979_row7_col2\" class=\"data row7 col2\" >CB</td>\n",
       "                        <td id=\"T_57979_row7_col3\" class=\"data row7 col3\" >C</td>\n",
       "                        <td id=\"T_57979_row7_col4\" class=\"data row7 col4\" >4</td>\n",
       "                        <td id=\"T_57979_row7_col5\" class=\"data row7 col5\" >5</td>\n",
       "                        <td id=\"T_57979_row7_col6\" class=\"data row7 col6\" >ALA</td>\n",
       "                        <td id=\"T_57979_row7_col7\" class=\"data row7 col7\" >aminoacid</td>\n",
       "                        <td id=\"T_57979_row7_col8\" class=\"data row7 col8\" >0</td>\n",
       "                        <td id=\"T_57979_row7_col9\" class=\"data row7 col9\" >0</td>\n",
       "                        <td id=\"T_57979_row7_col10\" class=\"data row7 col10\" >0</td>\n",
       "                        <td id=\"T_57979_row7_col11\" class=\"data row7 col11\" >peptide</td>\n",
       "                        <td id=\"T_57979_row7_col12\" class=\"data row7 col12\" >0</td>\n",
       "                        <td id=\"T_57979_row7_col13\" class=\"data row7 col13\" >Peptide_0</td>\n",
       "            </tr>\n",
       "            <tr>\n",
       "                                <td id=\"T_57979_row8_col0\" class=\"data row8 col0\" >45</td>\n",
       "                        <td id=\"T_57979_row8_col1\" class=\"data row8 col1\" >None</td>\n",
       "                        <td id=\"T_57979_row8_col2\" class=\"data row8 col2\" >O</td>\n",
       "                        <td id=\"T_57979_row8_col3\" class=\"data row8 col3\" >O</td>\n",
       "                        <td id=\"T_57979_row8_col4\" class=\"data row8 col4\" >4</td>\n",
       "                        <td id=\"T_57979_row8_col5\" class=\"data row8 col5\" >5</td>\n",
       "                        <td id=\"T_57979_row8_col6\" class=\"data row8 col6\" >ALA</td>\n",
       "                        <td id=\"T_57979_row8_col7\" class=\"data row8 col7\" >aminoacid</td>\n",
       "                        <td id=\"T_57979_row8_col8\" class=\"data row8 col8\" >0</td>\n",
       "                        <td id=\"T_57979_row8_col9\" class=\"data row8 col9\" >0</td>\n",
       "                        <td id=\"T_57979_row8_col10\" class=\"data row8 col10\" >0</td>\n",
       "                        <td id=\"T_57979_row8_col11\" class=\"data row8 col11\" >peptide</td>\n",
       "                        <td id=\"T_57979_row8_col12\" class=\"data row8 col12\" >0</td>\n",
       "                        <td id=\"T_57979_row8_col13\" class=\"data row8 col13\" >Peptide_0</td>\n",
       "            </tr>\n",
       "            <tr>\n",
       "                                <td id=\"T_57979_row9_col0\" class=\"data row9 col0\" >50</td>\n",
       "                        <td id=\"T_57979_row9_col1\" class=\"data row9 col1\" >None</td>\n",
       "                        <td id=\"T_57979_row9_col2\" class=\"data row9 col2\" >CB</td>\n",
       "                        <td id=\"T_57979_row9_col3\" class=\"data row9 col3\" >C</td>\n",
       "                        <td id=\"T_57979_row9_col4\" class=\"data row9 col4\" >5</td>\n",
       "                        <td id=\"T_57979_row9_col5\" class=\"data row9 col5\" >6</td>\n",
       "                        <td id=\"T_57979_row9_col6\" class=\"data row9 col6\" >ALA</td>\n",
       "                        <td id=\"T_57979_row9_col7\" class=\"data row9 col7\" >aminoacid</td>\n",
       "                        <td id=\"T_57979_row9_col8\" class=\"data row9 col8\" >0</td>\n",
       "                        <td id=\"T_57979_row9_col9\" class=\"data row9 col9\" >0</td>\n",
       "                        <td id=\"T_57979_row9_col10\" class=\"data row9 col10\" >0</td>\n",
       "                        <td id=\"T_57979_row9_col11\" class=\"data row9 col11\" >peptide</td>\n",
       "                        <td id=\"T_57979_row9_col12\" class=\"data row9 col12\" >0</td>\n",
       "                        <td id=\"T_57979_row9_col13\" class=\"data row9 col13\" >Peptide_0</td>\n",
       "            </tr>\n",
       "            <tr>\n",
       "                                <td id=\"T_57979_row10_col0\" class=\"data row10 col0\" >55</td>\n",
       "                        <td id=\"T_57979_row10_col1\" class=\"data row10 col1\" >None</td>\n",
       "                        <td id=\"T_57979_row10_col2\" class=\"data row10 col2\" >O</td>\n",
       "                        <td id=\"T_57979_row10_col3\" class=\"data row10 col3\" >O</td>\n",
       "                        <td id=\"T_57979_row10_col4\" class=\"data row10 col4\" >5</td>\n",
       "                        <td id=\"T_57979_row10_col5\" class=\"data row10 col5\" >6</td>\n",
       "                        <td id=\"T_57979_row10_col6\" class=\"data row10 col6\" >ALA</td>\n",
       "                        <td id=\"T_57979_row10_col7\" class=\"data row10 col7\" >aminoacid</td>\n",
       "                        <td id=\"T_57979_row10_col8\" class=\"data row10 col8\" >0</td>\n",
       "                        <td id=\"T_57979_row10_col9\" class=\"data row10 col9\" >0</td>\n",
       "                        <td id=\"T_57979_row10_col10\" class=\"data row10 col10\" >0</td>\n",
       "                        <td id=\"T_57979_row10_col11\" class=\"data row10 col11\" >peptide</td>\n",
       "                        <td id=\"T_57979_row10_col12\" class=\"data row10 col12\" >0</td>\n",
       "                        <td id=\"T_57979_row10_col13\" class=\"data row10 col13\" >Peptide_0</td>\n",
       "            </tr>\n",
       "            <tr>\n",
       "                                <td id=\"T_57979_row11_col0\" class=\"data row11 col0\" >56</td>\n",
       "                        <td id=\"T_57979_row11_col1\" class=\"data row11 col1\" >None</td>\n",
       "                        <td id=\"T_57979_row11_col2\" class=\"data row11 col2\" >N</td>\n",
       "                        <td id=\"T_57979_row11_col3\" class=\"data row11 col3\" >N</td>\n",
       "                        <td id=\"T_57979_row11_col4\" class=\"data row11 col4\" >6</td>\n",
       "                        <td id=\"T_57979_row11_col5\" class=\"data row11 col5\" >7</td>\n",
       "                        <td id=\"T_57979_row11_col6\" class=\"data row11 col6\" >NME</td>\n",
       "                        <td id=\"T_57979_row11_col7\" class=\"data row11 col7\" >aminoacid</td>\n",
       "                        <td id=\"T_57979_row11_col8\" class=\"data row11 col8\" >0</td>\n",
       "                        <td id=\"T_57979_row11_col9\" class=\"data row11 col9\" >0</td>\n",
       "                        <td id=\"T_57979_row11_col10\" class=\"data row11 col10\" >0</td>\n",
       "                        <td id=\"T_57979_row11_col11\" class=\"data row11 col11\" >peptide</td>\n",
       "                        <td id=\"T_57979_row11_col12\" class=\"data row11 col12\" >0</td>\n",
       "                        <td id=\"T_57979_row11_col13\" class=\"data row11 col13\" >Peptide_0</td>\n",
       "            </tr>\n",
       "    </tbody></table>"
      ],
      "text/plain": [
       "<pandas.io.formats.style.Styler at 0x7f4c2629b3d0>"
      ]
     },
     "execution_count": 1,
     "metadata": {},
     "output_type": "execute_result"
    }
   ],
   "source": [
    "msm.info(molecular_system, target='atom', selection='@acceptors')"
   ]
  },
  {
   "cell_type": "code",
   "execution_count": 13,
   "metadata": {
    "execution": {
     "iopub.execute_input": "2021-05-25T23:33:09.118328Z",
     "iopub.status.busy": "2021-05-25T23:33:09.117184Z",
     "iopub.status.idle": "2021-05-25T23:33:09.152382Z",
     "shell.execute_reply": "2021-05-25T23:33:09.153283Z"
    }
   },
   "outputs": [
    {
     "data": {
      "text/plain": [
       "array([1, 6, 8, ..., 50, 56, 58], dtype=object)"
      ]
     },
     "execution_count": 1,
     "metadata": {},
     "output_type": "execute_result"
    }
   ],
   "source": [
    "msm.select(molecular_system, selection=\"all bonded to atom_type=='H'\")"
   ]
  },
  {
   "cell_type": "code",
   "execution_count": 14,
   "metadata": {
    "execution": {
     "iopub.execute_input": "2021-05-25T23:33:09.160570Z",
     "iopub.status.busy": "2021-05-25T23:33:09.157695Z",
     "iopub.status.idle": "2021-05-25T23:33:09.205689Z",
     "shell.execute_reply": "2021-05-25T23:33:09.206518Z"
    }
   },
   "outputs": [],
   "source": [
    "acceptors=msm.hbonds.get_acceptor_atoms(molecular_system,\n",
    "                                        default_inclusion_rules=False, default_exclusion_rules=False,\n",
    "                                        inclusion_rules=[\"atom_type=='C'\"],\n",
    "                                        exclusion_rules=[\"all bonded to atom_type=='H'\"])"
   ]
  },
  {
   "cell_type": "code",
   "execution_count": 15,
   "metadata": {
    "execution": {
     "iopub.execute_input": "2021-05-25T23:33:09.211634Z",
     "iopub.status.busy": "2021-05-25T23:33:09.210570Z",
     "iopub.status.idle": "2021-05-25T23:33:09.259084Z",
     "shell.execute_reply": "2021-05-25T23:33:09.259979Z"
    }
   },
   "outputs": [
    {
     "data": {
      "text/html": [
       "<style  type=\"text/css\" >\n",
       "</style><table id=\"T_739f2_\" ><thead>    <tr>        <th class=\"col_heading level0 col0\" >index</th>        <th class=\"col_heading level0 col1\" >id</th>        <th class=\"col_heading level0 col2\" >name</th>        <th class=\"col_heading level0 col3\" >type</th>        <th class=\"col_heading level0 col4\" >group index</th>        <th class=\"col_heading level0 col5\" >group id</th>        <th class=\"col_heading level0 col6\" >group name</th>        <th class=\"col_heading level0 col7\" >group type</th>        <th class=\"col_heading level0 col8\" >component index</th>        <th class=\"col_heading level0 col9\" >chain index</th>        <th class=\"col_heading level0 col10\" >molecule index</th>        <th class=\"col_heading level0 col11\" >molecule type</th>        <th class=\"col_heading level0 col12\" >entity index</th>        <th class=\"col_heading level0 col13\" >entity name</th>    </tr></thead><tbody>\n",
       "                <tr>\n",
       "                                <td id=\"T_739f2_row0_col0\" class=\"data row0 col0\" >4</td>\n",
       "                        <td id=\"T_739f2_row0_col1\" class=\"data row0 col1\" >None</td>\n",
       "                        <td id=\"T_739f2_row0_col2\" class=\"data row0 col2\" >C</td>\n",
       "                        <td id=\"T_739f2_row0_col3\" class=\"data row0 col3\" >C</td>\n",
       "                        <td id=\"T_739f2_row0_col4\" class=\"data row0 col4\" >0</td>\n",
       "                        <td id=\"T_739f2_row0_col5\" class=\"data row0 col5\" >1</td>\n",
       "                        <td id=\"T_739f2_row0_col6\" class=\"data row0 col6\" >ACE</td>\n",
       "                        <td id=\"T_739f2_row0_col7\" class=\"data row0 col7\" >aminoacid</td>\n",
       "                        <td id=\"T_739f2_row0_col8\" class=\"data row0 col8\" >0</td>\n",
       "                        <td id=\"T_739f2_row0_col9\" class=\"data row0 col9\" >0</td>\n",
       "                        <td id=\"T_739f2_row0_col10\" class=\"data row0 col10\" >0</td>\n",
       "                        <td id=\"T_739f2_row0_col11\" class=\"data row0 col11\" >peptide</td>\n",
       "                        <td id=\"T_739f2_row0_col12\" class=\"data row0 col12\" >0</td>\n",
       "                        <td id=\"T_739f2_row0_col13\" class=\"data row0 col13\" >Peptide_0</td>\n",
       "            </tr>\n",
       "            <tr>\n",
       "                                <td id=\"T_739f2_row1_col0\" class=\"data row1 col0\" >14</td>\n",
       "                        <td id=\"T_739f2_row1_col1\" class=\"data row1 col1\" >None</td>\n",
       "                        <td id=\"T_739f2_row1_col2\" class=\"data row1 col2\" >C</td>\n",
       "                        <td id=\"T_739f2_row1_col3\" class=\"data row1 col3\" >C</td>\n",
       "                        <td id=\"T_739f2_row1_col4\" class=\"data row1 col4\" >1</td>\n",
       "                        <td id=\"T_739f2_row1_col5\" class=\"data row1 col5\" >2</td>\n",
       "                        <td id=\"T_739f2_row1_col6\" class=\"data row1 col6\" >ALA</td>\n",
       "                        <td id=\"T_739f2_row1_col7\" class=\"data row1 col7\" >aminoacid</td>\n",
       "                        <td id=\"T_739f2_row1_col8\" class=\"data row1 col8\" >0</td>\n",
       "                        <td id=\"T_739f2_row1_col9\" class=\"data row1 col9\" >0</td>\n",
       "                        <td id=\"T_739f2_row1_col10\" class=\"data row1 col10\" >0</td>\n",
       "                        <td id=\"T_739f2_row1_col11\" class=\"data row1 col11\" >peptide</td>\n",
       "                        <td id=\"T_739f2_row1_col12\" class=\"data row1 col12\" >0</td>\n",
       "                        <td id=\"T_739f2_row1_col13\" class=\"data row1 col13\" >Peptide_0</td>\n",
       "            </tr>\n",
       "            <tr>\n",
       "                                <td id=\"T_739f2_row2_col0\" class=\"data row2 col0\" >24</td>\n",
       "                        <td id=\"T_739f2_row2_col1\" class=\"data row2 col1\" >None</td>\n",
       "                        <td id=\"T_739f2_row2_col2\" class=\"data row2 col2\" >C</td>\n",
       "                        <td id=\"T_739f2_row2_col3\" class=\"data row2 col3\" >C</td>\n",
       "                        <td id=\"T_739f2_row2_col4\" class=\"data row2 col4\" >2</td>\n",
       "                        <td id=\"T_739f2_row2_col5\" class=\"data row2 col5\" >3</td>\n",
       "                        <td id=\"T_739f2_row2_col6\" class=\"data row2 col6\" >ALA</td>\n",
       "                        <td id=\"T_739f2_row2_col7\" class=\"data row2 col7\" >aminoacid</td>\n",
       "                        <td id=\"T_739f2_row2_col8\" class=\"data row2 col8\" >0</td>\n",
       "                        <td id=\"T_739f2_row2_col9\" class=\"data row2 col9\" >0</td>\n",
       "                        <td id=\"T_739f2_row2_col10\" class=\"data row2 col10\" >0</td>\n",
       "                        <td id=\"T_739f2_row2_col11\" class=\"data row2 col11\" >peptide</td>\n",
       "                        <td id=\"T_739f2_row2_col12\" class=\"data row2 col12\" >0</td>\n",
       "                        <td id=\"T_739f2_row2_col13\" class=\"data row2 col13\" >Peptide_0</td>\n",
       "            </tr>\n",
       "            <tr>\n",
       "                                <td id=\"T_739f2_row3_col0\" class=\"data row3 col0\" >34</td>\n",
       "                        <td id=\"T_739f2_row3_col1\" class=\"data row3 col1\" >None</td>\n",
       "                        <td id=\"T_739f2_row3_col2\" class=\"data row3 col2\" >C</td>\n",
       "                        <td id=\"T_739f2_row3_col3\" class=\"data row3 col3\" >C</td>\n",
       "                        <td id=\"T_739f2_row3_col4\" class=\"data row3 col4\" >3</td>\n",
       "                        <td id=\"T_739f2_row3_col5\" class=\"data row3 col5\" >4</td>\n",
       "                        <td id=\"T_739f2_row3_col6\" class=\"data row3 col6\" >ALA</td>\n",
       "                        <td id=\"T_739f2_row3_col7\" class=\"data row3 col7\" >aminoacid</td>\n",
       "                        <td id=\"T_739f2_row3_col8\" class=\"data row3 col8\" >0</td>\n",
       "                        <td id=\"T_739f2_row3_col9\" class=\"data row3 col9\" >0</td>\n",
       "                        <td id=\"T_739f2_row3_col10\" class=\"data row3 col10\" >0</td>\n",
       "                        <td id=\"T_739f2_row3_col11\" class=\"data row3 col11\" >peptide</td>\n",
       "                        <td id=\"T_739f2_row3_col12\" class=\"data row3 col12\" >0</td>\n",
       "                        <td id=\"T_739f2_row3_col13\" class=\"data row3 col13\" >Peptide_0</td>\n",
       "            </tr>\n",
       "            <tr>\n",
       "                                <td id=\"T_739f2_row4_col0\" class=\"data row4 col0\" >44</td>\n",
       "                        <td id=\"T_739f2_row4_col1\" class=\"data row4 col1\" >None</td>\n",
       "                        <td id=\"T_739f2_row4_col2\" class=\"data row4 col2\" >C</td>\n",
       "                        <td id=\"T_739f2_row4_col3\" class=\"data row4 col3\" >C</td>\n",
       "                        <td id=\"T_739f2_row4_col4\" class=\"data row4 col4\" >4</td>\n",
       "                        <td id=\"T_739f2_row4_col5\" class=\"data row4 col5\" >5</td>\n",
       "                        <td id=\"T_739f2_row4_col6\" class=\"data row4 col6\" >ALA</td>\n",
       "                        <td id=\"T_739f2_row4_col7\" class=\"data row4 col7\" >aminoacid</td>\n",
       "                        <td id=\"T_739f2_row4_col8\" class=\"data row4 col8\" >0</td>\n",
       "                        <td id=\"T_739f2_row4_col9\" class=\"data row4 col9\" >0</td>\n",
       "                        <td id=\"T_739f2_row4_col10\" class=\"data row4 col10\" >0</td>\n",
       "                        <td id=\"T_739f2_row4_col11\" class=\"data row4 col11\" >peptide</td>\n",
       "                        <td id=\"T_739f2_row4_col12\" class=\"data row4 col12\" >0</td>\n",
       "                        <td id=\"T_739f2_row4_col13\" class=\"data row4 col13\" >Peptide_0</td>\n",
       "            </tr>\n",
       "            <tr>\n",
       "                                <td id=\"T_739f2_row5_col0\" class=\"data row5 col0\" >54</td>\n",
       "                        <td id=\"T_739f2_row5_col1\" class=\"data row5 col1\" >None</td>\n",
       "                        <td id=\"T_739f2_row5_col2\" class=\"data row5 col2\" >C</td>\n",
       "                        <td id=\"T_739f2_row5_col3\" class=\"data row5 col3\" >C</td>\n",
       "                        <td id=\"T_739f2_row5_col4\" class=\"data row5 col4\" >5</td>\n",
       "                        <td id=\"T_739f2_row5_col5\" class=\"data row5 col5\" >6</td>\n",
       "                        <td id=\"T_739f2_row5_col6\" class=\"data row5 col6\" >ALA</td>\n",
       "                        <td id=\"T_739f2_row5_col7\" class=\"data row5 col7\" >aminoacid</td>\n",
       "                        <td id=\"T_739f2_row5_col8\" class=\"data row5 col8\" >0</td>\n",
       "                        <td id=\"T_739f2_row5_col9\" class=\"data row5 col9\" >0</td>\n",
       "                        <td id=\"T_739f2_row5_col10\" class=\"data row5 col10\" >0</td>\n",
       "                        <td id=\"T_739f2_row5_col11\" class=\"data row5 col11\" >peptide</td>\n",
       "                        <td id=\"T_739f2_row5_col12\" class=\"data row5 col12\" >0</td>\n",
       "                        <td id=\"T_739f2_row5_col13\" class=\"data row5 col13\" >Peptide_0</td>\n",
       "            </tr>\n",
       "    </tbody></table>"
      ],
      "text/plain": [
       "<pandas.io.formats.style.Styler at 0x7f4c26e8ee50>"
      ]
     },
     "execution_count": 1,
     "metadata": {},
     "output_type": "execute_result"
    }
   ],
   "source": [
    "msm.info(molecular_system, target='atom', selection='@acceptors')"
   ]
  },
  {
   "cell_type": "markdown",
   "metadata": {},
   "source": [
    "## Donor atoms"
   ]
  },
  {
   "cell_type": "code",
   "execution_count": 16,
   "metadata": {
    "execution": {
     "iopub.execute_input": "2021-05-25T23:33:09.267377Z",
     "iopub.status.busy": "2021-05-25T23:33:09.266228Z",
     "iopub.status.idle": "2021-05-25T23:33:09.281789Z",
     "shell.execute_reply": "2021-05-25T23:33:09.282474Z"
    }
   },
   "outputs": [
    {
     "data": {
      "text/plain": [
       "[\"(atom_type=='O') bonded to (atom_type=='H')\",\n",
       " \"(atom_type=='N') bonded to (atom_type=='H')\"]"
      ]
     },
     "execution_count": 1,
     "metadata": {},
     "output_type": "execute_result"
    }
   ],
   "source": [
    "msm.hbonds.donor_inclusion_rules"
   ]
  },
  {
   "cell_type": "code",
   "execution_count": 17,
   "metadata": {
    "execution": {
     "iopub.execute_input": "2021-05-25T23:33:09.286376Z",
     "iopub.status.busy": "2021-05-25T23:33:09.285558Z",
     "iopub.status.idle": "2021-05-25T23:33:09.302779Z",
     "shell.execute_reply": "2021-05-25T23:33:09.303545Z"
    }
   },
   "outputs": [
    {
     "data": {
      "text/plain": [
       "[\"(atom_name=='NE2') not bonded to (atom_type=='H')\",\n",
       " \"(atom_name=='ND1') not bonded to (atom_type=='H')\"]"
      ]
     },
     "execution_count": 1,
     "metadata": {},
     "output_type": "execute_result"
    }
   ],
   "source": [
    "msm.hbonds.donor_exclusion_rules"
   ]
  },
  {
   "cell_type": "code",
   "execution_count": 18,
   "metadata": {
    "execution": {
     "iopub.execute_input": "2021-05-25T23:33:09.311131Z",
     "iopub.status.busy": "2021-05-25T23:33:09.310215Z",
     "iopub.status.idle": "2021-05-25T23:33:09.466583Z",
     "shell.execute_reply": "2021-05-25T23:33:09.467496Z"
    }
   },
   "outputs": [],
   "source": [
    "donors = msm.hbonds.get_donor_atoms(molecular_system)"
   ]
  },
  {
   "cell_type": "code",
   "execution_count": 19,
   "metadata": {
    "execution": {
     "iopub.execute_input": "2021-05-25T23:33:09.472166Z",
     "iopub.status.busy": "2021-05-25T23:33:09.471101Z",
     "iopub.status.idle": "2021-05-25T23:33:09.488376Z",
     "shell.execute_reply": "2021-05-25T23:33:09.489291Z"
    }
   },
   "outputs": [
    {
     "data": {
      "text/plain": [
       "array([[ 6,  7],\n",
       "       [16, 17],\n",
       "       [26, 27],\n",
       "       [36, 37],\n",
       "       [46, 47],\n",
       "       [56, 57]])"
      ]
     },
     "execution_count": 1,
     "metadata": {},
     "output_type": "execute_result"
    }
   ],
   "source": [
    "donors"
   ]
  },
  {
   "cell_type": "code",
   "execution_count": 20,
   "metadata": {
    "execution": {
     "iopub.execute_input": "2021-05-25T23:33:09.493755Z",
     "iopub.status.busy": "2021-05-25T23:33:09.493009Z",
     "iopub.status.idle": "2021-05-25T23:33:09.548812Z",
     "shell.execute_reply": "2021-05-25T23:33:09.549591Z"
    }
   },
   "outputs": [
    {
     "data": {
      "text/html": [
       "<style  type=\"text/css\" >\n",
       "</style><table id=\"T_27028_\" ><thead>    <tr>        <th class=\"col_heading level0 col0\" >index</th>        <th class=\"col_heading level0 col1\" >id</th>        <th class=\"col_heading level0 col2\" >name</th>        <th class=\"col_heading level0 col3\" >type</th>        <th class=\"col_heading level0 col4\" >group index</th>        <th class=\"col_heading level0 col5\" >group id</th>        <th class=\"col_heading level0 col6\" >group name</th>        <th class=\"col_heading level0 col7\" >group type</th>        <th class=\"col_heading level0 col8\" >component index</th>        <th class=\"col_heading level0 col9\" >chain index</th>        <th class=\"col_heading level0 col10\" >molecule index</th>        <th class=\"col_heading level0 col11\" >molecule type</th>        <th class=\"col_heading level0 col12\" >entity index</th>        <th class=\"col_heading level0 col13\" >entity name</th>    </tr></thead><tbody>\n",
       "                <tr>\n",
       "                                <td id=\"T_27028_row0_col0\" class=\"data row0 col0\" >6</td>\n",
       "                        <td id=\"T_27028_row0_col1\" class=\"data row0 col1\" >None</td>\n",
       "                        <td id=\"T_27028_row0_col2\" class=\"data row0 col2\" >N</td>\n",
       "                        <td id=\"T_27028_row0_col3\" class=\"data row0 col3\" >N</td>\n",
       "                        <td id=\"T_27028_row0_col4\" class=\"data row0 col4\" >1</td>\n",
       "                        <td id=\"T_27028_row0_col5\" class=\"data row0 col5\" >2</td>\n",
       "                        <td id=\"T_27028_row0_col6\" class=\"data row0 col6\" >ALA</td>\n",
       "                        <td id=\"T_27028_row0_col7\" class=\"data row0 col7\" >aminoacid</td>\n",
       "                        <td id=\"T_27028_row0_col8\" class=\"data row0 col8\" >0</td>\n",
       "                        <td id=\"T_27028_row0_col9\" class=\"data row0 col9\" >0</td>\n",
       "                        <td id=\"T_27028_row0_col10\" class=\"data row0 col10\" >0</td>\n",
       "                        <td id=\"T_27028_row0_col11\" class=\"data row0 col11\" >peptide</td>\n",
       "                        <td id=\"T_27028_row0_col12\" class=\"data row0 col12\" >0</td>\n",
       "                        <td id=\"T_27028_row0_col13\" class=\"data row0 col13\" >Peptide_0</td>\n",
       "            </tr>\n",
       "            <tr>\n",
       "                                <td id=\"T_27028_row1_col0\" class=\"data row1 col0\" >7</td>\n",
       "                        <td id=\"T_27028_row1_col1\" class=\"data row1 col1\" >None</td>\n",
       "                        <td id=\"T_27028_row1_col2\" class=\"data row1 col2\" >H</td>\n",
       "                        <td id=\"T_27028_row1_col3\" class=\"data row1 col3\" >H</td>\n",
       "                        <td id=\"T_27028_row1_col4\" class=\"data row1 col4\" >1</td>\n",
       "                        <td id=\"T_27028_row1_col5\" class=\"data row1 col5\" >2</td>\n",
       "                        <td id=\"T_27028_row1_col6\" class=\"data row1 col6\" >ALA</td>\n",
       "                        <td id=\"T_27028_row1_col7\" class=\"data row1 col7\" >aminoacid</td>\n",
       "                        <td id=\"T_27028_row1_col8\" class=\"data row1 col8\" >0</td>\n",
       "                        <td id=\"T_27028_row1_col9\" class=\"data row1 col9\" >0</td>\n",
       "                        <td id=\"T_27028_row1_col10\" class=\"data row1 col10\" >0</td>\n",
       "                        <td id=\"T_27028_row1_col11\" class=\"data row1 col11\" >peptide</td>\n",
       "                        <td id=\"T_27028_row1_col12\" class=\"data row1 col12\" >0</td>\n",
       "                        <td id=\"T_27028_row1_col13\" class=\"data row1 col13\" >Peptide_0</td>\n",
       "            </tr>\n",
       "    </tbody></table>"
      ],
      "text/plain": [
       "<pandas.io.formats.style.Styler at 0x7f4c26032dd0>"
      ]
     },
     "execution_count": 1,
     "metadata": {},
     "output_type": "execute_result"
    }
   ],
   "source": [
    "msm.info(molecular_system, target='atom', selection='@donors[0]')"
   ]
  },
  {
   "cell_type": "code",
   "execution_count": 21,
   "metadata": {
    "execution": {
     "iopub.execute_input": "2021-05-25T23:33:09.555122Z",
     "iopub.status.busy": "2021-05-25T23:33:09.554194Z",
     "iopub.status.idle": "2021-05-25T23:33:09.570329Z",
     "shell.execute_reply": "2021-05-25T23:33:09.569515Z"
    }
   },
   "outputs": [],
   "source": [
    "donors_heavy_atom=donors[:,0]"
   ]
  },
  {
   "cell_type": "code",
   "execution_count": 22,
   "metadata": {
    "execution": {
     "iopub.execute_input": "2021-05-25T23:33:09.574942Z",
     "iopub.status.busy": "2021-05-25T23:33:09.573961Z",
     "iopub.status.idle": "2021-05-25T23:33:09.622866Z",
     "shell.execute_reply": "2021-05-25T23:33:09.623741Z"
    }
   },
   "outputs": [
    {
     "data": {
      "text/html": [
       "<style  type=\"text/css\" >\n",
       "</style><table id=\"T_bcac1_\" ><thead>    <tr>        <th class=\"col_heading level0 col0\" >index</th>        <th class=\"col_heading level0 col1\" >id</th>        <th class=\"col_heading level0 col2\" >name</th>        <th class=\"col_heading level0 col3\" >type</th>        <th class=\"col_heading level0 col4\" >group index</th>        <th class=\"col_heading level0 col5\" >group id</th>        <th class=\"col_heading level0 col6\" >group name</th>        <th class=\"col_heading level0 col7\" >group type</th>        <th class=\"col_heading level0 col8\" >component index</th>        <th class=\"col_heading level0 col9\" >chain index</th>        <th class=\"col_heading level0 col10\" >molecule index</th>        <th class=\"col_heading level0 col11\" >molecule type</th>        <th class=\"col_heading level0 col12\" >entity index</th>        <th class=\"col_heading level0 col13\" >entity name</th>    </tr></thead><tbody>\n",
       "                <tr>\n",
       "                                <td id=\"T_bcac1_row0_col0\" class=\"data row0 col0\" >6</td>\n",
       "                        <td id=\"T_bcac1_row0_col1\" class=\"data row0 col1\" >None</td>\n",
       "                        <td id=\"T_bcac1_row0_col2\" class=\"data row0 col2\" >N</td>\n",
       "                        <td id=\"T_bcac1_row0_col3\" class=\"data row0 col3\" >N</td>\n",
       "                        <td id=\"T_bcac1_row0_col4\" class=\"data row0 col4\" >1</td>\n",
       "                        <td id=\"T_bcac1_row0_col5\" class=\"data row0 col5\" >2</td>\n",
       "                        <td id=\"T_bcac1_row0_col6\" class=\"data row0 col6\" >ALA</td>\n",
       "                        <td id=\"T_bcac1_row0_col7\" class=\"data row0 col7\" >aminoacid</td>\n",
       "                        <td id=\"T_bcac1_row0_col8\" class=\"data row0 col8\" >0</td>\n",
       "                        <td id=\"T_bcac1_row0_col9\" class=\"data row0 col9\" >0</td>\n",
       "                        <td id=\"T_bcac1_row0_col10\" class=\"data row0 col10\" >0</td>\n",
       "                        <td id=\"T_bcac1_row0_col11\" class=\"data row0 col11\" >peptide</td>\n",
       "                        <td id=\"T_bcac1_row0_col12\" class=\"data row0 col12\" >0</td>\n",
       "                        <td id=\"T_bcac1_row0_col13\" class=\"data row0 col13\" >Peptide_0</td>\n",
       "            </tr>\n",
       "            <tr>\n",
       "                                <td id=\"T_bcac1_row1_col0\" class=\"data row1 col0\" >16</td>\n",
       "                        <td id=\"T_bcac1_row1_col1\" class=\"data row1 col1\" >None</td>\n",
       "                        <td id=\"T_bcac1_row1_col2\" class=\"data row1 col2\" >N</td>\n",
       "                        <td id=\"T_bcac1_row1_col3\" class=\"data row1 col3\" >N</td>\n",
       "                        <td id=\"T_bcac1_row1_col4\" class=\"data row1 col4\" >2</td>\n",
       "                        <td id=\"T_bcac1_row1_col5\" class=\"data row1 col5\" >3</td>\n",
       "                        <td id=\"T_bcac1_row1_col6\" class=\"data row1 col6\" >ALA</td>\n",
       "                        <td id=\"T_bcac1_row1_col7\" class=\"data row1 col7\" >aminoacid</td>\n",
       "                        <td id=\"T_bcac1_row1_col8\" class=\"data row1 col8\" >0</td>\n",
       "                        <td id=\"T_bcac1_row1_col9\" class=\"data row1 col9\" >0</td>\n",
       "                        <td id=\"T_bcac1_row1_col10\" class=\"data row1 col10\" >0</td>\n",
       "                        <td id=\"T_bcac1_row1_col11\" class=\"data row1 col11\" >peptide</td>\n",
       "                        <td id=\"T_bcac1_row1_col12\" class=\"data row1 col12\" >0</td>\n",
       "                        <td id=\"T_bcac1_row1_col13\" class=\"data row1 col13\" >Peptide_0</td>\n",
       "            </tr>\n",
       "            <tr>\n",
       "                                <td id=\"T_bcac1_row2_col0\" class=\"data row2 col0\" >26</td>\n",
       "                        <td id=\"T_bcac1_row2_col1\" class=\"data row2 col1\" >None</td>\n",
       "                        <td id=\"T_bcac1_row2_col2\" class=\"data row2 col2\" >N</td>\n",
       "                        <td id=\"T_bcac1_row2_col3\" class=\"data row2 col3\" >N</td>\n",
       "                        <td id=\"T_bcac1_row2_col4\" class=\"data row2 col4\" >3</td>\n",
       "                        <td id=\"T_bcac1_row2_col5\" class=\"data row2 col5\" >4</td>\n",
       "                        <td id=\"T_bcac1_row2_col6\" class=\"data row2 col6\" >ALA</td>\n",
       "                        <td id=\"T_bcac1_row2_col7\" class=\"data row2 col7\" >aminoacid</td>\n",
       "                        <td id=\"T_bcac1_row2_col8\" class=\"data row2 col8\" >0</td>\n",
       "                        <td id=\"T_bcac1_row2_col9\" class=\"data row2 col9\" >0</td>\n",
       "                        <td id=\"T_bcac1_row2_col10\" class=\"data row2 col10\" >0</td>\n",
       "                        <td id=\"T_bcac1_row2_col11\" class=\"data row2 col11\" >peptide</td>\n",
       "                        <td id=\"T_bcac1_row2_col12\" class=\"data row2 col12\" >0</td>\n",
       "                        <td id=\"T_bcac1_row2_col13\" class=\"data row2 col13\" >Peptide_0</td>\n",
       "            </tr>\n",
       "            <tr>\n",
       "                                <td id=\"T_bcac1_row3_col0\" class=\"data row3 col0\" >36</td>\n",
       "                        <td id=\"T_bcac1_row3_col1\" class=\"data row3 col1\" >None</td>\n",
       "                        <td id=\"T_bcac1_row3_col2\" class=\"data row3 col2\" >N</td>\n",
       "                        <td id=\"T_bcac1_row3_col3\" class=\"data row3 col3\" >N</td>\n",
       "                        <td id=\"T_bcac1_row3_col4\" class=\"data row3 col4\" >4</td>\n",
       "                        <td id=\"T_bcac1_row3_col5\" class=\"data row3 col5\" >5</td>\n",
       "                        <td id=\"T_bcac1_row3_col6\" class=\"data row3 col6\" >ALA</td>\n",
       "                        <td id=\"T_bcac1_row3_col7\" class=\"data row3 col7\" >aminoacid</td>\n",
       "                        <td id=\"T_bcac1_row3_col8\" class=\"data row3 col8\" >0</td>\n",
       "                        <td id=\"T_bcac1_row3_col9\" class=\"data row3 col9\" >0</td>\n",
       "                        <td id=\"T_bcac1_row3_col10\" class=\"data row3 col10\" >0</td>\n",
       "                        <td id=\"T_bcac1_row3_col11\" class=\"data row3 col11\" >peptide</td>\n",
       "                        <td id=\"T_bcac1_row3_col12\" class=\"data row3 col12\" >0</td>\n",
       "                        <td id=\"T_bcac1_row3_col13\" class=\"data row3 col13\" >Peptide_0</td>\n",
       "            </tr>\n",
       "            <tr>\n",
       "                                <td id=\"T_bcac1_row4_col0\" class=\"data row4 col0\" >46</td>\n",
       "                        <td id=\"T_bcac1_row4_col1\" class=\"data row4 col1\" >None</td>\n",
       "                        <td id=\"T_bcac1_row4_col2\" class=\"data row4 col2\" >N</td>\n",
       "                        <td id=\"T_bcac1_row4_col3\" class=\"data row4 col3\" >N</td>\n",
       "                        <td id=\"T_bcac1_row4_col4\" class=\"data row4 col4\" >5</td>\n",
       "                        <td id=\"T_bcac1_row4_col5\" class=\"data row4 col5\" >6</td>\n",
       "                        <td id=\"T_bcac1_row4_col6\" class=\"data row4 col6\" >ALA</td>\n",
       "                        <td id=\"T_bcac1_row4_col7\" class=\"data row4 col7\" >aminoacid</td>\n",
       "                        <td id=\"T_bcac1_row4_col8\" class=\"data row4 col8\" >0</td>\n",
       "                        <td id=\"T_bcac1_row4_col9\" class=\"data row4 col9\" >0</td>\n",
       "                        <td id=\"T_bcac1_row4_col10\" class=\"data row4 col10\" >0</td>\n",
       "                        <td id=\"T_bcac1_row4_col11\" class=\"data row4 col11\" >peptide</td>\n",
       "                        <td id=\"T_bcac1_row4_col12\" class=\"data row4 col12\" >0</td>\n",
       "                        <td id=\"T_bcac1_row4_col13\" class=\"data row4 col13\" >Peptide_0</td>\n",
       "            </tr>\n",
       "            <tr>\n",
       "                                <td id=\"T_bcac1_row5_col0\" class=\"data row5 col0\" >56</td>\n",
       "                        <td id=\"T_bcac1_row5_col1\" class=\"data row5 col1\" >None</td>\n",
       "                        <td id=\"T_bcac1_row5_col2\" class=\"data row5 col2\" >N</td>\n",
       "                        <td id=\"T_bcac1_row5_col3\" class=\"data row5 col3\" >N</td>\n",
       "                        <td id=\"T_bcac1_row5_col4\" class=\"data row5 col4\" >6</td>\n",
       "                        <td id=\"T_bcac1_row5_col5\" class=\"data row5 col5\" >7</td>\n",
       "                        <td id=\"T_bcac1_row5_col6\" class=\"data row5 col6\" >NME</td>\n",
       "                        <td id=\"T_bcac1_row5_col7\" class=\"data row5 col7\" >aminoacid</td>\n",
       "                        <td id=\"T_bcac1_row5_col8\" class=\"data row5 col8\" >0</td>\n",
       "                        <td id=\"T_bcac1_row5_col9\" class=\"data row5 col9\" >0</td>\n",
       "                        <td id=\"T_bcac1_row5_col10\" class=\"data row5 col10\" >0</td>\n",
       "                        <td id=\"T_bcac1_row5_col11\" class=\"data row5 col11\" >peptide</td>\n",
       "                        <td id=\"T_bcac1_row5_col12\" class=\"data row5 col12\" >0</td>\n",
       "                        <td id=\"T_bcac1_row5_col13\" class=\"data row5 col13\" >Peptide_0</td>\n",
       "            </tr>\n",
       "    </tbody></table>"
      ],
      "text/plain": [
       "<pandas.io.formats.style.Styler at 0x7f4c262ba4d0>"
      ]
     },
     "execution_count": 1,
     "metadata": {},
     "output_type": "execute_result"
    }
   ],
   "source": [
    "msm.info(molecular_system, target='atom', selection='@donors_heavy_atom')"
   ]
  },
  {
   "cell_type": "markdown",
   "metadata": {},
   "source": [
    "# Buch"
   ]
  },
  {
   "cell_type": "code",
   "execution_count": 23,
   "metadata": {
    "execution": {
     "iopub.execute_input": "2021-05-25T23:33:09.628587Z",
     "iopub.status.busy": "2021-05-25T23:33:09.627507Z",
     "iopub.status.idle": "2021-05-25T23:33:11.304863Z",
     "shell.execute_reply": "2021-05-25T23:33:11.305733Z"
    }
   },
   "outputs": [],
   "source": [
    "hbonds = msm.hbonds.buch(molecular_system)"
   ]
  },
  {
   "cell_type": "code",
   "execution_count": 24,
   "metadata": {
    "execution": {
     "iopub.execute_input": "2021-05-25T23:33:11.310569Z",
     "iopub.status.busy": "2021-05-25T23:33:11.309595Z",
     "iopub.status.idle": "2021-05-25T23:33:11.329481Z",
     "shell.execute_reply": "2021-05-25T23:33:11.330374Z"
    }
   },
   "outputs": [
    {
     "data": {
      "text/plain": [
       "7"
      ]
     },
     "execution_count": 1,
     "metadata": {},
     "output_type": "execute_result"
    }
   ],
   "source": [
    "len(hbonds)"
   ]
  },
  {
   "cell_type": "code",
   "execution_count": 25,
   "metadata": {
    "execution": {
     "iopub.execute_input": "2021-05-25T23:33:11.335071Z",
     "iopub.status.busy": "2021-05-25T23:33:11.333994Z",
     "iopub.status.idle": "2021-05-25T23:33:11.351968Z",
     "shell.execute_reply": "2021-05-25T23:33:11.352902Z"
    }
   },
   "outputs": [
    {
     "data": {
      "text/plain": [
       "dict_keys([(6, 7, 6), (16, 17, 6), (6, 7, 5), (16, 17, 15), (16, 17, 45), (16, 17, 35), (16, 17, 55)])"
      ]
     },
     "execution_count": 1,
     "metadata": {},
     "output_type": "execute_result"
    }
   ],
   "source": [
    "hbonds.keys()"
   ]
  },
  {
   "cell_type": "code",
   "execution_count": null,
   "metadata": {},
   "outputs": [],
   "source": []
  }
 ],
 "metadata": {
  "kernelspec": {
   "display_name": "Python 3",
   "language": "python",
   "name": "python3"
  },
  "language_info": {
   "codemirror_mode": {
    "name": "ipython",
    "version": 3
   },
   "file_extension": ".py",
   "mimetype": "text/x-python",
   "name": "python",
   "nbconvert_exporter": "python",
   "pygments_lexer": "ipython3",
   "version": "3.7.10"
  },
  "widgets": {
   "application/vnd.jupyter.widget-state+json": {
    "state": {
     "19cb4718abfb4140a10d91202c3202fb": {
      "model_module": "nglview-js-widgets",
      "model_module_version": "3.0.1",
      "model_name": "ColormakerRegistryModel",
      "state": {
       "_dom_classes": [],
       "_model_module": "nglview-js-widgets",
       "_model_module_version": "3.0.1",
       "_model_name": "ColormakerRegistryModel",
       "_msg_ar": [],
       "_msg_q": [],
       "_ready": false,
       "_view_count": null,
       "_view_module": "nglview-js-widgets",
       "_view_module_version": "3.0.1",
       "_view_name": "ColormakerRegistryView",
       "layout": "IPY_MODEL_6ce78d8fac2f47148807f486fbf0b35f"
      }
     },
     "6ce78d8fac2f47148807f486fbf0b35f": {
      "model_module": "@jupyter-widgets/base",
      "model_module_version": "1.2.0",
      "model_name": "LayoutModel",
      "state": {
       "_model_module": "@jupyter-widgets/base",
       "_model_module_version": "1.2.0",
       "_model_name": "LayoutModel",
       "_view_count": null,
       "_view_module": "@jupyter-widgets/base",
       "_view_module_version": "1.2.0",
       "_view_name": "LayoutView",
       "align_content": null,
       "align_items": null,
       "align_self": null,
       "border": null,
       "bottom": null,
       "display": null,
       "flex": null,
       "flex_flow": null,
       "grid_area": null,
       "grid_auto_columns": null,
       "grid_auto_flow": null,
       "grid_auto_rows": null,
       "grid_column": null,
       "grid_gap": null,
       "grid_row": null,
       "grid_template_areas": null,
       "grid_template_columns": null,
       "grid_template_rows": null,
       "height": null,
       "justify_content": null,
       "justify_items": null,
       "left": null,
       "margin": null,
       "max_height": null,
       "max_width": null,
       "min_height": null,
       "min_width": null,
       "object_fit": null,
       "object_position": null,
       "order": null,
       "overflow": null,
       "overflow_x": null,
       "overflow_y": null,
       "padding": null,
       "right": null,
       "top": null,
       "visibility": null,
       "width": null
      }
     }
    },
    "version_major": 2,
    "version_minor": 0
   }
  }
 },
 "nbformat": 4,
 "nbformat_minor": 4
}
