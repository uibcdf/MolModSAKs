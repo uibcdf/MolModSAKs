{
 "cells": [
  {
   "cell_type": "code",
   "execution_count": 1,
   "metadata": {},
   "outputs": [],
   "source": [
    "%load_ext autoreload\n",
    "%autoreload 2"
   ]
  },
  {
   "cell_type": "code",
   "execution_count": 2,
   "metadata": {},
   "outputs": [
    {
     "data": {
      "application/vnd.jupyter.widget-view+json": {
       "model_id": "8ecbf44ce543455f91fe8cb817f52129",
       "version_major": 2,
       "version_minor": 0
      },
      "text/plain": []
     },
     "metadata": {},
     "output_type": "display_data"
    }
   ],
   "source": [
    "import molsysmt as msm"
   ]
  },
  {
   "cell_type": "markdown",
   "metadata": {},
   "source": [
    "# Solvent Accessible Surface Area"
   ]
  },
  {
   "cell_type": "code",
   "execution_count": 3,
   "metadata": {},
   "outputs": [],
   "source": [
    "mmtf_file = msm.demo_systems.files['1tcd.mmtf']\n",
    "molecular_system = msm.convert(mmtf_file)"
   ]
  },
  {
   "cell_type": "code",
   "execution_count": 4,
   "metadata": {},
   "outputs": [],
   "source": [
    "molecular_system = msm.remove_solvent(molecular_system)"
   ]
  },
  {
   "cell_type": "code",
   "execution_count": 5,
   "metadata": {},
   "outputs": [
    {
     "data": {
      "text/html": [
       "<style  type=\"text/css\" >\n",
       "</style><table id=\"T_52bc4_\" ><thead>    <tr>        <th class=\"col_heading level0 col0\" >form</th>        <th class=\"col_heading level0 col1\" >n_atoms</th>        <th class=\"col_heading level0 col2\" >n_groups</th>        <th class=\"col_heading level0 col3\" >n_components</th>        <th class=\"col_heading level0 col4\" >n_chains</th>        <th class=\"col_heading level0 col5\" >n_molecules</th>        <th class=\"col_heading level0 col6\" >n_entities</th>        <th class=\"col_heading level0 col7\" >n_proteins</th>        <th class=\"col_heading level0 col8\" >n_frames</th>    </tr></thead><tbody>\n",
       "                <tr>\n",
       "                                <td id=\"T_52bc4_row0_col0\" class=\"data row0 col0\" >molsysmt.MolSys</td>\n",
       "                        <td id=\"T_52bc4_row0_col1\" class=\"data row0 col1\" >3818</td>\n",
       "                        <td id=\"T_52bc4_row0_col2\" class=\"data row0 col2\" >497</td>\n",
       "                        <td id=\"T_52bc4_row0_col3\" class=\"data row0 col3\" >2</td>\n",
       "                        <td id=\"T_52bc4_row0_col4\" class=\"data row0 col4\" >2</td>\n",
       "                        <td id=\"T_52bc4_row0_col5\" class=\"data row0 col5\" >1</td>\n",
       "                        <td id=\"T_52bc4_row0_col6\" class=\"data row0 col6\" >1</td>\n",
       "                        <td id=\"T_52bc4_row0_col7\" class=\"data row0 col7\" >1</td>\n",
       "                        <td id=\"T_52bc4_row0_col8\" class=\"data row0 col8\" >1</td>\n",
       "            </tr>\n",
       "    </tbody></table>"
      ],
      "text/plain": [
       "<pandas.io.formats.style.Styler at 0x7fb629cc6550>"
      ]
     },
     "execution_count": 5,
     "metadata": {},
     "output_type": "execute_result"
    }
   ],
   "source": [
    "msm.info(molecular_system)"
   ]
  },
  {
   "cell_type": "code",
   "execution_count": 8,
   "metadata": {},
   "outputs": [],
   "source": [
    "sasa_per_residue = msm.sasa(molecular_system, target='group')"
   ]
  },
  {
   "cell_type": "code",
   "execution_count": 9,
   "metadata": {},
   "outputs": [
    {
     "data": {
      "text/html": [
       "1.2976092100143433 nanometer<sup>2</sup>"
      ],
      "text/latex": [
       "$1.2976092100143433\\ \\mathrm{nanometer}^{2}$"
      ],
      "text/plain": [
       "1.2976092100143433 <Unit('nanometer ** 2')>"
      ]
     },
     "execution_count": 9,
     "metadata": {},
     "output_type": "execute_result"
    }
   ],
   "source": [
    "sasa_per_residue[0,0]"
   ]
  },
  {
   "cell_type": "code",
   "execution_count": 19,
   "metadata": {},
   "outputs": [],
   "source": [
    "sasa_per_molecule = msm.sasa(molecular_system, target='molecule')"
   ]
  },
  {
   "cell_type": "code",
   "execution_count": 20,
   "metadata": {},
   "outputs": [
    {
     "data": {
      "text/html": [
       "194.95404052734375 nanometer<sup>2</sup>"
      ],
      "text/latex": [
       "$194.95404052734375\\ \\mathrm{nanometer}^{2}$"
      ],
      "text/plain": [
       "194.95404052734375 <Unit('nanometer ** 2')>"
      ]
     },
     "execution_count": 20,
     "metadata": {},
     "output_type": "execute_result"
    }
   ],
   "source": [
    "sasa_per_molecule[0,0]"
   ]
  },
  {
   "cell_type": "code",
   "execution_count": null,
   "metadata": {},
   "outputs": [],
   "source": []
  }
 ],
 "metadata": {
  "kernelspec": {
   "display_name": "Python 3",
   "language": "python",
   "name": "python3"
  },
  "language_info": {
   "codemirror_mode": {
    "name": "ipython",
    "version": 3
   },
   "file_extension": ".py",
   "mimetype": "text/x-python",
   "name": "python",
   "nbconvert_exporter": "python",
   "pygments_lexer": "ipython3",
   "version": "3.7.9"
  }
 },
 "nbformat": 4,
 "nbformat_minor": 4
}
