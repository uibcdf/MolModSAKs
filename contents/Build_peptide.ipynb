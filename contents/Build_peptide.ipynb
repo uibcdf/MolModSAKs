{
 "cells": [
  {
   "cell_type": "code",
   "execution_count": 1,
   "metadata": {},
   "outputs": [],
   "source": [
    "%load_ext autoreload\n",
    "%autoreload 2"
   ]
  },
  {
   "cell_type": "code",
   "execution_count": 2,
   "metadata": {},
   "outputs": [
    {
     "data": {
      "application/vnd.jupyter.widget-view+json": {
       "model_id": "52800109ae214ffeaaf1bf8acb1ffc54",
       "version_major": 2,
       "version_minor": 0
      },
      "text/plain": []
     },
     "metadata": {},
     "output_type": "display_data"
    }
   ],
   "source": [
    "import molsysmt as msm"
   ]
  },
  {
   "cell_type": "markdown",
   "metadata": {},
   "source": [
    "# Building a peptide from its sequence"
   ]
  },
  {
   "cell_type": "markdown",
   "metadata": {},
   "source": [
    "## Alanine dipeptide in implicit solvent"
   ]
  },
  {
   "cell_type": "code",
   "execution_count": 3,
   "metadata": {},
   "outputs": [
    {
     "data": {
      "text/plain": [
       "'MolecularMechanicsDict'"
      ]
     },
     "execution_count": 3,
     "metadata": {},
     "output_type": "execute_result"
    }
   ],
   "source": [
    "msm.get_form({'forcefield':'AMBER14', 'implicit_solvent':'OBC1'})"
   ]
  },
  {
   "cell_type": "code",
   "execution_count": 4,
   "metadata": {},
   "outputs": [
    {
     "data": {
      "text/plain": [
       "'MolecularMechanicsDict'"
      ]
     },
     "execution_count": 4,
     "metadata": {},
     "output_type": "execute_result"
    }
   ],
   "source": [
    "msm.get_form({'forcefield':'AMBER14', 'water_model':'TIP3P'})"
   ]
  },
  {
   "cell_type": "code",
   "execution_count": 5,
   "metadata": {},
   "outputs": [
    {
     "data": {
      "text/plain": [
       "'dialanine.pdb'"
      ]
     },
     "execution_count": 5,
     "metadata": {},
     "output_type": "execute_result"
    }
   ],
   "source": [
    "msm.build_peptide(['AceAlaNme', {'forcefield':'AMBER14', 'implicit_solvent':'OBC1'}],\n",
    "                  to_form='dialanine.pdb', verbose=False)"
   ]
  },
  {
   "cell_type": "code",
   "execution_count": 6,
   "metadata": {},
   "outputs": [
    {
     "data": {
      "text/html": [
       "<style  type=\"text/css\" >\n",
       "</style><table id=\"T_8465d_\" ><thead>    <tr>        <th class=\"col_heading level0 col0\" >form</th>        <th class=\"col_heading level0 col1\" >n_atoms</th>        <th class=\"col_heading level0 col2\" >n_groups</th>        <th class=\"col_heading level0 col3\" >n_components</th>        <th class=\"col_heading level0 col4\" >n_chains</th>        <th class=\"col_heading level0 col5\" >n_molecules</th>        <th class=\"col_heading level0 col6\" >n_entities</th>        <th class=\"col_heading level0 col7\" >n_peptides</th>        <th class=\"col_heading level0 col8\" >n_frames</th>    </tr></thead><tbody>\n",
       "                <tr>\n",
       "                                <td id=\"T_8465d_row0_col0\" class=\"data row0 col0\" >file:pdb</td>\n",
       "                        <td id=\"T_8465d_row0_col1\" class=\"data row0 col1\" >22</td>\n",
       "                        <td id=\"T_8465d_row0_col2\" class=\"data row0 col2\" >3</td>\n",
       "                        <td id=\"T_8465d_row0_col3\" class=\"data row0 col3\" >1</td>\n",
       "                        <td id=\"T_8465d_row0_col4\" class=\"data row0 col4\" >1</td>\n",
       "                        <td id=\"T_8465d_row0_col5\" class=\"data row0 col5\" >1</td>\n",
       "                        <td id=\"T_8465d_row0_col6\" class=\"data row0 col6\" >1</td>\n",
       "                        <td id=\"T_8465d_row0_col7\" class=\"data row0 col7\" >1</td>\n",
       "                        <td id=\"T_8465d_row0_col8\" class=\"data row0 col8\" >1</td>\n",
       "            </tr>\n",
       "    </tbody></table>"
      ],
      "text/plain": [
       "<pandas.io.formats.style.Styler at 0x7fbc161e7110>"
      ]
     },
     "execution_count": 6,
     "metadata": {},
     "output_type": "execute_result"
    }
   ],
   "source": [
    "msm.info('dialanine.pdb')"
   ]
  },
  {
   "cell_type": "markdown",
   "metadata": {},
   "source": [
    "The output is not necessary a file, it can be any other form:"
   ]
  },
  {
   "cell_type": "code",
   "execution_count": 7,
   "metadata": {},
   "outputs": [],
   "source": [
    "molecular_system = msm.build_peptide(['AceAlaNme', {'forcefield':'AMBER14',\n",
    "                                     'implicit_solvent':'OBC1'}], to_form='openmm.Modeller',\n",
    "                                     verbose=False)"
   ]
  },
  {
   "cell_type": "code",
   "execution_count": 8,
   "metadata": {},
   "outputs": [
    {
     "data": {
      "text/html": [
       "<style  type=\"text/css\" >\n",
       "</style><table id=\"T_f26fc_\" ><thead>    <tr>        <th class=\"col_heading level0 col0\" >form</th>        <th class=\"col_heading level0 col1\" >n_atoms</th>        <th class=\"col_heading level0 col2\" >n_groups</th>        <th class=\"col_heading level0 col3\" >n_components</th>        <th class=\"col_heading level0 col4\" >n_chains</th>        <th class=\"col_heading level0 col5\" >n_molecules</th>        <th class=\"col_heading level0 col6\" >n_entities</th>        <th class=\"col_heading level0 col7\" >n_peptides</th>        <th class=\"col_heading level0 col8\" >n_frames</th>    </tr></thead><tbody>\n",
       "                <tr>\n",
       "                                <td id=\"T_f26fc_row0_col0\" class=\"data row0 col0\" >openmm.Modeller</td>\n",
       "                        <td id=\"T_f26fc_row0_col1\" class=\"data row0 col1\" >22</td>\n",
       "                        <td id=\"T_f26fc_row0_col2\" class=\"data row0 col2\" >3</td>\n",
       "                        <td id=\"T_f26fc_row0_col3\" class=\"data row0 col3\" >1</td>\n",
       "                        <td id=\"T_f26fc_row0_col4\" class=\"data row0 col4\" >1</td>\n",
       "                        <td id=\"T_f26fc_row0_col5\" class=\"data row0 col5\" >1</td>\n",
       "                        <td id=\"T_f26fc_row0_col6\" class=\"data row0 col6\" >1</td>\n",
       "                        <td id=\"T_f26fc_row0_col7\" class=\"data row0 col7\" >1</td>\n",
       "                        <td id=\"T_f26fc_row0_col8\" class=\"data row0 col8\" >1</td>\n",
       "            </tr>\n",
       "    </tbody></table>"
      ],
      "text/plain": [
       "<pandas.io.formats.style.Styler at 0x7fbc0dce3950>"
      ]
     },
     "execution_count": 8,
     "metadata": {},
     "output_type": "execute_result"
    }
   ],
   "source": [
    "msm.info(molecular_system)"
   ]
  },
  {
   "cell_type": "code",
   "execution_count": 9,
   "metadata": {},
   "outputs": [],
   "source": [
    "aa = msm.convert(molecular_system, to_form='molsysmt.MolSys')"
   ]
  },
  {
   "cell_type": "markdown",
   "metadata": {},
   "source": [
    "## Alanine dipeptide in explicit solvent"
   ]
  },
  {
   "cell_type": "code",
   "execution_count": 10,
   "metadata": {},
   "outputs": [
    {
     "data": {
      "text/plain": [
       "['dialanine_amber14_tip3p.prmtop', 'dialanine_amber14_tip3p.inpcrd']"
      ]
     },
     "execution_count": 10,
     "metadata": {},
     "output_type": "execute_result"
    }
   ],
   "source": [
    "msm.build_peptide(['AceAlaNme', {'forcefield':'AMBER14',\n",
    "                  'water_model':'TIP3P'}], box_geometry='truncated_octahedral',\n",
    "                  to_form=['dialanine_amber14_tip3p.prmtop','dialanine_amber14_tip3p.inpcrd'],\n",
    "                  verbose=False)"
   ]
  },
  {
   "cell_type": "markdown",
   "metadata": {},
   "source": [
    "## Alanine pentapeptide in implicit solvent"
   ]
  },
  {
   "cell_type": "code",
   "execution_count": 11,
   "metadata": {},
   "outputs": [
    {
     "data": {
      "text/plain": [
       "['pentalanine_amber14_gbsa.prmtop', 'pentalanine_amber14_gbsa.inpcrd']"
      ]
     },
     "execution_count": 11,
     "metadata": {},
     "output_type": "execute_result"
    }
   ],
   "source": [
    "msm.build_peptide(['AceAlaAlaAlaAlaAlaNme', {'forcefield':'AMBER14',\n",
    "                  'implicit_solvent':'OBC1'}],\n",
    "                  to_form=['pentalanine_amber14_gbsa.prmtop','pentalanine_amber14_gbsa.inpcrd'],\n",
    "                  verbose=False)"
   ]
  },
  {
   "cell_type": "markdown",
   "metadata": {},
   "source": [
    "## Alanine pentapeptide in explicit solvent"
   ]
  },
  {
   "cell_type": "code",
   "execution_count": 12,
   "metadata": {},
   "outputs": [
    {
     "data": {
      "text/plain": [
       "['pentalanine_amber14_tip3p.prmtop', 'pentalanine_amber14_tip3p.inpcrd']"
      ]
     },
     "execution_count": 12,
     "metadata": {},
     "output_type": "execute_result"
    }
   ],
   "source": [
    "msm.build_peptide(['AceAlaAlaAlaAlaAlaNme', {'forcefield':'AMBER14',\n",
    "                  'water_model':'TIP3P'}], box_geometry='truncated_octahedral',\n",
    "                  to_form=['pentalanine_amber14_tip3p.prmtop','pentalanine_amber14_tip3p.inpcrd'],\n",
    "                  verbose=False)"
   ]
  },
  {
   "cell_type": "markdown",
   "metadata": {},
   "source": [
    "## Met-enkephalin in implicit solvent"
   ]
  },
  {
   "cell_type": "code",
   "execution_count": 13,
   "metadata": {},
   "outputs": [
    {
     "data": {
      "text/plain": [
       "'metenkephalin.pdb'"
      ]
     },
     "execution_count": 13,
     "metadata": {},
     "output_type": "execute_result"
    }
   ],
   "source": [
    "msm.build_peptide(['TyrGlyGlyPheMet', {'forcefield':'AMBER14', 'implicit_solvent':'OBC1'}],\n",
    "                  to_form='metenkephalin.pdb', verbose=False)"
   ]
  },
  {
   "cell_type": "code",
   "execution_count": null,
   "metadata": {},
   "outputs": [],
   "source": []
  }
 ],
 "metadata": {
  "kernelspec": {
   "display_name": "Python 3",
   "language": "python",
   "name": "python3"
  },
  "language_info": {
   "codemirror_mode": {
    "name": "ipython",
    "version": 3
   },
   "file_extension": ".py",
   "mimetype": "text/x-python",
   "name": "python",
   "nbconvert_exporter": "python",
   "pygments_lexer": "ipython3",
   "version": "3.7.10"
  }
 },
 "nbformat": 4,
 "nbformat_minor": 4
}
