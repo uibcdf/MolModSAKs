{
 "cells": [
  {
   "cell_type": "code",
   "execution_count": 1,
   "metadata": {},
   "outputs": [],
   "source": [
    "%load_ext autoreload\n",
    "%autoreload 2"
   ]
  },
  {
   "cell_type": "code",
   "execution_count": 2,
   "metadata": {},
   "outputs": [
    {
     "data": {
      "application/vnd.jupyter.widget-view+json": {
       "model_id": "5e30517e03624e8f83de5f9a2c096c91",
       "version_major": 2,
       "version_minor": 0
      },
      "text/plain": []
     },
     "metadata": {},
     "output_type": "display_data"
    }
   ],
   "source": [
    "import molsysmt as msm"
   ]
  },
  {
   "cell_type": "markdown",
   "metadata": {},
   "source": [
    "# Info\n",
    "\n",
    "*Printing out summary information of a molecular system*\n",
    "\n"
   ]
  },
  {
   "cell_type": "markdown",
   "metadata": {},
   "source": [
    "There is in MolSysMT a method to print out a brief overview of a molecular system and its elements. The output of this method can be a `pandas.DataFrame` or a `string`. Lets load a molecular system to illustrate with some simple examples how it works:"
   ]
  },
  {
   "cell_type": "code",
   "execution_count": 3,
   "metadata": {},
   "outputs": [],
   "source": [
    "item = msm.demo_systems.files['1tcd.mmtf']\n",
    "molecular_system = msm.convert(item)"
   ]
  },
  {
   "cell_type": "markdown",
   "metadata": {},
   "source": [
    "## As a DataFrame"
   ]
  },
  {
   "cell_type": "markdown",
   "metadata": {},
   "source": [
    "### Summary information on atoms\n",
    "\n",
    "The method `molsysmt.info()` can be applied over any element of the molecular system. Lets see an example where the summary information is shown for a set of atoms when the input argument `output='dataframe'`:"
   ]
  },
  {
   "cell_type": "code",
   "execution_count": 4,
   "metadata": {},
   "outputs": [
    {
     "data": {
      "text/html": [
       "<style  type=\"text/css\" >\n",
       "</style><table id=\"T_c5578_\" ><thead>    <tr>        <th class=\"col_heading level0 col0\" >index</th>        <th class=\"col_heading level0 col1\" >id</th>        <th class=\"col_heading level0 col2\" >name</th>        <th class=\"col_heading level0 col3\" >type</th>        <th class=\"col_heading level0 col4\" >group index</th>        <th class=\"col_heading level0 col5\" >group id</th>        <th class=\"col_heading level0 col6\" >group name</th>        <th class=\"col_heading level0 col7\" >group type</th>        <th class=\"col_heading level0 col8\" >component index</th>        <th class=\"col_heading level0 col9\" >chain index</th>        <th class=\"col_heading level0 col10\" >molecule index</th>        <th class=\"col_heading level0 col11\" >molecule type</th>        <th class=\"col_heading level0 col12\" >entity index</th>        <th class=\"col_heading level0 col13\" >entity name</th>    </tr></thead><tbody>\n",
       "                <tr>\n",
       "                                <td id=\"T_c5578_row0_col0\" class=\"data row0 col0\" >9</td>\n",
       "                        <td id=\"T_c5578_row0_col1\" class=\"data row0 col1\" >10</td>\n",
       "                        <td id=\"T_c5578_row0_col2\" class=\"data row0 col2\" >N</td>\n",
       "                        <td id=\"T_c5578_row0_col3\" class=\"data row0 col3\" >N</td>\n",
       "                        <td id=\"T_c5578_row0_col4\" class=\"data row0 col4\" >1</td>\n",
       "                        <td id=\"T_c5578_row0_col5\" class=\"data row0 col5\" >5</td>\n",
       "                        <td id=\"T_c5578_row0_col6\" class=\"data row0 col6\" >PRO</td>\n",
       "                        <td id=\"T_c5578_row0_col7\" class=\"data row0 col7\" >aminoacid</td>\n",
       "                        <td id=\"T_c5578_row0_col8\" class=\"data row0 col8\" >0</td>\n",
       "                        <td id=\"T_c5578_row0_col9\" class=\"data row0 col9\" >0</td>\n",
       "                        <td id=\"T_c5578_row0_col10\" class=\"data row0 col10\" >0</td>\n",
       "                        <td id=\"T_c5578_row0_col11\" class=\"data row0 col11\" >protein</td>\n",
       "                        <td id=\"T_c5578_row0_col12\" class=\"data row0 col12\" >0</td>\n",
       "                        <td id=\"T_c5578_row0_col13\" class=\"data row0 col13\" >TRIOSEPHOSPHATE ISOMERASE</td>\n",
       "            </tr>\n",
       "            <tr>\n",
       "                                <td id=\"T_c5578_row1_col0\" class=\"data row1 col0\" >10</td>\n",
       "                        <td id=\"T_c5578_row1_col1\" class=\"data row1 col1\" >11</td>\n",
       "                        <td id=\"T_c5578_row1_col2\" class=\"data row1 col2\" >CA</td>\n",
       "                        <td id=\"T_c5578_row1_col3\" class=\"data row1 col3\" >C</td>\n",
       "                        <td id=\"T_c5578_row1_col4\" class=\"data row1 col4\" >1</td>\n",
       "                        <td id=\"T_c5578_row1_col5\" class=\"data row1 col5\" >5</td>\n",
       "                        <td id=\"T_c5578_row1_col6\" class=\"data row1 col6\" >PRO</td>\n",
       "                        <td id=\"T_c5578_row1_col7\" class=\"data row1 col7\" >aminoacid</td>\n",
       "                        <td id=\"T_c5578_row1_col8\" class=\"data row1 col8\" >0</td>\n",
       "                        <td id=\"T_c5578_row1_col9\" class=\"data row1 col9\" >0</td>\n",
       "                        <td id=\"T_c5578_row1_col10\" class=\"data row1 col10\" >0</td>\n",
       "                        <td id=\"T_c5578_row1_col11\" class=\"data row1 col11\" >protein</td>\n",
       "                        <td id=\"T_c5578_row1_col12\" class=\"data row1 col12\" >0</td>\n",
       "                        <td id=\"T_c5578_row1_col13\" class=\"data row1 col13\" >TRIOSEPHOSPHATE ISOMERASE</td>\n",
       "            </tr>\n",
       "            <tr>\n",
       "                                <td id=\"T_c5578_row2_col0\" class=\"data row2 col0\" >11</td>\n",
       "                        <td id=\"T_c5578_row2_col1\" class=\"data row2 col1\" >12</td>\n",
       "                        <td id=\"T_c5578_row2_col2\" class=\"data row2 col2\" >C</td>\n",
       "                        <td id=\"T_c5578_row2_col3\" class=\"data row2 col3\" >C</td>\n",
       "                        <td id=\"T_c5578_row2_col4\" class=\"data row2 col4\" >1</td>\n",
       "                        <td id=\"T_c5578_row2_col5\" class=\"data row2 col5\" >5</td>\n",
       "                        <td id=\"T_c5578_row2_col6\" class=\"data row2 col6\" >PRO</td>\n",
       "                        <td id=\"T_c5578_row2_col7\" class=\"data row2 col7\" >aminoacid</td>\n",
       "                        <td id=\"T_c5578_row2_col8\" class=\"data row2 col8\" >0</td>\n",
       "                        <td id=\"T_c5578_row2_col9\" class=\"data row2 col9\" >0</td>\n",
       "                        <td id=\"T_c5578_row2_col10\" class=\"data row2 col10\" >0</td>\n",
       "                        <td id=\"T_c5578_row2_col11\" class=\"data row2 col11\" >protein</td>\n",
       "                        <td id=\"T_c5578_row2_col12\" class=\"data row2 col12\" >0</td>\n",
       "                        <td id=\"T_c5578_row2_col13\" class=\"data row2 col13\" >TRIOSEPHOSPHATE ISOMERASE</td>\n",
       "            </tr>\n",
       "            <tr>\n",
       "                                <td id=\"T_c5578_row3_col0\" class=\"data row3 col0\" >12</td>\n",
       "                        <td id=\"T_c5578_row3_col1\" class=\"data row3 col1\" >13</td>\n",
       "                        <td id=\"T_c5578_row3_col2\" class=\"data row3 col2\" >O</td>\n",
       "                        <td id=\"T_c5578_row3_col3\" class=\"data row3 col3\" >O</td>\n",
       "                        <td id=\"T_c5578_row3_col4\" class=\"data row3 col4\" >1</td>\n",
       "                        <td id=\"T_c5578_row3_col5\" class=\"data row3 col5\" >5</td>\n",
       "                        <td id=\"T_c5578_row3_col6\" class=\"data row3 col6\" >PRO</td>\n",
       "                        <td id=\"T_c5578_row3_col7\" class=\"data row3 col7\" >aminoacid</td>\n",
       "                        <td id=\"T_c5578_row3_col8\" class=\"data row3 col8\" >0</td>\n",
       "                        <td id=\"T_c5578_row3_col9\" class=\"data row3 col9\" >0</td>\n",
       "                        <td id=\"T_c5578_row3_col10\" class=\"data row3 col10\" >0</td>\n",
       "                        <td id=\"T_c5578_row3_col11\" class=\"data row3 col11\" >protein</td>\n",
       "                        <td id=\"T_c5578_row3_col12\" class=\"data row3 col12\" >0</td>\n",
       "                        <td id=\"T_c5578_row3_col13\" class=\"data row3 col13\" >TRIOSEPHOSPHATE ISOMERASE</td>\n",
       "            </tr>\n",
       "    </tbody></table>"
      ],
      "text/plain": [
       "<pandas.io.formats.style.Styler at 0x7f8ff39f8a10>"
      ]
     },
     "execution_count": 4,
     "metadata": {},
     "output_type": "execute_result"
    }
   ],
   "source": [
    "msm.info(molecular_system, target='atom', indices=[9,10,11,12], output='dataframe')"
   ]
  },
  {
   "cell_type": "markdown",
   "metadata": {},
   "source": [
    "The method can also take a selection input argument:"
   ]
  },
  {
   "cell_type": "code",
   "execution_count": 5,
   "metadata": {},
   "outputs": [
    {
     "data": {
      "text/html": [
       "<style  type=\"text/css\" >\n",
       "</style><table id=\"T_34b27_\" ><thead>    <tr>        <th class=\"col_heading level0 col0\" >index</th>        <th class=\"col_heading level0 col1\" >id</th>        <th class=\"col_heading level0 col2\" >name</th>        <th class=\"col_heading level0 col3\" >type</th>        <th class=\"col_heading level0 col4\" >group index</th>        <th class=\"col_heading level0 col5\" >group id</th>        <th class=\"col_heading level0 col6\" >group name</th>        <th class=\"col_heading level0 col7\" >group type</th>        <th class=\"col_heading level0 col8\" >component index</th>        <th class=\"col_heading level0 col9\" >chain index</th>        <th class=\"col_heading level0 col10\" >molecule index</th>        <th class=\"col_heading level0 col11\" >molecule type</th>        <th class=\"col_heading level0 col12\" >entity index</th>        <th class=\"col_heading level0 col13\" >entity name</th>    </tr></thead><tbody>\n",
       "                <tr>\n",
       "                                <td id=\"T_34b27_row0_col0\" class=\"data row0 col0\" >45</td>\n",
       "                        <td id=\"T_34b27_row0_col1\" class=\"data row0 col1\" >46</td>\n",
       "                        <td id=\"T_34b27_row0_col2\" class=\"data row0 col2\" >N</td>\n",
       "                        <td id=\"T_34b27_row0_col3\" class=\"data row0 col3\" >N</td>\n",
       "                        <td id=\"T_34b27_row0_col4\" class=\"data row0 col4\" >6</td>\n",
       "                        <td id=\"T_34b27_row0_col5\" class=\"data row0 col5\" >10</td>\n",
       "                        <td id=\"T_34b27_row0_col6\" class=\"data row0 col6\" >ALA</td>\n",
       "                        <td id=\"T_34b27_row0_col7\" class=\"data row0 col7\" >aminoacid</td>\n",
       "                        <td id=\"T_34b27_row0_col8\" class=\"data row0 col8\" >0</td>\n",
       "                        <td id=\"T_34b27_row0_col9\" class=\"data row0 col9\" >0</td>\n",
       "                        <td id=\"T_34b27_row0_col10\" class=\"data row0 col10\" >0</td>\n",
       "                        <td id=\"T_34b27_row0_col11\" class=\"data row0 col11\" >protein</td>\n",
       "                        <td id=\"T_34b27_row0_col12\" class=\"data row0 col12\" >0</td>\n",
       "                        <td id=\"T_34b27_row0_col13\" class=\"data row0 col13\" >TRIOSEPHOSPHATE ISOMERASE</td>\n",
       "            </tr>\n",
       "            <tr>\n",
       "                                <td id=\"T_34b27_row1_col0\" class=\"data row1 col0\" >46</td>\n",
       "                        <td id=\"T_34b27_row1_col1\" class=\"data row1 col1\" >47</td>\n",
       "                        <td id=\"T_34b27_row1_col2\" class=\"data row1 col2\" >CA</td>\n",
       "                        <td id=\"T_34b27_row1_col3\" class=\"data row1 col3\" >C</td>\n",
       "                        <td id=\"T_34b27_row1_col4\" class=\"data row1 col4\" >6</td>\n",
       "                        <td id=\"T_34b27_row1_col5\" class=\"data row1 col5\" >10</td>\n",
       "                        <td id=\"T_34b27_row1_col6\" class=\"data row1 col6\" >ALA</td>\n",
       "                        <td id=\"T_34b27_row1_col7\" class=\"data row1 col7\" >aminoacid</td>\n",
       "                        <td id=\"T_34b27_row1_col8\" class=\"data row1 col8\" >0</td>\n",
       "                        <td id=\"T_34b27_row1_col9\" class=\"data row1 col9\" >0</td>\n",
       "                        <td id=\"T_34b27_row1_col10\" class=\"data row1 col10\" >0</td>\n",
       "                        <td id=\"T_34b27_row1_col11\" class=\"data row1 col11\" >protein</td>\n",
       "                        <td id=\"T_34b27_row1_col12\" class=\"data row1 col12\" >0</td>\n",
       "                        <td id=\"T_34b27_row1_col13\" class=\"data row1 col13\" >TRIOSEPHOSPHATE ISOMERASE</td>\n",
       "            </tr>\n",
       "            <tr>\n",
       "                                <td id=\"T_34b27_row2_col0\" class=\"data row2 col0\" >47</td>\n",
       "                        <td id=\"T_34b27_row2_col1\" class=\"data row2 col1\" >48</td>\n",
       "                        <td id=\"T_34b27_row2_col2\" class=\"data row2 col2\" >C</td>\n",
       "                        <td id=\"T_34b27_row2_col3\" class=\"data row2 col3\" >C</td>\n",
       "                        <td id=\"T_34b27_row2_col4\" class=\"data row2 col4\" >6</td>\n",
       "                        <td id=\"T_34b27_row2_col5\" class=\"data row2 col5\" >10</td>\n",
       "                        <td id=\"T_34b27_row2_col6\" class=\"data row2 col6\" >ALA</td>\n",
       "                        <td id=\"T_34b27_row2_col7\" class=\"data row2 col7\" >aminoacid</td>\n",
       "                        <td id=\"T_34b27_row2_col8\" class=\"data row2 col8\" >0</td>\n",
       "                        <td id=\"T_34b27_row2_col9\" class=\"data row2 col9\" >0</td>\n",
       "                        <td id=\"T_34b27_row2_col10\" class=\"data row2 col10\" >0</td>\n",
       "                        <td id=\"T_34b27_row2_col11\" class=\"data row2 col11\" >protein</td>\n",
       "                        <td id=\"T_34b27_row2_col12\" class=\"data row2 col12\" >0</td>\n",
       "                        <td id=\"T_34b27_row2_col13\" class=\"data row2 col13\" >TRIOSEPHOSPHATE ISOMERASE</td>\n",
       "            </tr>\n",
       "            <tr>\n",
       "                                <td id=\"T_34b27_row3_col0\" class=\"data row3 col0\" >48</td>\n",
       "                        <td id=\"T_34b27_row3_col1\" class=\"data row3 col1\" >49</td>\n",
       "                        <td id=\"T_34b27_row3_col2\" class=\"data row3 col2\" >O</td>\n",
       "                        <td id=\"T_34b27_row3_col3\" class=\"data row3 col3\" >O</td>\n",
       "                        <td id=\"T_34b27_row3_col4\" class=\"data row3 col4\" >6</td>\n",
       "                        <td id=\"T_34b27_row3_col5\" class=\"data row3 col5\" >10</td>\n",
       "                        <td id=\"T_34b27_row3_col6\" class=\"data row3 col6\" >ALA</td>\n",
       "                        <td id=\"T_34b27_row3_col7\" class=\"data row3 col7\" >aminoacid</td>\n",
       "                        <td id=\"T_34b27_row3_col8\" class=\"data row3 col8\" >0</td>\n",
       "                        <td id=\"T_34b27_row3_col9\" class=\"data row3 col9\" >0</td>\n",
       "                        <td id=\"T_34b27_row3_col10\" class=\"data row3 col10\" >0</td>\n",
       "                        <td id=\"T_34b27_row3_col11\" class=\"data row3 col11\" >protein</td>\n",
       "                        <td id=\"T_34b27_row3_col12\" class=\"data row3 col12\" >0</td>\n",
       "                        <td id=\"T_34b27_row3_col13\" class=\"data row3 col13\" >TRIOSEPHOSPHATE ISOMERASE</td>\n",
       "            </tr>\n",
       "            <tr>\n",
       "                                <td id=\"T_34b27_row4_col0\" class=\"data row4 col0\" >49</td>\n",
       "                        <td id=\"T_34b27_row4_col1\" class=\"data row4 col1\" >50</td>\n",
       "                        <td id=\"T_34b27_row4_col2\" class=\"data row4 col2\" >CB</td>\n",
       "                        <td id=\"T_34b27_row4_col3\" class=\"data row4 col3\" >C</td>\n",
       "                        <td id=\"T_34b27_row4_col4\" class=\"data row4 col4\" >6</td>\n",
       "                        <td id=\"T_34b27_row4_col5\" class=\"data row4 col5\" >10</td>\n",
       "                        <td id=\"T_34b27_row4_col6\" class=\"data row4 col6\" >ALA</td>\n",
       "                        <td id=\"T_34b27_row4_col7\" class=\"data row4 col7\" >aminoacid</td>\n",
       "                        <td id=\"T_34b27_row4_col8\" class=\"data row4 col8\" >0</td>\n",
       "                        <td id=\"T_34b27_row4_col9\" class=\"data row4 col9\" >0</td>\n",
       "                        <td id=\"T_34b27_row4_col10\" class=\"data row4 col10\" >0</td>\n",
       "                        <td id=\"T_34b27_row4_col11\" class=\"data row4 col11\" >protein</td>\n",
       "                        <td id=\"T_34b27_row4_col12\" class=\"data row4 col12\" >0</td>\n",
       "                        <td id=\"T_34b27_row4_col13\" class=\"data row4 col13\" >TRIOSEPHOSPHATE ISOMERASE</td>\n",
       "            </tr>\n",
       "    </tbody></table>"
      ],
      "text/plain": [
       "<pandas.io.formats.style.Styler at 0x7f8ff3997c90>"
      ]
     },
     "execution_count": 5,
     "metadata": {},
     "output_type": "execute_result"
    }
   ],
   "source": [
    "msm.info(molecular_system, target='atom', selection='group_index==6')"
   ]
  },
  {
   "cell_type": "markdown",
   "metadata": {},
   "source": [
    "Notice that the default option for `output` is 'dataframe'."
   ]
  },
  {
   "cell_type": "markdown",
   "metadata": {},
   "source": [
    "### Summary information on groups\n",
    "\n",
    "Lets see an example where the summary information is shown for a set of groups:"
   ]
  },
  {
   "cell_type": "code",
   "execution_count": 6,
   "metadata": {},
   "outputs": [
    {
     "data": {
      "text/html": [
       "<style  type=\"text/css\" >\n",
       "</style><table id=\"T_b0ec3_\" ><thead>    <tr>        <th class=\"col_heading level0 col0\" >index</th>        <th class=\"col_heading level0 col1\" >id</th>        <th class=\"col_heading level0 col2\" >name</th>        <th class=\"col_heading level0 col3\" >type</th>        <th class=\"col_heading level0 col4\" >n atoms</th>        <th class=\"col_heading level0 col5\" >component index</th>        <th class=\"col_heading level0 col6\" >chain index</th>        <th class=\"col_heading level0 col7\" >molecule index</th>        <th class=\"col_heading level0 col8\" >molecule type</th>        <th class=\"col_heading level0 col9\" >entity index</th>        <th class=\"col_heading level0 col10\" >entity name</th>    </tr></thead><tbody>\n",
       "                <tr>\n",
       "                                <td id=\"T_b0ec3_row0_col0\" class=\"data row0 col0\" >20</td>\n",
       "                        <td id=\"T_b0ec3_row0_col1\" class=\"data row0 col1\" >24</td>\n",
       "                        <td id=\"T_b0ec3_row0_col2\" class=\"data row0 col2\" >PRO</td>\n",
       "                        <td id=\"T_b0ec3_row0_col3\" class=\"data row0 col3\" >aminoacid</td>\n",
       "                        <td id=\"T_b0ec3_row0_col4\" class=\"data row0 col4\" >7</td>\n",
       "                        <td id=\"T_b0ec3_row0_col5\" class=\"data row0 col5\" >0</td>\n",
       "                        <td id=\"T_b0ec3_row0_col6\" class=\"data row0 col6\" >0</td>\n",
       "                        <td id=\"T_b0ec3_row0_col7\" class=\"data row0 col7\" >0</td>\n",
       "                        <td id=\"T_b0ec3_row0_col8\" class=\"data row0 col8\" >protein</td>\n",
       "                        <td id=\"T_b0ec3_row0_col9\" class=\"data row0 col9\" >0</td>\n",
       "                        <td id=\"T_b0ec3_row0_col10\" class=\"data row0 col10\" >TRIOSEPHOSPHATE ISOMERASE</td>\n",
       "            </tr>\n",
       "            <tr>\n",
       "                                <td id=\"T_b0ec3_row1_col0\" class=\"data row1 col0\" >21</td>\n",
       "                        <td id=\"T_b0ec3_row1_col1\" class=\"data row1 col1\" >25</td>\n",
       "                        <td id=\"T_b0ec3_row1_col2\" class=\"data row1 col2\" >LEU</td>\n",
       "                        <td id=\"T_b0ec3_row1_col3\" class=\"data row1 col3\" >aminoacid</td>\n",
       "                        <td id=\"T_b0ec3_row1_col4\" class=\"data row1 col4\" >8</td>\n",
       "                        <td id=\"T_b0ec3_row1_col5\" class=\"data row1 col5\" >0</td>\n",
       "                        <td id=\"T_b0ec3_row1_col6\" class=\"data row1 col6\" >0</td>\n",
       "                        <td id=\"T_b0ec3_row1_col7\" class=\"data row1 col7\" >0</td>\n",
       "                        <td id=\"T_b0ec3_row1_col8\" class=\"data row1 col8\" >protein</td>\n",
       "                        <td id=\"T_b0ec3_row1_col9\" class=\"data row1 col9\" >0</td>\n",
       "                        <td id=\"T_b0ec3_row1_col10\" class=\"data row1 col10\" >TRIOSEPHOSPHATE ISOMERASE</td>\n",
       "            </tr>\n",
       "            <tr>\n",
       "                                <td id=\"T_b0ec3_row2_col0\" class=\"data row2 col0\" >22</td>\n",
       "                        <td id=\"T_b0ec3_row2_col1\" class=\"data row2 col1\" >26</td>\n",
       "                        <td id=\"T_b0ec3_row2_col2\" class=\"data row2 col2\" >ILE</td>\n",
       "                        <td id=\"T_b0ec3_row2_col3\" class=\"data row2 col3\" >aminoacid</td>\n",
       "                        <td id=\"T_b0ec3_row2_col4\" class=\"data row2 col4\" >8</td>\n",
       "                        <td id=\"T_b0ec3_row2_col5\" class=\"data row2 col5\" >0</td>\n",
       "                        <td id=\"T_b0ec3_row2_col6\" class=\"data row2 col6\" >0</td>\n",
       "                        <td id=\"T_b0ec3_row2_col7\" class=\"data row2 col7\" >0</td>\n",
       "                        <td id=\"T_b0ec3_row2_col8\" class=\"data row2 col8\" >protein</td>\n",
       "                        <td id=\"T_b0ec3_row2_col9\" class=\"data row2 col9\" >0</td>\n",
       "                        <td id=\"T_b0ec3_row2_col10\" class=\"data row2 col10\" >TRIOSEPHOSPHATE ISOMERASE</td>\n",
       "            </tr>\n",
       "            <tr>\n",
       "                                <td id=\"T_b0ec3_row3_col0\" class=\"data row3 col0\" >23</td>\n",
       "                        <td id=\"T_b0ec3_row3_col1\" class=\"data row3 col1\" >27</td>\n",
       "                        <td id=\"T_b0ec3_row3_col2\" class=\"data row3 col2\" >GLU</td>\n",
       "                        <td id=\"T_b0ec3_row3_col3\" class=\"data row3 col3\" >aminoacid</td>\n",
       "                        <td id=\"T_b0ec3_row3_col4\" class=\"data row3 col4\" >9</td>\n",
       "                        <td id=\"T_b0ec3_row3_col5\" class=\"data row3 col5\" >0</td>\n",
       "                        <td id=\"T_b0ec3_row3_col6\" class=\"data row3 col6\" >0</td>\n",
       "                        <td id=\"T_b0ec3_row3_col7\" class=\"data row3 col7\" >0</td>\n",
       "                        <td id=\"T_b0ec3_row3_col8\" class=\"data row3 col8\" >protein</td>\n",
       "                        <td id=\"T_b0ec3_row3_col9\" class=\"data row3 col9\" >0</td>\n",
       "                        <td id=\"T_b0ec3_row3_col10\" class=\"data row3 col10\" >TRIOSEPHOSPHATE ISOMERASE</td>\n",
       "            </tr>\n",
       "    </tbody></table>"
      ],
      "text/plain": [
       "<pandas.io.formats.style.Styler at 0x7f8fe26aa3d0>"
      ]
     },
     "execution_count": 6,
     "metadata": {},
     "output_type": "execute_result"
    }
   ],
   "source": [
    "msm.info(molecular_system, target='group', indices=[20,21,22,23])"
   ]
  },
  {
   "cell_type": "markdown",
   "metadata": {},
   "source": [
    "### Summary information on components\n",
    "\n",
    "Find here now an example on how the method `molsysmt.info()` works over components:"
   ]
  },
  {
   "cell_type": "code",
   "execution_count": 7,
   "metadata": {},
   "outputs": [
    {
     "data": {
      "text/html": [
       "<style  type=\"text/css\" >\n",
       "</style><table id=\"T_82924_\" ><thead>    <tr>        <th class=\"col_heading level0 col0\" >index</th>        <th class=\"col_heading level0 col1\" >n atoms</th>        <th class=\"col_heading level0 col2\" >n groups</th>        <th class=\"col_heading level0 col3\" >chain index</th>        <th class=\"col_heading level0 col4\" >molecule index</th>        <th class=\"col_heading level0 col5\" >molecule type</th>        <th class=\"col_heading level0 col6\" >entity index</th>        <th class=\"col_heading level0 col7\" >entity name</th>    </tr></thead><tbody>\n",
       "                <tr>\n",
       "                                <td id=\"T_82924_row0_col0\" class=\"data row0 col0\" >0</td>\n",
       "                        <td id=\"T_82924_row0_col1\" class=\"data row0 col1\" >1906</td>\n",
       "                        <td id=\"T_82924_row0_col2\" class=\"data row0 col2\" >248</td>\n",
       "                        <td id=\"T_82924_row0_col3\" class=\"data row0 col3\" >0</td>\n",
       "                        <td id=\"T_82924_row0_col4\" class=\"data row0 col4\" >0</td>\n",
       "                        <td id=\"T_82924_row0_col5\" class=\"data row0 col5\" >protein</td>\n",
       "                        <td id=\"T_82924_row0_col6\" class=\"data row0 col6\" >0</td>\n",
       "                        <td id=\"T_82924_row0_col7\" class=\"data row0 col7\" >TRIOSEPHOSPHATE ISOMERASE</td>\n",
       "            </tr>\n",
       "            <tr>\n",
       "                                <td id=\"T_82924_row1_col0\" class=\"data row1 col0\" >1</td>\n",
       "                        <td id=\"T_82924_row1_col1\" class=\"data row1 col1\" >1912</td>\n",
       "                        <td id=\"T_82924_row1_col2\" class=\"data row1 col2\" >249</td>\n",
       "                        <td id=\"T_82924_row1_col3\" class=\"data row1 col3\" >1</td>\n",
       "                        <td id=\"T_82924_row1_col4\" class=\"data row1 col4\" >0</td>\n",
       "                        <td id=\"T_82924_row1_col5\" class=\"data row1 col5\" >protein</td>\n",
       "                        <td id=\"T_82924_row1_col6\" class=\"data row1 col6\" >0</td>\n",
       "                        <td id=\"T_82924_row1_col7\" class=\"data row1 col7\" >TRIOSEPHOSPHATE ISOMERASE</td>\n",
       "            </tr>\n",
       "    </tbody></table>"
      ],
      "text/plain": [
       "<pandas.io.formats.style.Styler at 0x7f8fe24c1fd0>"
      ]
     },
     "execution_count": 7,
     "metadata": {},
     "output_type": "execute_result"
    }
   ],
   "source": [
    "msm.info(molecular_system, target='component', selection='molecule_type!=\"water\"')"
   ]
  },
  {
   "cell_type": "markdown",
   "metadata": {},
   "source": [
    "### Summary information on chains\n",
    "\n",
    "If the summary information on all chains in the molecular system needs to be printed out:"
   ]
  },
  {
   "cell_type": "code",
   "execution_count": 8,
   "metadata": {},
   "outputs": [
    {
     "data": {
      "text/html": [
       "<style  type=\"text/css\" >\n",
       "</style><table id=\"T_a8455_\" ><thead>    <tr>        <th class=\"col_heading level0 col0\" >index</th>        <th class=\"col_heading level0 col1\" >id</th>        <th class=\"col_heading level0 col2\" >name</th>        <th class=\"col_heading level0 col3\" >n atoms</th>        <th class=\"col_heading level0 col4\" >n groups</th>        <th class=\"col_heading level0 col5\" >n components</th>        <th class=\"col_heading level0 col6\" >molecule index</th>        <th class=\"col_heading level0 col7\" >molecule type</th>        <th class=\"col_heading level0 col8\" >entity index</th>        <th class=\"col_heading level0 col9\" >entity name</th>    </tr></thead><tbody>\n",
       "                <tr>\n",
       "                                <td id=\"T_a8455_row0_col0\" class=\"data row0 col0\" >0</td>\n",
       "                        <td id=\"T_a8455_row0_col1\" class=\"data row0 col1\" >A</td>\n",
       "                        <td id=\"T_a8455_row0_col2\" class=\"data row0 col2\" >A</td>\n",
       "                        <td id=\"T_a8455_row0_col3\" class=\"data row0 col3\" >1906</td>\n",
       "                        <td id=\"T_a8455_row0_col4\" class=\"data row0 col4\" >248</td>\n",
       "                        <td id=\"T_a8455_row0_col5\" class=\"data row0 col5\" >1</td>\n",
       "                        <td id=\"T_a8455_row0_col6\" class=\"data row0 col6\" >0</td>\n",
       "                        <td id=\"T_a8455_row0_col7\" class=\"data row0 col7\" >protein</td>\n",
       "                        <td id=\"T_a8455_row0_col8\" class=\"data row0 col8\" >0</td>\n",
       "                        <td id=\"T_a8455_row0_col9\" class=\"data row0 col9\" >TRIOSEPHOSPHATE ISOMERASE</td>\n",
       "            </tr>\n",
       "            <tr>\n",
       "                                <td id=\"T_a8455_row1_col0\" class=\"data row1 col0\" >1</td>\n",
       "                        <td id=\"T_a8455_row1_col1\" class=\"data row1 col1\" >B</td>\n",
       "                        <td id=\"T_a8455_row1_col2\" class=\"data row1 col2\" >B</td>\n",
       "                        <td id=\"T_a8455_row1_col3\" class=\"data row1 col3\" >1912</td>\n",
       "                        <td id=\"T_a8455_row1_col4\" class=\"data row1 col4\" >249</td>\n",
       "                        <td id=\"T_a8455_row1_col5\" class=\"data row1 col5\" >1</td>\n",
       "                        <td id=\"T_a8455_row1_col6\" class=\"data row1 col6\" >0</td>\n",
       "                        <td id=\"T_a8455_row1_col7\" class=\"data row1 col7\" >protein</td>\n",
       "                        <td id=\"T_a8455_row1_col8\" class=\"data row1 col8\" >0</td>\n",
       "                        <td id=\"T_a8455_row1_col9\" class=\"data row1 col9\" >TRIOSEPHOSPHATE ISOMERASE</td>\n",
       "            </tr>\n",
       "            <tr>\n",
       "                                <td id=\"T_a8455_row2_col0\" class=\"data row2 col0\" >2</td>\n",
       "                        <td id=\"T_a8455_row2_col1\" class=\"data row2 col1\" >C</td>\n",
       "                        <td id=\"T_a8455_row2_col2\" class=\"data row2 col2\" >A</td>\n",
       "                        <td id=\"T_a8455_row2_col3\" class=\"data row2 col3\" >73</td>\n",
       "                        <td id=\"T_a8455_row2_col4\" class=\"data row2 col4\" >73</td>\n",
       "                        <td id=\"T_a8455_row2_col5\" class=\"data row2 col5\" >73</td>\n",
       "                        <td id=\"T_a8455_row2_col6\" class=\"data row2 col6\" >[ 1  2  3 ... 71 72 73]</td>\n",
       "                        <td id=\"T_a8455_row2_col7\" class=\"data row2 col7\" >['water' 'water' 'water' ... 'water' 'water' 'water']</td>\n",
       "                        <td id=\"T_a8455_row2_col8\" class=\"data row2 col8\" >1</td>\n",
       "                        <td id=\"T_a8455_row2_col9\" class=\"data row2 col9\" >water</td>\n",
       "            </tr>\n",
       "            <tr>\n",
       "                                <td id=\"T_a8455_row3_col0\" class=\"data row3 col0\" >3</td>\n",
       "                        <td id=\"T_a8455_row3_col1\" class=\"data row3 col1\" >D</td>\n",
       "                        <td id=\"T_a8455_row3_col2\" class=\"data row3 col2\" >B</td>\n",
       "                        <td id=\"T_a8455_row3_col3\" class=\"data row3 col3\" >92</td>\n",
       "                        <td id=\"T_a8455_row3_col4\" class=\"data row3 col4\" >92</td>\n",
       "                        <td id=\"T_a8455_row3_col5\" class=\"data row3 col5\" >92</td>\n",
       "                        <td id=\"T_a8455_row3_col6\" class=\"data row3 col6\" >[ 74  75  76 ... 163 164 165]</td>\n",
       "                        <td id=\"T_a8455_row3_col7\" class=\"data row3 col7\" >['water' 'water' 'water' ... 'water' 'water' 'water']</td>\n",
       "                        <td id=\"T_a8455_row3_col8\" class=\"data row3 col8\" >1</td>\n",
       "                        <td id=\"T_a8455_row3_col9\" class=\"data row3 col9\" >water</td>\n",
       "            </tr>\n",
       "    </tbody></table>"
      ],
      "text/plain": [
       "<pandas.io.formats.style.Styler at 0x7f8ff39f1e10>"
      ]
     },
     "execution_count": 8,
     "metadata": {},
     "output_type": "execute_result"
    }
   ],
   "source": [
    "msm.info(molecular_system, target='chain')"
   ]
  },
  {
   "cell_type": "markdown",
   "metadata": {},
   "source": [
    "### Summary information on molecules\n",
    "\n",
    "The following is an example on how the method works when the targetted element is 'molecule':"
   ]
  },
  {
   "cell_type": "code",
   "execution_count": 9,
   "metadata": {},
   "outputs": [
    {
     "data": {
      "text/html": [
       "<style  type=\"text/css\" >\n",
       "</style><table id=\"T_9cdae_\" ><thead>    <tr>        <th class=\"col_heading level0 col0\" >index</th>        <th class=\"col_heading level0 col1\" >name</th>        <th class=\"col_heading level0 col2\" >type</th>        <th class=\"col_heading level0 col3\" >n atoms</th>        <th class=\"col_heading level0 col4\" >n groups</th>        <th class=\"col_heading level0 col5\" >n components</th>        <th class=\"col_heading level0 col6\" >chain index</th>        <th class=\"col_heading level0 col7\" >entity index</th>        <th class=\"col_heading level0 col8\" >entity name</th>    </tr></thead><tbody>\n",
       "                <tr>\n",
       "                                <td id=\"T_9cdae_row0_col0\" class=\"data row0 col0\" >0</td>\n",
       "                        <td id=\"T_9cdae_row0_col1\" class=\"data row0 col1\" >TRIOSEPHOSPHATE ISOMERASE</td>\n",
       "                        <td id=\"T_9cdae_row0_col2\" class=\"data row0 col2\" >protein</td>\n",
       "                        <td id=\"T_9cdae_row0_col3\" class=\"data row0 col3\" >3818</td>\n",
       "                        <td id=\"T_9cdae_row0_col4\" class=\"data row0 col4\" >497</td>\n",
       "                        <td id=\"T_9cdae_row0_col5\" class=\"data row0 col5\" >2</td>\n",
       "                        <td id=\"T_9cdae_row0_col6\" class=\"data row0 col6\" >[0 1]</td>\n",
       "                        <td id=\"T_9cdae_row0_col7\" class=\"data row0 col7\" >0</td>\n",
       "                        <td id=\"T_9cdae_row0_col8\" class=\"data row0 col8\" >TRIOSEPHOSPHATE ISOMERASE</td>\n",
       "            </tr>\n",
       "    </tbody></table>"
      ],
      "text/plain": [
       "<pandas.io.formats.style.Styler at 0x7f8ff3a897d0>"
      ]
     },
     "execution_count": 9,
     "metadata": {},
     "output_type": "execute_result"
    }
   ],
   "source": [
    "msm.info(molecular_system, target='molecule', selection='molecule_type!=\"water\"')"
   ]
  },
  {
   "cell_type": "markdown",
   "metadata": {},
   "source": [
    "### Summary information on entities\n",
    "\n",
    "If the targetted element is 'entity' the method prints out the next summary information:"
   ]
  },
  {
   "cell_type": "code",
   "execution_count": 10,
   "metadata": {},
   "outputs": [
    {
     "data": {
      "text/html": [
       "<style  type=\"text/css\" >\n",
       "</style><table id=\"T_48abf_\" ><thead>    <tr>        <th class=\"col_heading level0 col0\" >index</th>        <th class=\"col_heading level0 col1\" >name</th>        <th class=\"col_heading level0 col2\" >type</th>        <th class=\"col_heading level0 col3\" >n atoms</th>        <th class=\"col_heading level0 col4\" >n groups</th>        <th class=\"col_heading level0 col5\" >n components</th>        <th class=\"col_heading level0 col6\" >n chains</th>        <th class=\"col_heading level0 col7\" >n molecules</th>    </tr></thead><tbody>\n",
       "                <tr>\n",
       "                                <td id=\"T_48abf_row0_col0\" class=\"data row0 col0\" >0</td>\n",
       "                        <td id=\"T_48abf_row0_col1\" class=\"data row0 col1\" >TRIOSEPHOSPHATE ISOMERASE</td>\n",
       "                        <td id=\"T_48abf_row0_col2\" class=\"data row0 col2\" >protein</td>\n",
       "                        <td id=\"T_48abf_row0_col3\" class=\"data row0 col3\" >3818</td>\n",
       "                        <td id=\"T_48abf_row0_col4\" class=\"data row0 col4\" >497</td>\n",
       "                        <td id=\"T_48abf_row0_col5\" class=\"data row0 col5\" >2</td>\n",
       "                        <td id=\"T_48abf_row0_col6\" class=\"data row0 col6\" >2</td>\n",
       "                        <td id=\"T_48abf_row0_col7\" class=\"data row0 col7\" >1</td>\n",
       "            </tr>\n",
       "            <tr>\n",
       "                                <td id=\"T_48abf_row1_col0\" class=\"data row1 col0\" >1</td>\n",
       "                        <td id=\"T_48abf_row1_col1\" class=\"data row1 col1\" >water</td>\n",
       "                        <td id=\"T_48abf_row1_col2\" class=\"data row1 col2\" >water</td>\n",
       "                        <td id=\"T_48abf_row1_col3\" class=\"data row1 col3\" >165</td>\n",
       "                        <td id=\"T_48abf_row1_col4\" class=\"data row1 col4\" >165</td>\n",
       "                        <td id=\"T_48abf_row1_col5\" class=\"data row1 col5\" >165</td>\n",
       "                        <td id=\"T_48abf_row1_col6\" class=\"data row1 col6\" >2</td>\n",
       "                        <td id=\"T_48abf_row1_col7\" class=\"data row1 col7\" >165</td>\n",
       "            </tr>\n",
       "    </tbody></table>"
      ],
      "text/plain": [
       "<pandas.io.formats.style.Styler at 0x7f8fe24d1810>"
      ]
     },
     "execution_count": 10,
     "metadata": {},
     "output_type": "execute_result"
    }
   ],
   "source": [
    "msm.info(molecular_system, target='entity')"
   ]
  },
  {
   "cell_type": "markdown",
   "metadata": {},
   "source": [
    "### Summary information on a molecular system\n",
    "\n",
    "At last, a summary information can be shown on the whole molecular system as follows:"
   ]
  },
  {
   "cell_type": "code",
   "execution_count": 11,
   "metadata": {},
   "outputs": [
    {
     "data": {
      "text/html": [
       "<style  type=\"text/css\" >\n",
       "</style><table id=\"T_5d8b2_\" ><thead>    <tr>        <th class=\"col_heading level0 col0\" >form</th>        <th class=\"col_heading level0 col1\" >n_atoms</th>        <th class=\"col_heading level0 col2\" >n_groups</th>        <th class=\"col_heading level0 col3\" >n_components</th>        <th class=\"col_heading level0 col4\" >n_chains</th>        <th class=\"col_heading level0 col5\" >n_molecules</th>        <th class=\"col_heading level0 col6\" >n_entities</th>        <th class=\"col_heading level0 col7\" >n_waters</th>        <th class=\"col_heading level0 col8\" >n_proteins</th>        <th class=\"col_heading level0 col9\" >n_frames</th>    </tr></thead><tbody>\n",
       "                <tr>\n",
       "                                <td id=\"T_5d8b2_row0_col0\" class=\"data row0 col0\" >molsysmt.MolSys</td>\n",
       "                        <td id=\"T_5d8b2_row0_col1\" class=\"data row0 col1\" >3983</td>\n",
       "                        <td id=\"T_5d8b2_row0_col2\" class=\"data row0 col2\" >662</td>\n",
       "                        <td id=\"T_5d8b2_row0_col3\" class=\"data row0 col3\" >167</td>\n",
       "                        <td id=\"T_5d8b2_row0_col4\" class=\"data row0 col4\" >4</td>\n",
       "                        <td id=\"T_5d8b2_row0_col5\" class=\"data row0 col5\" >166</td>\n",
       "                        <td id=\"T_5d8b2_row0_col6\" class=\"data row0 col6\" >2</td>\n",
       "                        <td id=\"T_5d8b2_row0_col7\" class=\"data row0 col7\" >165</td>\n",
       "                        <td id=\"T_5d8b2_row0_col8\" class=\"data row0 col8\" >1</td>\n",
       "                        <td id=\"T_5d8b2_row0_col9\" class=\"data row0 col9\" >1</td>\n",
       "            </tr>\n",
       "    </tbody></table>"
      ],
      "text/plain": [
       "<pandas.io.formats.style.Styler at 0x7f8ff39f82d0>"
      ]
     },
     "execution_count": 11,
     "metadata": {},
     "output_type": "execute_result"
    }
   ],
   "source": [
    "msm.info(molecular_system)"
   ]
  },
  {
   "cell_type": "code",
   "execution_count": 12,
   "metadata": {},
   "outputs": [],
   "source": [
    "topology, trajectory = msm.convert(item, to_form=['molsysmt.Topology','molsysmt.Trajectory'])"
   ]
  },
  {
   "cell_type": "code",
   "execution_count": 13,
   "metadata": {},
   "outputs": [
    {
     "data": {
      "text/html": [
       "<style  type=\"text/css\" >\n",
       "</style><table id=\"T_ca49c_\" ><thead>    <tr>        <th class=\"col_heading level0 col0\" >form</th>        <th class=\"col_heading level0 col1\" >n_atoms</th>        <th class=\"col_heading level0 col2\" >n_groups</th>        <th class=\"col_heading level0 col3\" >n_components</th>        <th class=\"col_heading level0 col4\" >n_chains</th>        <th class=\"col_heading level0 col5\" >n_molecules</th>        <th class=\"col_heading level0 col6\" >n_entities</th>        <th class=\"col_heading level0 col7\" >n_waters</th>        <th class=\"col_heading level0 col8\" >n_proteins</th>        <th class=\"col_heading level0 col9\" >n_frames</th>    </tr></thead><tbody>\n",
       "                <tr>\n",
       "                                <td id=\"T_ca49c_row0_col0\" class=\"data row0 col0\" >molsysmt.Topology</td>\n",
       "                        <td id=\"T_ca49c_row0_col1\" class=\"data row0 col1\" >3983</td>\n",
       "                        <td id=\"T_ca49c_row0_col2\" class=\"data row0 col2\" >662</td>\n",
       "                        <td id=\"T_ca49c_row0_col3\" class=\"data row0 col3\" >167</td>\n",
       "                        <td id=\"T_ca49c_row0_col4\" class=\"data row0 col4\" >4</td>\n",
       "                        <td id=\"T_ca49c_row0_col5\" class=\"data row0 col5\" >166</td>\n",
       "                        <td id=\"T_ca49c_row0_col6\" class=\"data row0 col6\" >2</td>\n",
       "                        <td id=\"T_ca49c_row0_col7\" class=\"data row0 col7\" >165</td>\n",
       "                        <td id=\"T_ca49c_row0_col8\" class=\"data row0 col8\" >1</td>\n",
       "                        <td id=\"T_ca49c_row0_col9\" class=\"data row0 col9\" >None</td>\n",
       "            </tr>\n",
       "    </tbody></table>"
      ],
      "text/plain": [
       "<pandas.io.formats.style.Styler at 0x7f8feb311950>"
      ]
     },
     "execution_count": 13,
     "metadata": {},
     "output_type": "execute_result"
    }
   ],
   "source": [
    "msm.info(topology)"
   ]
  },
  {
   "cell_type": "code",
   "execution_count": 14,
   "metadata": {},
   "outputs": [
    {
     "data": {
      "text/html": [
       "<style  type=\"text/css\" >\n",
       "</style><table id=\"T_59a6e_\" ><thead>    <tr>        <th class=\"col_heading level0 col0\" >form</th>        <th class=\"col_heading level0 col1\" >n_atoms</th>        <th class=\"col_heading level0 col2\" >n_groups</th>        <th class=\"col_heading level0 col3\" >n_components</th>        <th class=\"col_heading level0 col4\" >n_chains</th>        <th class=\"col_heading level0 col5\" >n_molecules</th>        <th class=\"col_heading level0 col6\" >n_entities</th>        <th class=\"col_heading level0 col7\" >n_frames</th>    </tr></thead><tbody>\n",
       "                <tr>\n",
       "                                <td id=\"T_59a6e_row0_col0\" class=\"data row0 col0\" >molsysmt.Trajectory</td>\n",
       "                        <td id=\"T_59a6e_row0_col1\" class=\"data row0 col1\" >3983</td>\n",
       "                        <td id=\"T_59a6e_row0_col2\" class=\"data row0 col2\" >None</td>\n",
       "                        <td id=\"T_59a6e_row0_col3\" class=\"data row0 col3\" >None</td>\n",
       "                        <td id=\"T_59a6e_row0_col4\" class=\"data row0 col4\" >None</td>\n",
       "                        <td id=\"T_59a6e_row0_col5\" class=\"data row0 col5\" >None</td>\n",
       "                        <td id=\"T_59a6e_row0_col6\" class=\"data row0 col6\" >None</td>\n",
       "                        <td id=\"T_59a6e_row0_col7\" class=\"data row0 col7\" >1</td>\n",
       "            </tr>\n",
       "    </tbody></table>"
      ],
      "text/plain": [
       "<pandas.io.formats.style.Styler at 0x7f8fe24cc110>"
      ]
     },
     "execution_count": 14,
     "metadata": {},
     "output_type": "execute_result"
    }
   ],
   "source": [
    "msm.info(trajectory)"
   ]
  },
  {
   "cell_type": "code",
   "execution_count": 15,
   "metadata": {},
   "outputs": [
    {
     "data": {
      "text/html": [
       "<style  type=\"text/css\" >\n",
       "</style><table id=\"T_51302_\" ><thead>    <tr>        <th class=\"col_heading level0 col0\" >form</th>        <th class=\"col_heading level0 col1\" >n_atoms</th>        <th class=\"col_heading level0 col2\" >n_groups</th>        <th class=\"col_heading level0 col3\" >n_components</th>        <th class=\"col_heading level0 col4\" >n_chains</th>        <th class=\"col_heading level0 col5\" >n_molecules</th>        <th class=\"col_heading level0 col6\" >n_entities</th>        <th class=\"col_heading level0 col7\" >n_waters</th>        <th class=\"col_heading level0 col8\" >n_proteins</th>        <th class=\"col_heading level0 col9\" >n_frames</th>    </tr></thead><tbody>\n",
       "                <tr>\n",
       "                                <td id=\"T_51302_row0_col0\" class=\"data row0 col0\" >['molsysmt.Topology', 'molsysmt.Trajectory']</td>\n",
       "                        <td id=\"T_51302_row0_col1\" class=\"data row0 col1\" >3983</td>\n",
       "                        <td id=\"T_51302_row0_col2\" class=\"data row0 col2\" >662</td>\n",
       "                        <td id=\"T_51302_row0_col3\" class=\"data row0 col3\" >167</td>\n",
       "                        <td id=\"T_51302_row0_col4\" class=\"data row0 col4\" >4</td>\n",
       "                        <td id=\"T_51302_row0_col5\" class=\"data row0 col5\" >166</td>\n",
       "                        <td id=\"T_51302_row0_col6\" class=\"data row0 col6\" >2</td>\n",
       "                        <td id=\"T_51302_row0_col7\" class=\"data row0 col7\" >165</td>\n",
       "                        <td id=\"T_51302_row0_col8\" class=\"data row0 col8\" >1</td>\n",
       "                        <td id=\"T_51302_row0_col9\" class=\"data row0 col9\" >1</td>\n",
       "            </tr>\n",
       "    </tbody></table>"
      ],
      "text/plain": [
       "<pandas.io.formats.style.Styler at 0x7f8ff39f8650>"
      ]
     },
     "execution_count": 15,
     "metadata": {},
     "output_type": "execute_result"
    }
   ],
   "source": [
    "msm.info([topology, trajectory])"
   ]
  },
  {
   "cell_type": "markdown",
   "metadata": {},
   "source": [
    "## As a string\n",
    "\n",
    "The method `molsysmt.info()` can also return a string, short or long, with key information to identify the targetted element."
   ]
  },
  {
   "cell_type": "markdown",
   "metadata": {},
   "source": [
    "### Summary information on atoms\n",
    "\n",
    "If we only need to get a short string encoding the main attributes of an atom, the input argument `output` should take the value 'short_string':"
   ]
  },
  {
   "cell_type": "code",
   "execution_count": 16,
   "metadata": {},
   "outputs": [
    {
     "data": {
      "text/plain": [
       "'CA-11@10'"
      ]
     },
     "execution_count": 16,
     "metadata": {},
     "output_type": "execute_result"
    }
   ],
   "source": [
    "msm.info(molecular_system, target='atom', indices=10, output='short_string')"
   ]
  },
  {
   "cell_type": "markdown",
   "metadata": {},
   "source": [
    "The string is nothing but the atom name, the atom id and the atom index with '-' between the name and the id, and '@' between the id and the index. The input argument `indices` accepts also a list of indices:"
   ]
  },
  {
   "cell_type": "code",
   "execution_count": 17,
   "metadata": {},
   "outputs": [
    {
     "data": {
      "text/plain": [
       "['CA-11@10', 'C-12@11', 'O-13@12', 'CB-14@13']"
      ]
     },
     "execution_count": 17,
     "metadata": {},
     "output_type": "execute_result"
    }
   ],
   "source": [
    "msm.info(molecular_system, target='atom', indices=[10,11,12,13], output='short_string')"
   ]
  },
  {
   "cell_type": "markdown",
   "metadata": {},
   "source": [
    "The long version of the string includes the short string of the group, chain and molecule the atom belongs to; with the character '/' in between:"
   ]
  },
  {
   "cell_type": "code",
   "execution_count": 18,
   "metadata": {},
   "outputs": [
    {
     "data": {
      "text/plain": [
       "'CA-11@10/PRO-5@1/A-A@0/TRIOSEPHOSPHATE ISOMERASE@0'"
      ]
     },
     "execution_count": 18,
     "metadata": {},
     "output_type": "execute_result"
    }
   ],
   "source": [
    "msm.info(molecular_system, target='atom', indices=10, output='long_string')"
   ]
  },
  {
   "cell_type": "markdown",
   "metadata": {},
   "source": [
    "### Summary information on groups\n",
    "\n",
    "The short string corresponding to a group is composed of its name, id and index. The characters used as separators are the same as with atoms: '-' between name and id, and '@' between id and index."
   ]
  },
  {
   "cell_type": "code",
   "execution_count": 19,
   "metadata": {},
   "outputs": [
    {
     "data": {
      "text/plain": [
       "'LYS-4@0'"
      ]
     },
     "execution_count": 19,
     "metadata": {},
     "output_type": "execute_result"
    }
   ],
   "source": [
    "msm.info(molecular_system, target='group', indices=0, output='short_string')"
   ]
  },
  {
   "cell_type": "markdown",
   "metadata": {},
   "source": [
    "The long version of the string includes the short string for the chain and molecule the group belongs to:"
   ]
  },
  {
   "cell_type": "code",
   "execution_count": 20,
   "metadata": {},
   "outputs": [
    {
     "data": {
      "text/plain": [
       "'PRO-7@3/A-A@0/TRIOSEPHOSPHATE ISOMERASE@0'"
      ]
     },
     "execution_count": 20,
     "metadata": {},
     "output_type": "execute_result"
    }
   ],
   "source": [
    "msm.info(molecular_system, target='group', indices=3, output='long_string')"
   ]
  },
  {
   "cell_type": "markdown",
   "metadata": {},
   "source": [
    "### Summary information on components"
   ]
  },
  {
   "cell_type": "markdown",
   "metadata": {},
   "source": [
    "The short string with the summary information of a component is its index only:"
   ]
  },
  {
   "cell_type": "code",
   "execution_count": 21,
   "metadata": {},
   "outputs": [
    {
     "data": {
      "text/plain": [
       "'2'"
      ]
     },
     "execution_count": 21,
     "metadata": {},
     "output_type": "execute_result"
    }
   ],
   "source": [
    "msm.info(molecular_system, target='component', indices=2, output='short_string')"
   ]
  },
  {
   "cell_type": "markdown",
   "metadata": {},
   "source": [
    "The long version of the string includes the chain and molecule the component belongs to with the character '/' as separator."
   ]
  },
  {
   "cell_type": "code",
   "execution_count": 22,
   "metadata": {},
   "outputs": [
    {
     "data": {
      "text/plain": [
       "'2/A-C@2/water@1'"
      ]
     },
     "execution_count": 22,
     "metadata": {},
     "output_type": "execute_result"
    }
   ],
   "source": [
    "msm.info(molecular_system, target='component', indices=2, output='long_string')"
   ]
  },
  {
   "cell_type": "markdown",
   "metadata": {},
   "source": [
    "### Summary information on chains"
   ]
  },
  {
   "cell_type": "markdown",
   "metadata": {},
   "source": [
    "Just like with atoms and groups, the short version of the chain string is made up of the sequence of atributes: name, id and index. The character '-' is in between the chain name and the chain id, and '@' precedes the chain index:"
   ]
  },
  {
   "cell_type": "code",
   "execution_count": 23,
   "metadata": {},
   "outputs": [
    {
     "data": {
      "text/plain": [
       "'A-C@2'"
      ]
     },
     "execution_count": 23,
     "metadata": {},
     "output_type": "execute_result"
    }
   ],
   "source": [
    "msm.info(molecular_system, target='chain', indices=2, output='short_string')"
   ]
  },
  {
   "cell_type": "markdown",
   "metadata": {},
   "source": [
    "The long version of the string in this case is the same as the short one:"
   ]
  },
  {
   "cell_type": "code",
   "execution_count": 24,
   "metadata": {},
   "outputs": [
    {
     "data": {
      "text/plain": [
       "'A-C@2'"
      ]
     },
     "execution_count": 24,
     "metadata": {},
     "output_type": "execute_result"
    }
   ],
   "source": [
    "msm.info(molecular_system, target='chain', indices=2, output='long_string')"
   ]
  },
  {
   "cell_type": "markdown",
   "metadata": {},
   "source": [
    "### Summary information on molecules\n",
    "\n",
    "Molecules have no relevant id attributes, thats why in this case the short string is the molecule name followed by the character '@' and the molecule index:"
   ]
  },
  {
   "cell_type": "code",
   "execution_count": 25,
   "metadata": {},
   "outputs": [
    {
     "data": {
      "text/plain": [
       "'TRIOSEPHOSPHATE ISOMERASE@0'"
      ]
     },
     "execution_count": 25,
     "metadata": {},
     "output_type": "execute_result"
    }
   ],
   "source": [
    "msm.info(molecular_system, target='molecule', indices=0, output='short_string')"
   ]
  },
  {
   "cell_type": "markdown",
   "metadata": {},
   "source": [
    "As well as with chains, the short and long strings are equivalent here:"
   ]
  },
  {
   "cell_type": "code",
   "execution_count": 26,
   "metadata": {},
   "outputs": [
    {
     "data": {
      "text/plain": [
       "'TRIOSEPHOSPHATE ISOMERASE@0'"
      ]
     },
     "execution_count": 26,
     "metadata": {},
     "output_type": "execute_result"
    }
   ],
   "source": [
    "msm.info(molecular_system, target='molecule', indices=0, output='long_string')"
   ]
  },
  {
   "cell_type": "markdown",
   "metadata": {},
   "source": [
    "### Summary information on entities"
   ]
  },
  {
   "cell_type": "markdown",
   "metadata": {},
   "source": [
    "The significant attributes for entities are only two. In this case the string takes the same coding as before, with the character '@' between the name and the index."
   ]
  },
  {
   "cell_type": "code",
   "execution_count": 27,
   "metadata": {},
   "outputs": [
    {
     "data": {
      "text/plain": [
       "'TRIOSEPHOSPHATE ISOMERASE@0'"
      ]
     },
     "execution_count": 27,
     "metadata": {},
     "output_type": "execute_result"
    }
   ],
   "source": [
    "msm.info(molecular_system, target='entity', indices=0, output='short_string')"
   ]
  },
  {
   "cell_type": "markdown",
   "metadata": {},
   "source": [
    "The long string is equal to the short string when the targetted element is an entity:"
   ]
  },
  {
   "cell_type": "code",
   "execution_count": 28,
   "metadata": {},
   "outputs": [
    {
     "data": {
      "text/plain": [
       "'TRIOSEPHOSPHATE ISOMERASE@0'"
      ]
     },
     "execution_count": 28,
     "metadata": {},
     "output_type": "execute_result"
    }
   ],
   "source": [
    "msm.info(molecular_system, target='entity', indices=0, output='long_string')"
   ]
  },
  {
   "cell_type": "code",
   "execution_count": null,
   "metadata": {},
   "outputs": [],
   "source": []
  }
 ],
 "metadata": {
  "kernelspec": {
   "display_name": "Python 3",
   "language": "python",
   "name": "python3"
  },
  "language_info": {
   "codemirror_mode": {
    "name": "ipython",
    "version": 3
   },
   "file_extension": ".py",
   "mimetype": "text/x-python",
   "name": "python",
   "nbconvert_exporter": "python",
   "pygments_lexer": "ipython3",
   "version": "3.7.10"
  }
 },
 "nbformat": 4,
 "nbformat_minor": 4
}
