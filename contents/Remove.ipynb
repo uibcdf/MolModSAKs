{
 "cells": [
  {
   "cell_type": "code",
   "execution_count": 1,
   "metadata": {},
   "outputs": [],
   "source": [
    "%load_ext autoreload\n",
    "%autoreload 2"
   ]
  },
  {
   "cell_type": "code",
   "execution_count": 2,
   "metadata": {},
   "outputs": [
    {
     "data": {
      "application/vnd.jupyter.widget-view+json": {
       "model_id": "19e36918a4474ea58831d34535258927",
       "version_major": 2,
       "version_minor": 0
      },
      "text/plain": []
     },
     "metadata": {},
     "output_type": "display_data"
    }
   ],
   "source": [
    "import molsysmt as msm"
   ]
  },
  {
   "cell_type": "markdown",
   "metadata": {},
   "source": [
    "# Removing atoms and frames from a molecular system"
   ]
  },
  {
   "cell_type": "markdown",
   "metadata": {},
   "source": [
    "## Removing frames"
   ]
  },
  {
   "cell_type": "code",
   "execution_count": 3,
   "metadata": {},
   "outputs": [],
   "source": [
    "pdbfile = msm.demo_systems.files['trp-cage.pdb']\n",
    "molecular_system = msm.convert(pdbfile, to_form='molsysmt.Trajectory')"
   ]
  },
  {
   "cell_type": "code",
   "execution_count": 4,
   "metadata": {},
   "outputs": [
    {
     "data": {
      "text/html": [
       "<style  type=\"text/css\" >\n",
       "</style><table id=\"T_e0133_\" ><thead>    <tr>        <th class=\"col_heading level0 col0\" >form</th>        <th class=\"col_heading level0 col1\" >n_atoms</th>        <th class=\"col_heading level0 col2\" >n_groups</th>        <th class=\"col_heading level0 col3\" >n_components</th>        <th class=\"col_heading level0 col4\" >n_chains</th>        <th class=\"col_heading level0 col5\" >n_molecules</th>        <th class=\"col_heading level0 col6\" >n_entities</th>        <th class=\"col_heading level0 col7\" >n_frames</th>    </tr></thead><tbody>\n",
       "                <tr>\n",
       "                                <td id=\"T_e0133_row0_col0\" class=\"data row0 col0\" >molsysmt.Trajectory</td>\n",
       "                        <td id=\"T_e0133_row0_col1\" class=\"data row0 col1\" >304</td>\n",
       "                        <td id=\"T_e0133_row0_col2\" class=\"data row0 col2\" >None</td>\n",
       "                        <td id=\"T_e0133_row0_col3\" class=\"data row0 col3\" >None</td>\n",
       "                        <td id=\"T_e0133_row0_col4\" class=\"data row0 col4\" >None</td>\n",
       "                        <td id=\"T_e0133_row0_col5\" class=\"data row0 col5\" >None</td>\n",
       "                        <td id=\"T_e0133_row0_col6\" class=\"data row0 col6\" >None</td>\n",
       "                        <td id=\"T_e0133_row0_col7\" class=\"data row0 col7\" >38</td>\n",
       "            </tr>\n",
       "    </tbody></table>"
      ],
      "text/plain": [
       "<pandas.io.formats.style.Styler at 0x7f0c60bc5ed0>"
      ]
     },
     "execution_count": 4,
     "metadata": {},
     "output_type": "execute_result"
    }
   ],
   "source": [
    "msm.info(molecular_system)"
   ]
  },
  {
   "cell_type": "code",
   "execution_count": 5,
   "metadata": {},
   "outputs": [],
   "source": [
    "molecular_system_trimmed = msm.remove(molecular_system, frame_indices=range(1,38))"
   ]
  },
  {
   "cell_type": "code",
   "execution_count": 6,
   "metadata": {},
   "outputs": [
    {
     "data": {
      "text/html": [
       "<style  type=\"text/css\" >\n",
       "</style><table id=\"T_73d7a_\" ><thead>    <tr>        <th class=\"col_heading level0 col0\" >form</th>        <th class=\"col_heading level0 col1\" >n_atoms</th>        <th class=\"col_heading level0 col2\" >n_groups</th>        <th class=\"col_heading level0 col3\" >n_components</th>        <th class=\"col_heading level0 col4\" >n_chains</th>        <th class=\"col_heading level0 col5\" >n_molecules</th>        <th class=\"col_heading level0 col6\" >n_entities</th>        <th class=\"col_heading level0 col7\" >n_frames</th>    </tr></thead><tbody>\n",
       "                <tr>\n",
       "                                <td id=\"T_73d7a_row0_col0\" class=\"data row0 col0\" >molsysmt.Trajectory</td>\n",
       "                        <td id=\"T_73d7a_row0_col1\" class=\"data row0 col1\" >304</td>\n",
       "                        <td id=\"T_73d7a_row0_col2\" class=\"data row0 col2\" >None</td>\n",
       "                        <td id=\"T_73d7a_row0_col3\" class=\"data row0 col3\" >None</td>\n",
       "                        <td id=\"T_73d7a_row0_col4\" class=\"data row0 col4\" >None</td>\n",
       "                        <td id=\"T_73d7a_row0_col5\" class=\"data row0 col5\" >None</td>\n",
       "                        <td id=\"T_73d7a_row0_col6\" class=\"data row0 col6\" >None</td>\n",
       "                        <td id=\"T_73d7a_row0_col7\" class=\"data row0 col7\" >1</td>\n",
       "            </tr>\n",
       "    </tbody></table>"
      ],
      "text/plain": [
       "<pandas.io.formats.style.Styler at 0x7f0d04aaa990>"
      ]
     },
     "execution_count": 6,
     "metadata": {},
     "output_type": "execute_result"
    }
   ],
   "source": [
    "msm.info(molecular_system_trimmed)"
   ]
  },
  {
   "cell_type": "markdown",
   "metadata": {},
   "source": [
    "## Removing atoms"
   ]
  },
  {
   "cell_type": "code",
   "execution_count": 7,
   "metadata": {},
   "outputs": [],
   "source": [
    "pdbfile = msm.demo_systems.files['1tcd.pdb']\n",
    "molecular_system = msm.convert(pdbfile)"
   ]
  },
  {
   "cell_type": "code",
   "execution_count": 8,
   "metadata": {},
   "outputs": [
    {
     "data": {
      "text/html": [
       "<style  type=\"text/css\" >\n",
       "</style><table id=\"T_51afa_\" ><thead>    <tr>        <th class=\"col_heading level0 col0\" >form</th>        <th class=\"col_heading level0 col1\" >n_atoms</th>        <th class=\"col_heading level0 col2\" >n_groups</th>        <th class=\"col_heading level0 col3\" >n_components</th>        <th class=\"col_heading level0 col4\" >n_chains</th>        <th class=\"col_heading level0 col5\" >n_molecules</th>        <th class=\"col_heading level0 col6\" >n_entities</th>        <th class=\"col_heading level0 col7\" >n_waters</th>        <th class=\"col_heading level0 col8\" >n_proteins</th>        <th class=\"col_heading level0 col9\" >n_frames</th>    </tr></thead><tbody>\n",
       "                <tr>\n",
       "                                <td id=\"T_51afa_row0_col0\" class=\"data row0 col0\" >molsysmt.MolSys</td>\n",
       "                        <td id=\"T_51afa_row0_col1\" class=\"data row0 col1\" >3983</td>\n",
       "                        <td id=\"T_51afa_row0_col2\" class=\"data row0 col2\" >662</td>\n",
       "                        <td id=\"T_51afa_row0_col3\" class=\"data row0 col3\" >167</td>\n",
       "                        <td id=\"T_51afa_row0_col4\" class=\"data row0 col4\" >4</td>\n",
       "                        <td id=\"T_51afa_row0_col5\" class=\"data row0 col5\" >167</td>\n",
       "                        <td id=\"T_51afa_row0_col6\" class=\"data row0 col6\" >3</td>\n",
       "                        <td id=\"T_51afa_row0_col7\" class=\"data row0 col7\" >165</td>\n",
       "                        <td id=\"T_51afa_row0_col8\" class=\"data row0 col8\" >2</td>\n",
       "                        <td id=\"T_51afa_row0_col9\" class=\"data row0 col9\" >1</td>\n",
       "            </tr>\n",
       "    </tbody></table>"
      ],
      "text/plain": [
       "<pandas.io.formats.style.Styler at 0x7f0cb6e66090>"
      ]
     },
     "execution_count": 8,
     "metadata": {},
     "output_type": "execute_result"
    }
   ],
   "source": [
    "msm.info(molecular_system)"
   ]
  },
  {
   "cell_type": "code",
   "execution_count": 9,
   "metadata": {},
   "outputs": [],
   "source": [
    "molecular_system_trimmed = msm.remove(molecular_system, selection='chain_index==[1,2,3]')"
   ]
  },
  {
   "cell_type": "code",
   "execution_count": 10,
   "metadata": {},
   "outputs": [
    {
     "data": {
      "text/html": [
       "<style  type=\"text/css\" >\n",
       "</style><table id=\"T_26dae_\" ><thead>    <tr>        <th class=\"col_heading level0 col0\" >form</th>        <th class=\"col_heading level0 col1\" >n_atoms</th>        <th class=\"col_heading level0 col2\" >n_groups</th>        <th class=\"col_heading level0 col3\" >n_components</th>        <th class=\"col_heading level0 col4\" >n_chains</th>        <th class=\"col_heading level0 col5\" >n_molecules</th>        <th class=\"col_heading level0 col6\" >n_entities</th>        <th class=\"col_heading level0 col7\" >n_proteins</th>        <th class=\"col_heading level0 col8\" >n_frames</th>    </tr></thead><tbody>\n",
       "                <tr>\n",
       "                                <td id=\"T_26dae_row0_col0\" class=\"data row0 col0\" >molsysmt.MolSys</td>\n",
       "                        <td id=\"T_26dae_row0_col1\" class=\"data row0 col1\" >1906</td>\n",
       "                        <td id=\"T_26dae_row0_col2\" class=\"data row0 col2\" >248</td>\n",
       "                        <td id=\"T_26dae_row0_col3\" class=\"data row0 col3\" >1</td>\n",
       "                        <td id=\"T_26dae_row0_col4\" class=\"data row0 col4\" >1</td>\n",
       "                        <td id=\"T_26dae_row0_col5\" class=\"data row0 col5\" >1</td>\n",
       "                        <td id=\"T_26dae_row0_col6\" class=\"data row0 col6\" >1</td>\n",
       "                        <td id=\"T_26dae_row0_col7\" class=\"data row0 col7\" >1</td>\n",
       "                        <td id=\"T_26dae_row0_col8\" class=\"data row0 col8\" >1</td>\n",
       "            </tr>\n",
       "    </tbody></table>"
      ],
      "text/plain": [
       "<pandas.io.formats.style.Styler at 0x7f0ccfaf6990>"
      ]
     },
     "execution_count": 10,
     "metadata": {},
     "output_type": "execute_result"
    }
   ],
   "source": [
    "msm.info(molecular_system_trimmed)"
   ]
  },
  {
   "cell_type": "markdown",
   "metadata": {},
   "source": [
    "## Removing hydrogen atoms"
   ]
  },
  {
   "cell_type": "code",
   "execution_count": 11,
   "metadata": {},
   "outputs": [
    {
     "name": "stderr",
     "output_type": "stream",
     "text": [
      "/home/diego/Myopt/miniconda3/envs/MolSysMT_env/lib/python3.7/site-packages/mdtraj/formats/pdb/pdbfile.py:198: UserWarning: Unlikely unit cell vectors detected in PDB file likely resulting from a dummy CRYST1 record. Discarding unit cell vectors.\n",
      "  'cell vectors.', category=UserWarning)\n"
     ]
    }
   ],
   "source": [
    "pdbfile = msm.demo_systems.files['trp-cage.pdb']\n",
    "molecular_system = msm.convert(pdbfile, frame_indices=0)"
   ]
  },
  {
   "cell_type": "code",
   "execution_count": 12,
   "metadata": {},
   "outputs": [
    {
     "name": "stdout",
     "output_type": "stream",
     "text": [
      "150 hydrogen atoms in the system\n"
     ]
    }
   ],
   "source": [
    "n_Hs = msm.get(molecular_system, selection='atom_type==\"H\"', n_atoms=True)\n",
    "print('{} hydrogen atoms in the system'.format(n_Hs))"
   ]
  },
  {
   "cell_type": "code",
   "execution_count": 13,
   "metadata": {},
   "outputs": [],
   "source": [
    "molecular_system = msm.remove_hydrogens(molecular_system)"
   ]
  },
  {
   "cell_type": "code",
   "execution_count": 14,
   "metadata": {},
   "outputs": [
    {
     "name": "stdout",
     "output_type": "stream",
     "text": [
      "0 hydrogen atoms in the system\n"
     ]
    }
   ],
   "source": [
    "n_Hs = msm.get(molecular_system, selection='atom_type==\"H\"', n_atoms=True)\n",
    "print('{} hydrogen atoms in the system'.format(n_Hs))"
   ]
  },
  {
   "cell_type": "markdown",
   "metadata": {},
   "source": [
    "## Removing the solvent"
   ]
  },
  {
   "cell_type": "code",
   "execution_count": 15,
   "metadata": {},
   "outputs": [],
   "source": [
    "pdbfile = msm.demo_systems.files['trp-cage_solvated.pdb']\n",
    "molecular_system = msm.convert(pdbfile, frame_indices=0)"
   ]
  },
  {
   "cell_type": "code",
   "execution_count": 16,
   "metadata": {},
   "outputs": [
    {
     "data": {
      "text/html": [
       "<style  type=\"text/css\" >\n",
       "</style><table id=\"T_82797_\" ><thead>    <tr>        <th class=\"col_heading level0 col0\" >form</th>        <th class=\"col_heading level0 col1\" >n_atoms</th>        <th class=\"col_heading level0 col2\" >n_groups</th>        <th class=\"col_heading level0 col3\" >n_components</th>        <th class=\"col_heading level0 col4\" >n_chains</th>        <th class=\"col_heading level0 col5\" >n_molecules</th>        <th class=\"col_heading level0 col6\" >n_entities</th>        <th class=\"col_heading level0 col7\" >n_waters</th>        <th class=\"col_heading level0 col8\" >n_ions</th>        <th class=\"col_heading level0 col9\" >n_peptides</th>        <th class=\"col_heading level0 col10\" >n_frames</th>    </tr></thead><tbody>\n",
       "                <tr>\n",
       "                                <td id=\"T_82797_row0_col0\" class=\"data row0 col0\" >molsysmt.MolSys</td>\n",
       "                        <td id=\"T_82797_row0_col1\" class=\"data row0 col1\" >10544</td>\n",
       "                        <td id=\"T_82797_row0_col2\" class=\"data row0 col2\" >3434</td>\n",
       "                        <td id=\"T_82797_row0_col3\" class=\"data row0 col3\" >3415</td>\n",
       "                        <td id=\"T_82797_row0_col4\" class=\"data row0 col4\" >1</td>\n",
       "                        <td id=\"T_82797_row0_col5\" class=\"data row0 col5\" >3415</td>\n",
       "                        <td id=\"T_82797_row0_col6\" class=\"data row0 col6\" >3</td>\n",
       "                        <td id=\"T_82797_row0_col7\" class=\"data row0 col7\" >3413</td>\n",
       "                        <td id=\"T_82797_row0_col8\" class=\"data row0 col8\" >1</td>\n",
       "                        <td id=\"T_82797_row0_col9\" class=\"data row0 col9\" >1</td>\n",
       "                        <td id=\"T_82797_row0_col10\" class=\"data row0 col10\" >1</td>\n",
       "            </tr>\n",
       "    </tbody></table>"
      ],
      "text/plain": [
       "<pandas.io.formats.style.Styler at 0x7f0d051ffd50>"
      ]
     },
     "execution_count": 16,
     "metadata": {},
     "output_type": "execute_result"
    }
   ],
   "source": [
    "msm.info(molecular_system)"
   ]
  },
  {
   "cell_type": "code",
   "execution_count": 17,
   "metadata": {},
   "outputs": [],
   "source": [
    "molecular_system = msm.remove_solvent(molecular_system)"
   ]
  },
  {
   "cell_type": "code",
   "execution_count": 18,
   "metadata": {},
   "outputs": [
    {
     "data": {
      "text/html": [
       "<style  type=\"text/css\" >\n",
       "</style><table id=\"T_827a0_\" ><thead>    <tr>        <th class=\"col_heading level0 col0\" >form</th>        <th class=\"col_heading level0 col1\" >n_atoms</th>        <th class=\"col_heading level0 col2\" >n_groups</th>        <th class=\"col_heading level0 col3\" >n_components</th>        <th class=\"col_heading level0 col4\" >n_chains</th>        <th class=\"col_heading level0 col5\" >n_molecules</th>        <th class=\"col_heading level0 col6\" >n_entities</th>        <th class=\"col_heading level0 col7\" >n_peptides</th>        <th class=\"col_heading level0 col8\" >n_frames</th>    </tr></thead><tbody>\n",
       "                <tr>\n",
       "                                <td id=\"T_827a0_row0_col0\" class=\"data row0 col0\" >molsysmt.MolSys</td>\n",
       "                        <td id=\"T_827a0_row0_col1\" class=\"data row0 col1\" >304</td>\n",
       "                        <td id=\"T_827a0_row0_col2\" class=\"data row0 col2\" >20</td>\n",
       "                        <td id=\"T_827a0_row0_col3\" class=\"data row0 col3\" >1</td>\n",
       "                        <td id=\"T_827a0_row0_col4\" class=\"data row0 col4\" >1</td>\n",
       "                        <td id=\"T_827a0_row0_col5\" class=\"data row0 col5\" >1</td>\n",
       "                        <td id=\"T_827a0_row0_col6\" class=\"data row0 col6\" >1</td>\n",
       "                        <td id=\"T_827a0_row0_col7\" class=\"data row0 col7\" >1</td>\n",
       "                        <td id=\"T_827a0_row0_col8\" class=\"data row0 col8\" >1</td>\n",
       "            </tr>\n",
       "    </tbody></table>"
      ],
      "text/plain": [
       "<pandas.io.formats.style.Styler at 0x7f0cb6ff1110>"
      ]
     },
     "execution_count": 18,
     "metadata": {},
     "output_type": "execute_result"
    }
   ],
   "source": [
    "msm.info(molecular_system)"
   ]
  },
  {
   "cell_type": "code",
   "execution_count": null,
   "metadata": {},
   "outputs": [],
   "source": []
  }
 ],
 "metadata": {
  "kernelspec": {
   "display_name": "Python 3",
   "language": "python",
   "name": "python3"
  },
  "language_info": {
   "codemirror_mode": {
    "name": "ipython",
    "version": 3
   },
   "file_extension": ".py",
   "mimetype": "text/x-python",
   "name": "python",
   "nbconvert_exporter": "python",
   "pygments_lexer": "ipython3",
   "version": "3.7.10"
  }
 },
 "nbformat": 4,
 "nbformat_minor": 4
}
