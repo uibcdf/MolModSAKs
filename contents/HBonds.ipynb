{
 "cells": [
  {
   "cell_type": "code",
   "execution_count": 1,
   "metadata": {
    "execution": {
     "iopub.execute_input": "2021-07-13T21:15:06.854107Z",
     "iopub.status.busy": "2021-07-13T21:15:06.853666Z",
     "iopub.status.idle": "2021-07-13T21:15:06.867552Z",
     "shell.execute_reply": "2021-07-13T21:15:06.867032Z"
    }
   },
   "outputs": [],
   "source": [
    "%load_ext autoreload\n",
    "%autoreload 2"
   ]
  },
  {
   "cell_type": "code",
   "execution_count": 2,
   "metadata": {
    "execution": {
     "iopub.execute_input": "2021-07-13T21:15:06.870854Z",
     "iopub.status.busy": "2021-07-13T21:15:06.870404Z",
     "iopub.status.idle": "2021-07-13T21:15:06.934803Z",
     "shell.execute_reply": "2021-07-13T21:15:06.935512Z"
    }
   },
   "outputs": [],
   "source": [
    "import numpy as np\n",
    "np.warnings.filterwarnings('ignore', category=np.VisibleDeprecationWarning) # Debugging: 'ignore' -> 'error'"
   ]
  },
  {
   "cell_type": "markdown",
   "metadata": {},
   "source": [
    "# Hydrogen bonds"
   ]
  },
  {
   "cell_type": "code",
   "execution_count": 3,
   "metadata": {
    "execution": {
     "iopub.execute_input": "2021-07-13T21:15:06.938476Z",
     "iopub.status.busy": "2021-07-13T21:15:06.937580Z",
     "iopub.status.idle": "2021-07-13T21:15:08.396480Z",
     "shell.execute_reply": "2021-07-13T21:15:08.396885Z"
    }
   },
   "outputs": [
    {
     "data": {
      "application/vnd.jupyter.widget-view+json": {
       "model_id": "b265990a4e314f7fae20397538b0ca21",
       "version_major": 2,
       "version_minor": 0
      },
      "text/plain": []
     },
     "metadata": {},
     "output_type": "display_data"
    }
   ],
   "source": [
    "import molsysmt as msm"
   ]
  },
  {
   "cell_type": "code",
   "execution_count": 4,
   "metadata": {
    "execution": {
     "iopub.execute_input": "2021-07-13T21:15:08.400634Z",
     "iopub.status.busy": "2021-07-13T21:15:08.399836Z",
     "iopub.status.idle": "2021-07-13T21:15:08.630254Z",
     "shell.execute_reply": "2021-07-13T21:15:08.629770Z"
    }
   },
   "outputs": [],
   "source": [
    "molecular_system = msm.demo_systems.files['pentalanine.h5']\n",
    "molecular_system = msm.convert(molecular_system, to_form='molsysmt.MolSys')"
   ]
  },
  {
   "cell_type": "code",
   "execution_count": 5,
   "metadata": {
    "execution": {
     "iopub.execute_input": "2021-07-13T21:15:08.634118Z",
     "iopub.status.busy": "2021-07-13T21:15:08.632925Z",
     "iopub.status.idle": "2021-07-13T21:15:09.279079Z",
     "shell.execute_reply": "2021-07-13T21:15:09.279465Z"
    }
   },
   "outputs": [
    {
     "data": {
      "text/html": [
       "<style type=\"text/css\">\n",
       "</style>\n",
       "<table id=\"T_61c70_\">\n",
       "  <thead>\n",
       "    <tr>\n",
       "      <th class=\"col_heading level0 col0\" >form</th>\n",
       "      <th class=\"col_heading level0 col1\" >n_atoms</th>\n",
       "      <th class=\"col_heading level0 col2\" >n_groups</th>\n",
       "      <th class=\"col_heading level0 col3\" >n_components</th>\n",
       "      <th class=\"col_heading level0 col4\" >n_chains</th>\n",
       "      <th class=\"col_heading level0 col5\" >n_molecules</th>\n",
       "      <th class=\"col_heading level0 col6\" >n_entities</th>\n",
       "      <th class=\"col_heading level0 col7\" >n_peptides</th>\n",
       "      <th class=\"col_heading level0 col8\" >n_frames</th>\n",
       "    </tr>\n",
       "  </thead>\n",
       "  <tbody>\n",
       "    <tr>\n",
       "      <td id=\"T_61c70_row0_col0\" class=\"data row0 col0\" >molsysmt.MolSys</td>\n",
       "      <td id=\"T_61c70_row0_col1\" class=\"data row0 col1\" >62</td>\n",
       "      <td id=\"T_61c70_row0_col2\" class=\"data row0 col2\" >7</td>\n",
       "      <td id=\"T_61c70_row0_col3\" class=\"data row0 col3\" >1</td>\n",
       "      <td id=\"T_61c70_row0_col4\" class=\"data row0 col4\" >1</td>\n",
       "      <td id=\"T_61c70_row0_col5\" class=\"data row0 col5\" >1</td>\n",
       "      <td id=\"T_61c70_row0_col6\" class=\"data row0 col6\" >1</td>\n",
       "      <td id=\"T_61c70_row0_col7\" class=\"data row0 col7\" >1</td>\n",
       "      <td id=\"T_61c70_row0_col8\" class=\"data row0 col8\" >5000</td>\n",
       "    </tr>\n",
       "  </tbody>\n",
       "</table>\n"
      ],
      "text/plain": [
       "<pandas.io.formats.style.Styler at 0x7f97ca36fe50>"
      ]
     },
     "execution_count": 5,
     "metadata": {},
     "output_type": "execute_result"
    }
   ],
   "source": [
    "msm.info(molecular_system)"
   ]
  },
  {
   "cell_type": "markdown",
   "metadata": {},
   "source": [
    "## Acceptor atoms"
   ]
  },
  {
   "cell_type": "code",
   "execution_count": 6,
   "metadata": {
    "execution": {
     "iopub.execute_input": "2021-07-13T21:15:09.283095Z",
     "iopub.status.busy": "2021-07-13T21:15:09.282242Z",
     "iopub.status.idle": "2021-07-13T21:15:09.310258Z",
     "shell.execute_reply": "2021-07-13T21:15:09.309835Z"
    }
   },
   "outputs": [
    {
     "data": {
      "text/plain": [
       "[\"atom_type=='O'\", \"atom_type=='N'\", \"atom_type=='S'\"]"
      ]
     },
     "execution_count": 6,
     "metadata": {},
     "output_type": "execute_result"
    }
   ],
   "source": [
    "msm.hbonds.acceptor_inclusion_rules"
   ]
  },
  {
   "cell_type": "code",
   "execution_count": 7,
   "metadata": {
    "execution": {
     "iopub.execute_input": "2021-07-13T21:15:09.314175Z",
     "iopub.status.busy": "2021-07-13T21:15:09.313705Z",
     "iopub.status.idle": "2021-07-13T21:15:09.336420Z",
     "shell.execute_reply": "2021-07-13T21:15:09.336002Z"
    }
   },
   "outputs": [
    {
     "data": {
      "text/plain": [
       "[\"atom_name=='NE2' and group_name=='GLN'\",\n",
       " \"(atom_name=='NE2' and group_name=='HIS') bonded to (atom_type=='H')\",\n",
       " \"(atom_name=='ND1' and group_name=='HIS') bonded to (atom_type=='H')\"]"
      ]
     },
     "execution_count": 7,
     "metadata": {},
     "output_type": "execute_result"
    }
   ],
   "source": [
    "msm.hbonds.acceptor_exclusion_rules"
   ]
  },
  {
   "cell_type": "code",
   "execution_count": 8,
   "metadata": {
    "execution": {
     "iopub.execute_input": "2021-07-13T21:15:09.339755Z",
     "iopub.status.busy": "2021-07-13T21:15:09.339009Z",
     "iopub.status.idle": "2021-07-13T21:15:09.478286Z",
     "shell.execute_reply": "2021-07-13T21:15:09.477818Z"
    }
   },
   "outputs": [],
   "source": [
    "acceptors=msm.hbonds.get_acceptor_atoms(molecular_system)"
   ]
  },
  {
   "cell_type": "code",
   "execution_count": 9,
   "metadata": {
    "execution": {
     "iopub.execute_input": "2021-07-13T21:15:09.481778Z",
     "iopub.status.busy": "2021-07-13T21:15:09.481336Z",
     "iopub.status.idle": "2021-07-13T21:15:09.505041Z",
     "shell.execute_reply": "2021-07-13T21:15:09.504669Z"
    }
   },
   "outputs": [
    {
     "data": {
      "text/plain": [
       "array([ 5,  6, 15, ..., 46, 55, 56])"
      ]
     },
     "execution_count": 9,
     "metadata": {},
     "output_type": "execute_result"
    }
   ],
   "source": [
    "acceptors"
   ]
  },
  {
   "cell_type": "code",
   "execution_count": 10,
   "metadata": {
    "execution": {
     "iopub.execute_input": "2021-07-13T21:15:09.508880Z",
     "iopub.status.busy": "2021-07-13T21:15:09.508434Z",
     "iopub.status.idle": "2021-07-13T21:15:09.740631Z",
     "shell.execute_reply": "2021-07-13T21:15:09.741056Z"
    }
   },
   "outputs": [
    {
     "data": {
      "text/html": [
       "<style type=\"text/css\">\n",
       "</style>\n",
       "<table id=\"T_7824a_\">\n",
       "  <thead>\n",
       "    <tr>\n",
       "      <th class=\"col_heading level0 col0\" >index</th>\n",
       "      <th class=\"col_heading level0 col1\" >id</th>\n",
       "      <th class=\"col_heading level0 col2\" >name</th>\n",
       "      <th class=\"col_heading level0 col3\" >type</th>\n",
       "      <th class=\"col_heading level0 col4\" >group index</th>\n",
       "      <th class=\"col_heading level0 col5\" >group id</th>\n",
       "      <th class=\"col_heading level0 col6\" >group name</th>\n",
       "      <th class=\"col_heading level0 col7\" >group type</th>\n",
       "      <th class=\"col_heading level0 col8\" >component index</th>\n",
       "      <th class=\"col_heading level0 col9\" >chain index</th>\n",
       "      <th class=\"col_heading level0 col10\" >molecule index</th>\n",
       "      <th class=\"col_heading level0 col11\" >molecule type</th>\n",
       "      <th class=\"col_heading level0 col12\" >entity index</th>\n",
       "      <th class=\"col_heading level0 col13\" >entity name</th>\n",
       "    </tr>\n",
       "  </thead>\n",
       "  <tbody>\n",
       "    <tr>\n",
       "      <td id=\"T_7824a_row0_col0\" class=\"data row0 col0\" >5</td>\n",
       "      <td id=\"T_7824a_row0_col1\" class=\"data row0 col1\" >None</td>\n",
       "      <td id=\"T_7824a_row0_col2\" class=\"data row0 col2\" >O</td>\n",
       "      <td id=\"T_7824a_row0_col3\" class=\"data row0 col3\" >O</td>\n",
       "      <td id=\"T_7824a_row0_col4\" class=\"data row0 col4\" >0</td>\n",
       "      <td id=\"T_7824a_row0_col5\" class=\"data row0 col5\" >1</td>\n",
       "      <td id=\"T_7824a_row0_col6\" class=\"data row0 col6\" >ACE</td>\n",
       "      <td id=\"T_7824a_row0_col7\" class=\"data row0 col7\" >aminoacid</td>\n",
       "      <td id=\"T_7824a_row0_col8\" class=\"data row0 col8\" >0</td>\n",
       "      <td id=\"T_7824a_row0_col9\" class=\"data row0 col9\" >0</td>\n",
       "      <td id=\"T_7824a_row0_col10\" class=\"data row0 col10\" >0</td>\n",
       "      <td id=\"T_7824a_row0_col11\" class=\"data row0 col11\" >peptide</td>\n",
       "      <td id=\"T_7824a_row0_col12\" class=\"data row0 col12\" >0</td>\n",
       "      <td id=\"T_7824a_row0_col13\" class=\"data row0 col13\" >Peptide_0</td>\n",
       "    </tr>\n",
       "    <tr>\n",
       "      <td id=\"T_7824a_row1_col0\" class=\"data row1 col0\" >6</td>\n",
       "      <td id=\"T_7824a_row1_col1\" class=\"data row1 col1\" >None</td>\n",
       "      <td id=\"T_7824a_row1_col2\" class=\"data row1 col2\" >N</td>\n",
       "      <td id=\"T_7824a_row1_col3\" class=\"data row1 col3\" >N</td>\n",
       "      <td id=\"T_7824a_row1_col4\" class=\"data row1 col4\" >1</td>\n",
       "      <td id=\"T_7824a_row1_col5\" class=\"data row1 col5\" >2</td>\n",
       "      <td id=\"T_7824a_row1_col6\" class=\"data row1 col6\" >ALA</td>\n",
       "      <td id=\"T_7824a_row1_col7\" class=\"data row1 col7\" >aminoacid</td>\n",
       "      <td id=\"T_7824a_row1_col8\" class=\"data row1 col8\" >0</td>\n",
       "      <td id=\"T_7824a_row1_col9\" class=\"data row1 col9\" >0</td>\n",
       "      <td id=\"T_7824a_row1_col10\" class=\"data row1 col10\" >0</td>\n",
       "      <td id=\"T_7824a_row1_col11\" class=\"data row1 col11\" >peptide</td>\n",
       "      <td id=\"T_7824a_row1_col12\" class=\"data row1 col12\" >0</td>\n",
       "      <td id=\"T_7824a_row1_col13\" class=\"data row1 col13\" >Peptide_0</td>\n",
       "    </tr>\n",
       "    <tr>\n",
       "      <td id=\"T_7824a_row2_col0\" class=\"data row2 col0\" >15</td>\n",
       "      <td id=\"T_7824a_row2_col1\" class=\"data row2 col1\" >None</td>\n",
       "      <td id=\"T_7824a_row2_col2\" class=\"data row2 col2\" >O</td>\n",
       "      <td id=\"T_7824a_row2_col3\" class=\"data row2 col3\" >O</td>\n",
       "      <td id=\"T_7824a_row2_col4\" class=\"data row2 col4\" >1</td>\n",
       "      <td id=\"T_7824a_row2_col5\" class=\"data row2 col5\" >2</td>\n",
       "      <td id=\"T_7824a_row2_col6\" class=\"data row2 col6\" >ALA</td>\n",
       "      <td id=\"T_7824a_row2_col7\" class=\"data row2 col7\" >aminoacid</td>\n",
       "      <td id=\"T_7824a_row2_col8\" class=\"data row2 col8\" >0</td>\n",
       "      <td id=\"T_7824a_row2_col9\" class=\"data row2 col9\" >0</td>\n",
       "      <td id=\"T_7824a_row2_col10\" class=\"data row2 col10\" >0</td>\n",
       "      <td id=\"T_7824a_row2_col11\" class=\"data row2 col11\" >peptide</td>\n",
       "      <td id=\"T_7824a_row2_col12\" class=\"data row2 col12\" >0</td>\n",
       "      <td id=\"T_7824a_row2_col13\" class=\"data row2 col13\" >Peptide_0</td>\n",
       "    </tr>\n",
       "    <tr>\n",
       "      <td id=\"T_7824a_row3_col0\" class=\"data row3 col0\" >16</td>\n",
       "      <td id=\"T_7824a_row3_col1\" class=\"data row3 col1\" >None</td>\n",
       "      <td id=\"T_7824a_row3_col2\" class=\"data row3 col2\" >N</td>\n",
       "      <td id=\"T_7824a_row3_col3\" class=\"data row3 col3\" >N</td>\n",
       "      <td id=\"T_7824a_row3_col4\" class=\"data row3 col4\" >2</td>\n",
       "      <td id=\"T_7824a_row3_col5\" class=\"data row3 col5\" >3</td>\n",
       "      <td id=\"T_7824a_row3_col6\" class=\"data row3 col6\" >ALA</td>\n",
       "      <td id=\"T_7824a_row3_col7\" class=\"data row3 col7\" >aminoacid</td>\n",
       "      <td id=\"T_7824a_row3_col8\" class=\"data row3 col8\" >0</td>\n",
       "      <td id=\"T_7824a_row3_col9\" class=\"data row3 col9\" >0</td>\n",
       "      <td id=\"T_7824a_row3_col10\" class=\"data row3 col10\" >0</td>\n",
       "      <td id=\"T_7824a_row3_col11\" class=\"data row3 col11\" >peptide</td>\n",
       "      <td id=\"T_7824a_row3_col12\" class=\"data row3 col12\" >0</td>\n",
       "      <td id=\"T_7824a_row3_col13\" class=\"data row3 col13\" >Peptide_0</td>\n",
       "    </tr>\n",
       "    <tr>\n",
       "      <td id=\"T_7824a_row4_col0\" class=\"data row4 col0\" >25</td>\n",
       "      <td id=\"T_7824a_row4_col1\" class=\"data row4 col1\" >None</td>\n",
       "      <td id=\"T_7824a_row4_col2\" class=\"data row4 col2\" >O</td>\n",
       "      <td id=\"T_7824a_row4_col3\" class=\"data row4 col3\" >O</td>\n",
       "      <td id=\"T_7824a_row4_col4\" class=\"data row4 col4\" >2</td>\n",
       "      <td id=\"T_7824a_row4_col5\" class=\"data row4 col5\" >3</td>\n",
       "      <td id=\"T_7824a_row4_col6\" class=\"data row4 col6\" >ALA</td>\n",
       "      <td id=\"T_7824a_row4_col7\" class=\"data row4 col7\" >aminoacid</td>\n",
       "      <td id=\"T_7824a_row4_col8\" class=\"data row4 col8\" >0</td>\n",
       "      <td id=\"T_7824a_row4_col9\" class=\"data row4 col9\" >0</td>\n",
       "      <td id=\"T_7824a_row4_col10\" class=\"data row4 col10\" >0</td>\n",
       "      <td id=\"T_7824a_row4_col11\" class=\"data row4 col11\" >peptide</td>\n",
       "      <td id=\"T_7824a_row4_col12\" class=\"data row4 col12\" >0</td>\n",
       "      <td id=\"T_7824a_row4_col13\" class=\"data row4 col13\" >Peptide_0</td>\n",
       "    </tr>\n",
       "    <tr>\n",
       "      <td id=\"T_7824a_row5_col0\" class=\"data row5 col0\" >26</td>\n",
       "      <td id=\"T_7824a_row5_col1\" class=\"data row5 col1\" >None</td>\n",
       "      <td id=\"T_7824a_row5_col2\" class=\"data row5 col2\" >N</td>\n",
       "      <td id=\"T_7824a_row5_col3\" class=\"data row5 col3\" >N</td>\n",
       "      <td id=\"T_7824a_row5_col4\" class=\"data row5 col4\" >3</td>\n",
       "      <td id=\"T_7824a_row5_col5\" class=\"data row5 col5\" >4</td>\n",
       "      <td id=\"T_7824a_row5_col6\" class=\"data row5 col6\" >ALA</td>\n",
       "      <td id=\"T_7824a_row5_col7\" class=\"data row5 col7\" >aminoacid</td>\n",
       "      <td id=\"T_7824a_row5_col8\" class=\"data row5 col8\" >0</td>\n",
       "      <td id=\"T_7824a_row5_col9\" class=\"data row5 col9\" >0</td>\n",
       "      <td id=\"T_7824a_row5_col10\" class=\"data row5 col10\" >0</td>\n",
       "      <td id=\"T_7824a_row5_col11\" class=\"data row5 col11\" >peptide</td>\n",
       "      <td id=\"T_7824a_row5_col12\" class=\"data row5 col12\" >0</td>\n",
       "      <td id=\"T_7824a_row5_col13\" class=\"data row5 col13\" >Peptide_0</td>\n",
       "    </tr>\n",
       "    <tr>\n",
       "      <td id=\"T_7824a_row6_col0\" class=\"data row6 col0\" >35</td>\n",
       "      <td id=\"T_7824a_row6_col1\" class=\"data row6 col1\" >None</td>\n",
       "      <td id=\"T_7824a_row6_col2\" class=\"data row6 col2\" >O</td>\n",
       "      <td id=\"T_7824a_row6_col3\" class=\"data row6 col3\" >O</td>\n",
       "      <td id=\"T_7824a_row6_col4\" class=\"data row6 col4\" >3</td>\n",
       "      <td id=\"T_7824a_row6_col5\" class=\"data row6 col5\" >4</td>\n",
       "      <td id=\"T_7824a_row6_col6\" class=\"data row6 col6\" >ALA</td>\n",
       "      <td id=\"T_7824a_row6_col7\" class=\"data row6 col7\" >aminoacid</td>\n",
       "      <td id=\"T_7824a_row6_col8\" class=\"data row6 col8\" >0</td>\n",
       "      <td id=\"T_7824a_row6_col9\" class=\"data row6 col9\" >0</td>\n",
       "      <td id=\"T_7824a_row6_col10\" class=\"data row6 col10\" >0</td>\n",
       "      <td id=\"T_7824a_row6_col11\" class=\"data row6 col11\" >peptide</td>\n",
       "      <td id=\"T_7824a_row6_col12\" class=\"data row6 col12\" >0</td>\n",
       "      <td id=\"T_7824a_row6_col13\" class=\"data row6 col13\" >Peptide_0</td>\n",
       "    </tr>\n",
       "    <tr>\n",
       "      <td id=\"T_7824a_row7_col0\" class=\"data row7 col0\" >36</td>\n",
       "      <td id=\"T_7824a_row7_col1\" class=\"data row7 col1\" >None</td>\n",
       "      <td id=\"T_7824a_row7_col2\" class=\"data row7 col2\" >N</td>\n",
       "      <td id=\"T_7824a_row7_col3\" class=\"data row7 col3\" >N</td>\n",
       "      <td id=\"T_7824a_row7_col4\" class=\"data row7 col4\" >4</td>\n",
       "      <td id=\"T_7824a_row7_col5\" class=\"data row7 col5\" >5</td>\n",
       "      <td id=\"T_7824a_row7_col6\" class=\"data row7 col6\" >ALA</td>\n",
       "      <td id=\"T_7824a_row7_col7\" class=\"data row7 col7\" >aminoacid</td>\n",
       "      <td id=\"T_7824a_row7_col8\" class=\"data row7 col8\" >0</td>\n",
       "      <td id=\"T_7824a_row7_col9\" class=\"data row7 col9\" >0</td>\n",
       "      <td id=\"T_7824a_row7_col10\" class=\"data row7 col10\" >0</td>\n",
       "      <td id=\"T_7824a_row7_col11\" class=\"data row7 col11\" >peptide</td>\n",
       "      <td id=\"T_7824a_row7_col12\" class=\"data row7 col12\" >0</td>\n",
       "      <td id=\"T_7824a_row7_col13\" class=\"data row7 col13\" >Peptide_0</td>\n",
       "    </tr>\n",
       "    <tr>\n",
       "      <td id=\"T_7824a_row8_col0\" class=\"data row8 col0\" >45</td>\n",
       "      <td id=\"T_7824a_row8_col1\" class=\"data row8 col1\" >None</td>\n",
       "      <td id=\"T_7824a_row8_col2\" class=\"data row8 col2\" >O</td>\n",
       "      <td id=\"T_7824a_row8_col3\" class=\"data row8 col3\" >O</td>\n",
       "      <td id=\"T_7824a_row8_col4\" class=\"data row8 col4\" >4</td>\n",
       "      <td id=\"T_7824a_row8_col5\" class=\"data row8 col5\" >5</td>\n",
       "      <td id=\"T_7824a_row8_col6\" class=\"data row8 col6\" >ALA</td>\n",
       "      <td id=\"T_7824a_row8_col7\" class=\"data row8 col7\" >aminoacid</td>\n",
       "      <td id=\"T_7824a_row8_col8\" class=\"data row8 col8\" >0</td>\n",
       "      <td id=\"T_7824a_row8_col9\" class=\"data row8 col9\" >0</td>\n",
       "      <td id=\"T_7824a_row8_col10\" class=\"data row8 col10\" >0</td>\n",
       "      <td id=\"T_7824a_row8_col11\" class=\"data row8 col11\" >peptide</td>\n",
       "      <td id=\"T_7824a_row8_col12\" class=\"data row8 col12\" >0</td>\n",
       "      <td id=\"T_7824a_row8_col13\" class=\"data row8 col13\" >Peptide_0</td>\n",
       "    </tr>\n",
       "    <tr>\n",
       "      <td id=\"T_7824a_row9_col0\" class=\"data row9 col0\" >46</td>\n",
       "      <td id=\"T_7824a_row9_col1\" class=\"data row9 col1\" >None</td>\n",
       "      <td id=\"T_7824a_row9_col2\" class=\"data row9 col2\" >N</td>\n",
       "      <td id=\"T_7824a_row9_col3\" class=\"data row9 col3\" >N</td>\n",
       "      <td id=\"T_7824a_row9_col4\" class=\"data row9 col4\" >5</td>\n",
       "      <td id=\"T_7824a_row9_col5\" class=\"data row9 col5\" >6</td>\n",
       "      <td id=\"T_7824a_row9_col6\" class=\"data row9 col6\" >ALA</td>\n",
       "      <td id=\"T_7824a_row9_col7\" class=\"data row9 col7\" >aminoacid</td>\n",
       "      <td id=\"T_7824a_row9_col8\" class=\"data row9 col8\" >0</td>\n",
       "      <td id=\"T_7824a_row9_col9\" class=\"data row9 col9\" >0</td>\n",
       "      <td id=\"T_7824a_row9_col10\" class=\"data row9 col10\" >0</td>\n",
       "      <td id=\"T_7824a_row9_col11\" class=\"data row9 col11\" >peptide</td>\n",
       "      <td id=\"T_7824a_row9_col12\" class=\"data row9 col12\" >0</td>\n",
       "      <td id=\"T_7824a_row9_col13\" class=\"data row9 col13\" >Peptide_0</td>\n",
       "    </tr>\n",
       "    <tr>\n",
       "      <td id=\"T_7824a_row10_col0\" class=\"data row10 col0\" >55</td>\n",
       "      <td id=\"T_7824a_row10_col1\" class=\"data row10 col1\" >None</td>\n",
       "      <td id=\"T_7824a_row10_col2\" class=\"data row10 col2\" >O</td>\n",
       "      <td id=\"T_7824a_row10_col3\" class=\"data row10 col3\" >O</td>\n",
       "      <td id=\"T_7824a_row10_col4\" class=\"data row10 col4\" >5</td>\n",
       "      <td id=\"T_7824a_row10_col5\" class=\"data row10 col5\" >6</td>\n",
       "      <td id=\"T_7824a_row10_col6\" class=\"data row10 col6\" >ALA</td>\n",
       "      <td id=\"T_7824a_row10_col7\" class=\"data row10 col7\" >aminoacid</td>\n",
       "      <td id=\"T_7824a_row10_col8\" class=\"data row10 col8\" >0</td>\n",
       "      <td id=\"T_7824a_row10_col9\" class=\"data row10 col9\" >0</td>\n",
       "      <td id=\"T_7824a_row10_col10\" class=\"data row10 col10\" >0</td>\n",
       "      <td id=\"T_7824a_row10_col11\" class=\"data row10 col11\" >peptide</td>\n",
       "      <td id=\"T_7824a_row10_col12\" class=\"data row10 col12\" >0</td>\n",
       "      <td id=\"T_7824a_row10_col13\" class=\"data row10 col13\" >Peptide_0</td>\n",
       "    </tr>\n",
       "    <tr>\n",
       "      <td id=\"T_7824a_row11_col0\" class=\"data row11 col0\" >56</td>\n",
       "      <td id=\"T_7824a_row11_col1\" class=\"data row11 col1\" >None</td>\n",
       "      <td id=\"T_7824a_row11_col2\" class=\"data row11 col2\" >N</td>\n",
       "      <td id=\"T_7824a_row11_col3\" class=\"data row11 col3\" >N</td>\n",
       "      <td id=\"T_7824a_row11_col4\" class=\"data row11 col4\" >6</td>\n",
       "      <td id=\"T_7824a_row11_col5\" class=\"data row11 col5\" >7</td>\n",
       "      <td id=\"T_7824a_row11_col6\" class=\"data row11 col6\" >NME</td>\n",
       "      <td id=\"T_7824a_row11_col7\" class=\"data row11 col7\" >aminoacid</td>\n",
       "      <td id=\"T_7824a_row11_col8\" class=\"data row11 col8\" >0</td>\n",
       "      <td id=\"T_7824a_row11_col9\" class=\"data row11 col9\" >0</td>\n",
       "      <td id=\"T_7824a_row11_col10\" class=\"data row11 col10\" >0</td>\n",
       "      <td id=\"T_7824a_row11_col11\" class=\"data row11 col11\" >peptide</td>\n",
       "      <td id=\"T_7824a_row11_col12\" class=\"data row11 col12\" >0</td>\n",
       "      <td id=\"T_7824a_row11_col13\" class=\"data row11 col13\" >Peptide_0</td>\n",
       "    </tr>\n",
       "  </tbody>\n",
       "</table>\n"
      ],
      "text/plain": [
       "<pandas.io.formats.style.Styler at 0x7f97ba58edd0>"
      ]
     },
     "execution_count": 10,
     "metadata": {},
     "output_type": "execute_result"
    }
   ],
   "source": [
    "msm.info(molecular_system, target='atom', selection='@acceptors')"
   ]
  },
  {
   "cell_type": "code",
   "execution_count": 11,
   "metadata": {
    "execution": {
     "iopub.execute_input": "2021-07-13T21:15:09.743982Z",
     "iopub.status.busy": "2021-07-13T21:15:09.743545Z",
     "iopub.status.idle": "2021-07-13T21:15:09.904701Z",
     "shell.execute_reply": "2021-07-13T21:15:09.904256Z"
    }
   },
   "outputs": [],
   "source": [
    "acceptors=msm.hbonds.get_acceptor_atoms(molecular_system, inclusion_rules=[\"atom_name=='CB'\"],\n",
    "                                        exclusion_rules=[\"atom_type=='N' and group_name=='ALA'\"])"
   ]
  },
  {
   "cell_type": "code",
   "execution_count": 12,
   "metadata": {
    "execution": {
     "iopub.execute_input": "2021-07-13T21:15:09.908184Z",
     "iopub.status.busy": "2021-07-13T21:15:09.907744Z",
     "iopub.status.idle": "2021-07-13T21:15:09.963570Z",
     "shell.execute_reply": "2021-07-13T21:15:09.963935Z"
    }
   },
   "outputs": [
    {
     "data": {
      "text/html": [
       "<style type=\"text/css\">\n",
       "</style>\n",
       "<table id=\"T_956e5_\">\n",
       "  <thead>\n",
       "    <tr>\n",
       "      <th class=\"col_heading level0 col0\" >index</th>\n",
       "      <th class=\"col_heading level0 col1\" >id</th>\n",
       "      <th class=\"col_heading level0 col2\" >name</th>\n",
       "      <th class=\"col_heading level0 col3\" >type</th>\n",
       "      <th class=\"col_heading level0 col4\" >group index</th>\n",
       "      <th class=\"col_heading level0 col5\" >group id</th>\n",
       "      <th class=\"col_heading level0 col6\" >group name</th>\n",
       "      <th class=\"col_heading level0 col7\" >group type</th>\n",
       "      <th class=\"col_heading level0 col8\" >component index</th>\n",
       "      <th class=\"col_heading level0 col9\" >chain index</th>\n",
       "      <th class=\"col_heading level0 col10\" >molecule index</th>\n",
       "      <th class=\"col_heading level0 col11\" >molecule type</th>\n",
       "      <th class=\"col_heading level0 col12\" >entity index</th>\n",
       "      <th class=\"col_heading level0 col13\" >entity name</th>\n",
       "    </tr>\n",
       "  </thead>\n",
       "  <tbody>\n",
       "    <tr>\n",
       "      <td id=\"T_956e5_row0_col0\" class=\"data row0 col0\" >5</td>\n",
       "      <td id=\"T_956e5_row0_col1\" class=\"data row0 col1\" >None</td>\n",
       "      <td id=\"T_956e5_row0_col2\" class=\"data row0 col2\" >O</td>\n",
       "      <td id=\"T_956e5_row0_col3\" class=\"data row0 col3\" >O</td>\n",
       "      <td id=\"T_956e5_row0_col4\" class=\"data row0 col4\" >0</td>\n",
       "      <td id=\"T_956e5_row0_col5\" class=\"data row0 col5\" >1</td>\n",
       "      <td id=\"T_956e5_row0_col6\" class=\"data row0 col6\" >ACE</td>\n",
       "      <td id=\"T_956e5_row0_col7\" class=\"data row0 col7\" >aminoacid</td>\n",
       "      <td id=\"T_956e5_row0_col8\" class=\"data row0 col8\" >0</td>\n",
       "      <td id=\"T_956e5_row0_col9\" class=\"data row0 col9\" >0</td>\n",
       "      <td id=\"T_956e5_row0_col10\" class=\"data row0 col10\" >0</td>\n",
       "      <td id=\"T_956e5_row0_col11\" class=\"data row0 col11\" >peptide</td>\n",
       "      <td id=\"T_956e5_row0_col12\" class=\"data row0 col12\" >0</td>\n",
       "      <td id=\"T_956e5_row0_col13\" class=\"data row0 col13\" >Peptide_0</td>\n",
       "    </tr>\n",
       "    <tr>\n",
       "      <td id=\"T_956e5_row1_col0\" class=\"data row1 col0\" >10</td>\n",
       "      <td id=\"T_956e5_row1_col1\" class=\"data row1 col1\" >None</td>\n",
       "      <td id=\"T_956e5_row1_col2\" class=\"data row1 col2\" >CB</td>\n",
       "      <td id=\"T_956e5_row1_col3\" class=\"data row1 col3\" >C</td>\n",
       "      <td id=\"T_956e5_row1_col4\" class=\"data row1 col4\" >1</td>\n",
       "      <td id=\"T_956e5_row1_col5\" class=\"data row1 col5\" >2</td>\n",
       "      <td id=\"T_956e5_row1_col6\" class=\"data row1 col6\" >ALA</td>\n",
       "      <td id=\"T_956e5_row1_col7\" class=\"data row1 col7\" >aminoacid</td>\n",
       "      <td id=\"T_956e5_row1_col8\" class=\"data row1 col8\" >0</td>\n",
       "      <td id=\"T_956e5_row1_col9\" class=\"data row1 col9\" >0</td>\n",
       "      <td id=\"T_956e5_row1_col10\" class=\"data row1 col10\" >0</td>\n",
       "      <td id=\"T_956e5_row1_col11\" class=\"data row1 col11\" >peptide</td>\n",
       "      <td id=\"T_956e5_row1_col12\" class=\"data row1 col12\" >0</td>\n",
       "      <td id=\"T_956e5_row1_col13\" class=\"data row1 col13\" >Peptide_0</td>\n",
       "    </tr>\n",
       "    <tr>\n",
       "      <td id=\"T_956e5_row2_col0\" class=\"data row2 col0\" >15</td>\n",
       "      <td id=\"T_956e5_row2_col1\" class=\"data row2 col1\" >None</td>\n",
       "      <td id=\"T_956e5_row2_col2\" class=\"data row2 col2\" >O</td>\n",
       "      <td id=\"T_956e5_row2_col3\" class=\"data row2 col3\" >O</td>\n",
       "      <td id=\"T_956e5_row2_col4\" class=\"data row2 col4\" >1</td>\n",
       "      <td id=\"T_956e5_row2_col5\" class=\"data row2 col5\" >2</td>\n",
       "      <td id=\"T_956e5_row2_col6\" class=\"data row2 col6\" >ALA</td>\n",
       "      <td id=\"T_956e5_row2_col7\" class=\"data row2 col7\" >aminoacid</td>\n",
       "      <td id=\"T_956e5_row2_col8\" class=\"data row2 col8\" >0</td>\n",
       "      <td id=\"T_956e5_row2_col9\" class=\"data row2 col9\" >0</td>\n",
       "      <td id=\"T_956e5_row2_col10\" class=\"data row2 col10\" >0</td>\n",
       "      <td id=\"T_956e5_row2_col11\" class=\"data row2 col11\" >peptide</td>\n",
       "      <td id=\"T_956e5_row2_col12\" class=\"data row2 col12\" >0</td>\n",
       "      <td id=\"T_956e5_row2_col13\" class=\"data row2 col13\" >Peptide_0</td>\n",
       "    </tr>\n",
       "    <tr>\n",
       "      <td id=\"T_956e5_row3_col0\" class=\"data row3 col0\" >20</td>\n",
       "      <td id=\"T_956e5_row3_col1\" class=\"data row3 col1\" >None</td>\n",
       "      <td id=\"T_956e5_row3_col2\" class=\"data row3 col2\" >CB</td>\n",
       "      <td id=\"T_956e5_row3_col3\" class=\"data row3 col3\" >C</td>\n",
       "      <td id=\"T_956e5_row3_col4\" class=\"data row3 col4\" >2</td>\n",
       "      <td id=\"T_956e5_row3_col5\" class=\"data row3 col5\" >3</td>\n",
       "      <td id=\"T_956e5_row3_col6\" class=\"data row3 col6\" >ALA</td>\n",
       "      <td id=\"T_956e5_row3_col7\" class=\"data row3 col7\" >aminoacid</td>\n",
       "      <td id=\"T_956e5_row3_col8\" class=\"data row3 col8\" >0</td>\n",
       "      <td id=\"T_956e5_row3_col9\" class=\"data row3 col9\" >0</td>\n",
       "      <td id=\"T_956e5_row3_col10\" class=\"data row3 col10\" >0</td>\n",
       "      <td id=\"T_956e5_row3_col11\" class=\"data row3 col11\" >peptide</td>\n",
       "      <td id=\"T_956e5_row3_col12\" class=\"data row3 col12\" >0</td>\n",
       "      <td id=\"T_956e5_row3_col13\" class=\"data row3 col13\" >Peptide_0</td>\n",
       "    </tr>\n",
       "    <tr>\n",
       "      <td id=\"T_956e5_row4_col0\" class=\"data row4 col0\" >25</td>\n",
       "      <td id=\"T_956e5_row4_col1\" class=\"data row4 col1\" >None</td>\n",
       "      <td id=\"T_956e5_row4_col2\" class=\"data row4 col2\" >O</td>\n",
       "      <td id=\"T_956e5_row4_col3\" class=\"data row4 col3\" >O</td>\n",
       "      <td id=\"T_956e5_row4_col4\" class=\"data row4 col4\" >2</td>\n",
       "      <td id=\"T_956e5_row4_col5\" class=\"data row4 col5\" >3</td>\n",
       "      <td id=\"T_956e5_row4_col6\" class=\"data row4 col6\" >ALA</td>\n",
       "      <td id=\"T_956e5_row4_col7\" class=\"data row4 col7\" >aminoacid</td>\n",
       "      <td id=\"T_956e5_row4_col8\" class=\"data row4 col8\" >0</td>\n",
       "      <td id=\"T_956e5_row4_col9\" class=\"data row4 col9\" >0</td>\n",
       "      <td id=\"T_956e5_row4_col10\" class=\"data row4 col10\" >0</td>\n",
       "      <td id=\"T_956e5_row4_col11\" class=\"data row4 col11\" >peptide</td>\n",
       "      <td id=\"T_956e5_row4_col12\" class=\"data row4 col12\" >0</td>\n",
       "      <td id=\"T_956e5_row4_col13\" class=\"data row4 col13\" >Peptide_0</td>\n",
       "    </tr>\n",
       "    <tr>\n",
       "      <td id=\"T_956e5_row5_col0\" class=\"data row5 col0\" >30</td>\n",
       "      <td id=\"T_956e5_row5_col1\" class=\"data row5 col1\" >None</td>\n",
       "      <td id=\"T_956e5_row5_col2\" class=\"data row5 col2\" >CB</td>\n",
       "      <td id=\"T_956e5_row5_col3\" class=\"data row5 col3\" >C</td>\n",
       "      <td id=\"T_956e5_row5_col4\" class=\"data row5 col4\" >3</td>\n",
       "      <td id=\"T_956e5_row5_col5\" class=\"data row5 col5\" >4</td>\n",
       "      <td id=\"T_956e5_row5_col6\" class=\"data row5 col6\" >ALA</td>\n",
       "      <td id=\"T_956e5_row5_col7\" class=\"data row5 col7\" >aminoacid</td>\n",
       "      <td id=\"T_956e5_row5_col8\" class=\"data row5 col8\" >0</td>\n",
       "      <td id=\"T_956e5_row5_col9\" class=\"data row5 col9\" >0</td>\n",
       "      <td id=\"T_956e5_row5_col10\" class=\"data row5 col10\" >0</td>\n",
       "      <td id=\"T_956e5_row5_col11\" class=\"data row5 col11\" >peptide</td>\n",
       "      <td id=\"T_956e5_row5_col12\" class=\"data row5 col12\" >0</td>\n",
       "      <td id=\"T_956e5_row5_col13\" class=\"data row5 col13\" >Peptide_0</td>\n",
       "    </tr>\n",
       "    <tr>\n",
       "      <td id=\"T_956e5_row6_col0\" class=\"data row6 col0\" >35</td>\n",
       "      <td id=\"T_956e5_row6_col1\" class=\"data row6 col1\" >None</td>\n",
       "      <td id=\"T_956e5_row6_col2\" class=\"data row6 col2\" >O</td>\n",
       "      <td id=\"T_956e5_row6_col3\" class=\"data row6 col3\" >O</td>\n",
       "      <td id=\"T_956e5_row6_col4\" class=\"data row6 col4\" >3</td>\n",
       "      <td id=\"T_956e5_row6_col5\" class=\"data row6 col5\" >4</td>\n",
       "      <td id=\"T_956e5_row6_col6\" class=\"data row6 col6\" >ALA</td>\n",
       "      <td id=\"T_956e5_row6_col7\" class=\"data row6 col7\" >aminoacid</td>\n",
       "      <td id=\"T_956e5_row6_col8\" class=\"data row6 col8\" >0</td>\n",
       "      <td id=\"T_956e5_row6_col9\" class=\"data row6 col9\" >0</td>\n",
       "      <td id=\"T_956e5_row6_col10\" class=\"data row6 col10\" >0</td>\n",
       "      <td id=\"T_956e5_row6_col11\" class=\"data row6 col11\" >peptide</td>\n",
       "      <td id=\"T_956e5_row6_col12\" class=\"data row6 col12\" >0</td>\n",
       "      <td id=\"T_956e5_row6_col13\" class=\"data row6 col13\" >Peptide_0</td>\n",
       "    </tr>\n",
       "    <tr>\n",
       "      <td id=\"T_956e5_row7_col0\" class=\"data row7 col0\" >40</td>\n",
       "      <td id=\"T_956e5_row7_col1\" class=\"data row7 col1\" >None</td>\n",
       "      <td id=\"T_956e5_row7_col2\" class=\"data row7 col2\" >CB</td>\n",
       "      <td id=\"T_956e5_row7_col3\" class=\"data row7 col3\" >C</td>\n",
       "      <td id=\"T_956e5_row7_col4\" class=\"data row7 col4\" >4</td>\n",
       "      <td id=\"T_956e5_row7_col5\" class=\"data row7 col5\" >5</td>\n",
       "      <td id=\"T_956e5_row7_col6\" class=\"data row7 col6\" >ALA</td>\n",
       "      <td id=\"T_956e5_row7_col7\" class=\"data row7 col7\" >aminoacid</td>\n",
       "      <td id=\"T_956e5_row7_col8\" class=\"data row7 col8\" >0</td>\n",
       "      <td id=\"T_956e5_row7_col9\" class=\"data row7 col9\" >0</td>\n",
       "      <td id=\"T_956e5_row7_col10\" class=\"data row7 col10\" >0</td>\n",
       "      <td id=\"T_956e5_row7_col11\" class=\"data row7 col11\" >peptide</td>\n",
       "      <td id=\"T_956e5_row7_col12\" class=\"data row7 col12\" >0</td>\n",
       "      <td id=\"T_956e5_row7_col13\" class=\"data row7 col13\" >Peptide_0</td>\n",
       "    </tr>\n",
       "    <tr>\n",
       "      <td id=\"T_956e5_row8_col0\" class=\"data row8 col0\" >45</td>\n",
       "      <td id=\"T_956e5_row8_col1\" class=\"data row8 col1\" >None</td>\n",
       "      <td id=\"T_956e5_row8_col2\" class=\"data row8 col2\" >O</td>\n",
       "      <td id=\"T_956e5_row8_col3\" class=\"data row8 col3\" >O</td>\n",
       "      <td id=\"T_956e5_row8_col4\" class=\"data row8 col4\" >4</td>\n",
       "      <td id=\"T_956e5_row8_col5\" class=\"data row8 col5\" >5</td>\n",
       "      <td id=\"T_956e5_row8_col6\" class=\"data row8 col6\" >ALA</td>\n",
       "      <td id=\"T_956e5_row8_col7\" class=\"data row8 col7\" >aminoacid</td>\n",
       "      <td id=\"T_956e5_row8_col8\" class=\"data row8 col8\" >0</td>\n",
       "      <td id=\"T_956e5_row8_col9\" class=\"data row8 col9\" >0</td>\n",
       "      <td id=\"T_956e5_row8_col10\" class=\"data row8 col10\" >0</td>\n",
       "      <td id=\"T_956e5_row8_col11\" class=\"data row8 col11\" >peptide</td>\n",
       "      <td id=\"T_956e5_row8_col12\" class=\"data row8 col12\" >0</td>\n",
       "      <td id=\"T_956e5_row8_col13\" class=\"data row8 col13\" >Peptide_0</td>\n",
       "    </tr>\n",
       "    <tr>\n",
       "      <td id=\"T_956e5_row9_col0\" class=\"data row9 col0\" >50</td>\n",
       "      <td id=\"T_956e5_row9_col1\" class=\"data row9 col1\" >None</td>\n",
       "      <td id=\"T_956e5_row9_col2\" class=\"data row9 col2\" >CB</td>\n",
       "      <td id=\"T_956e5_row9_col3\" class=\"data row9 col3\" >C</td>\n",
       "      <td id=\"T_956e5_row9_col4\" class=\"data row9 col4\" >5</td>\n",
       "      <td id=\"T_956e5_row9_col5\" class=\"data row9 col5\" >6</td>\n",
       "      <td id=\"T_956e5_row9_col6\" class=\"data row9 col6\" >ALA</td>\n",
       "      <td id=\"T_956e5_row9_col7\" class=\"data row9 col7\" >aminoacid</td>\n",
       "      <td id=\"T_956e5_row9_col8\" class=\"data row9 col8\" >0</td>\n",
       "      <td id=\"T_956e5_row9_col9\" class=\"data row9 col9\" >0</td>\n",
       "      <td id=\"T_956e5_row9_col10\" class=\"data row9 col10\" >0</td>\n",
       "      <td id=\"T_956e5_row9_col11\" class=\"data row9 col11\" >peptide</td>\n",
       "      <td id=\"T_956e5_row9_col12\" class=\"data row9 col12\" >0</td>\n",
       "      <td id=\"T_956e5_row9_col13\" class=\"data row9 col13\" >Peptide_0</td>\n",
       "    </tr>\n",
       "    <tr>\n",
       "      <td id=\"T_956e5_row10_col0\" class=\"data row10 col0\" >55</td>\n",
       "      <td id=\"T_956e5_row10_col1\" class=\"data row10 col1\" >None</td>\n",
       "      <td id=\"T_956e5_row10_col2\" class=\"data row10 col2\" >O</td>\n",
       "      <td id=\"T_956e5_row10_col3\" class=\"data row10 col3\" >O</td>\n",
       "      <td id=\"T_956e5_row10_col4\" class=\"data row10 col4\" >5</td>\n",
       "      <td id=\"T_956e5_row10_col5\" class=\"data row10 col5\" >6</td>\n",
       "      <td id=\"T_956e5_row10_col6\" class=\"data row10 col6\" >ALA</td>\n",
       "      <td id=\"T_956e5_row10_col7\" class=\"data row10 col7\" >aminoacid</td>\n",
       "      <td id=\"T_956e5_row10_col8\" class=\"data row10 col8\" >0</td>\n",
       "      <td id=\"T_956e5_row10_col9\" class=\"data row10 col9\" >0</td>\n",
       "      <td id=\"T_956e5_row10_col10\" class=\"data row10 col10\" >0</td>\n",
       "      <td id=\"T_956e5_row10_col11\" class=\"data row10 col11\" >peptide</td>\n",
       "      <td id=\"T_956e5_row10_col12\" class=\"data row10 col12\" >0</td>\n",
       "      <td id=\"T_956e5_row10_col13\" class=\"data row10 col13\" >Peptide_0</td>\n",
       "    </tr>\n",
       "    <tr>\n",
       "      <td id=\"T_956e5_row11_col0\" class=\"data row11 col0\" >56</td>\n",
       "      <td id=\"T_956e5_row11_col1\" class=\"data row11 col1\" >None</td>\n",
       "      <td id=\"T_956e5_row11_col2\" class=\"data row11 col2\" >N</td>\n",
       "      <td id=\"T_956e5_row11_col3\" class=\"data row11 col3\" >N</td>\n",
       "      <td id=\"T_956e5_row11_col4\" class=\"data row11 col4\" >6</td>\n",
       "      <td id=\"T_956e5_row11_col5\" class=\"data row11 col5\" >7</td>\n",
       "      <td id=\"T_956e5_row11_col6\" class=\"data row11 col6\" >NME</td>\n",
       "      <td id=\"T_956e5_row11_col7\" class=\"data row11 col7\" >aminoacid</td>\n",
       "      <td id=\"T_956e5_row11_col8\" class=\"data row11 col8\" >0</td>\n",
       "      <td id=\"T_956e5_row11_col9\" class=\"data row11 col9\" >0</td>\n",
       "      <td id=\"T_956e5_row11_col10\" class=\"data row11 col10\" >0</td>\n",
       "      <td id=\"T_956e5_row11_col11\" class=\"data row11 col11\" >peptide</td>\n",
       "      <td id=\"T_956e5_row11_col12\" class=\"data row11 col12\" >0</td>\n",
       "      <td id=\"T_956e5_row11_col13\" class=\"data row11 col13\" >Peptide_0</td>\n",
       "    </tr>\n",
       "  </tbody>\n",
       "</table>\n"
      ],
      "text/plain": [
       "<pandas.io.formats.style.Styler at 0x7f97bc2956d0>"
      ]
     },
     "execution_count": 12,
     "metadata": {},
     "output_type": "execute_result"
    }
   ],
   "source": [
    "msm.info(molecular_system, target='atom', selection='@acceptors')"
   ]
  },
  {
   "cell_type": "code",
   "execution_count": 13,
   "metadata": {
    "execution": {
     "iopub.execute_input": "2021-07-13T21:15:09.967061Z",
     "iopub.status.busy": "2021-07-13T21:15:09.966622Z",
     "iopub.status.idle": "2021-07-13T21:15:10.005132Z",
     "shell.execute_reply": "2021-07-13T21:15:10.004525Z"
    }
   },
   "outputs": [
    {
     "data": {
      "text/plain": [
       "array([1, 6, 8, ..., 50, 56, 58], dtype=object)"
      ]
     },
     "execution_count": 13,
     "metadata": {},
     "output_type": "execute_result"
    }
   ],
   "source": [
    "msm.select(molecular_system, selection=\"all bonded to atom_type=='H'\")"
   ]
  },
  {
   "cell_type": "code",
   "execution_count": 14,
   "metadata": {
    "execution": {
     "iopub.execute_input": "2021-07-13T21:15:10.008412Z",
     "iopub.status.busy": "2021-07-13T21:15:10.007773Z",
     "iopub.status.idle": "2021-07-13T21:15:10.057442Z",
     "shell.execute_reply": "2021-07-13T21:15:10.057024Z"
    }
   },
   "outputs": [],
   "source": [
    "acceptors=msm.hbonds.get_acceptor_atoms(molecular_system,\n",
    "                                        default_inclusion_rules=False, default_exclusion_rules=False,\n",
    "                                        inclusion_rules=[\"atom_type=='C'\"],\n",
    "                                        exclusion_rules=[\"all bonded to atom_type=='H'\"])"
   ]
  },
  {
   "cell_type": "code",
   "execution_count": 15,
   "metadata": {
    "execution": {
     "iopub.execute_input": "2021-07-13T21:15:10.060935Z",
     "iopub.status.busy": "2021-07-13T21:15:10.060250Z",
     "iopub.status.idle": "2021-07-13T21:15:10.115812Z",
     "shell.execute_reply": "2021-07-13T21:15:10.115401Z"
    }
   },
   "outputs": [
    {
     "data": {
      "text/html": [
       "<style type=\"text/css\">\n",
       "</style>\n",
       "<table id=\"T_67780_\">\n",
       "  <thead>\n",
       "    <tr>\n",
       "      <th class=\"col_heading level0 col0\" >index</th>\n",
       "      <th class=\"col_heading level0 col1\" >id</th>\n",
       "      <th class=\"col_heading level0 col2\" >name</th>\n",
       "      <th class=\"col_heading level0 col3\" >type</th>\n",
       "      <th class=\"col_heading level0 col4\" >group index</th>\n",
       "      <th class=\"col_heading level0 col5\" >group id</th>\n",
       "      <th class=\"col_heading level0 col6\" >group name</th>\n",
       "      <th class=\"col_heading level0 col7\" >group type</th>\n",
       "      <th class=\"col_heading level0 col8\" >component index</th>\n",
       "      <th class=\"col_heading level0 col9\" >chain index</th>\n",
       "      <th class=\"col_heading level0 col10\" >molecule index</th>\n",
       "      <th class=\"col_heading level0 col11\" >molecule type</th>\n",
       "      <th class=\"col_heading level0 col12\" >entity index</th>\n",
       "      <th class=\"col_heading level0 col13\" >entity name</th>\n",
       "    </tr>\n",
       "  </thead>\n",
       "  <tbody>\n",
       "    <tr>\n",
       "      <td id=\"T_67780_row0_col0\" class=\"data row0 col0\" >4</td>\n",
       "      <td id=\"T_67780_row0_col1\" class=\"data row0 col1\" >None</td>\n",
       "      <td id=\"T_67780_row0_col2\" class=\"data row0 col2\" >C</td>\n",
       "      <td id=\"T_67780_row0_col3\" class=\"data row0 col3\" >C</td>\n",
       "      <td id=\"T_67780_row0_col4\" class=\"data row0 col4\" >0</td>\n",
       "      <td id=\"T_67780_row0_col5\" class=\"data row0 col5\" >1</td>\n",
       "      <td id=\"T_67780_row0_col6\" class=\"data row0 col6\" >ACE</td>\n",
       "      <td id=\"T_67780_row0_col7\" class=\"data row0 col7\" >aminoacid</td>\n",
       "      <td id=\"T_67780_row0_col8\" class=\"data row0 col8\" >0</td>\n",
       "      <td id=\"T_67780_row0_col9\" class=\"data row0 col9\" >0</td>\n",
       "      <td id=\"T_67780_row0_col10\" class=\"data row0 col10\" >0</td>\n",
       "      <td id=\"T_67780_row0_col11\" class=\"data row0 col11\" >peptide</td>\n",
       "      <td id=\"T_67780_row0_col12\" class=\"data row0 col12\" >0</td>\n",
       "      <td id=\"T_67780_row0_col13\" class=\"data row0 col13\" >Peptide_0</td>\n",
       "    </tr>\n",
       "    <tr>\n",
       "      <td id=\"T_67780_row1_col0\" class=\"data row1 col0\" >14</td>\n",
       "      <td id=\"T_67780_row1_col1\" class=\"data row1 col1\" >None</td>\n",
       "      <td id=\"T_67780_row1_col2\" class=\"data row1 col2\" >C</td>\n",
       "      <td id=\"T_67780_row1_col3\" class=\"data row1 col3\" >C</td>\n",
       "      <td id=\"T_67780_row1_col4\" class=\"data row1 col4\" >1</td>\n",
       "      <td id=\"T_67780_row1_col5\" class=\"data row1 col5\" >2</td>\n",
       "      <td id=\"T_67780_row1_col6\" class=\"data row1 col6\" >ALA</td>\n",
       "      <td id=\"T_67780_row1_col7\" class=\"data row1 col7\" >aminoacid</td>\n",
       "      <td id=\"T_67780_row1_col8\" class=\"data row1 col8\" >0</td>\n",
       "      <td id=\"T_67780_row1_col9\" class=\"data row1 col9\" >0</td>\n",
       "      <td id=\"T_67780_row1_col10\" class=\"data row1 col10\" >0</td>\n",
       "      <td id=\"T_67780_row1_col11\" class=\"data row1 col11\" >peptide</td>\n",
       "      <td id=\"T_67780_row1_col12\" class=\"data row1 col12\" >0</td>\n",
       "      <td id=\"T_67780_row1_col13\" class=\"data row1 col13\" >Peptide_0</td>\n",
       "    </tr>\n",
       "    <tr>\n",
       "      <td id=\"T_67780_row2_col0\" class=\"data row2 col0\" >24</td>\n",
       "      <td id=\"T_67780_row2_col1\" class=\"data row2 col1\" >None</td>\n",
       "      <td id=\"T_67780_row2_col2\" class=\"data row2 col2\" >C</td>\n",
       "      <td id=\"T_67780_row2_col3\" class=\"data row2 col3\" >C</td>\n",
       "      <td id=\"T_67780_row2_col4\" class=\"data row2 col4\" >2</td>\n",
       "      <td id=\"T_67780_row2_col5\" class=\"data row2 col5\" >3</td>\n",
       "      <td id=\"T_67780_row2_col6\" class=\"data row2 col6\" >ALA</td>\n",
       "      <td id=\"T_67780_row2_col7\" class=\"data row2 col7\" >aminoacid</td>\n",
       "      <td id=\"T_67780_row2_col8\" class=\"data row2 col8\" >0</td>\n",
       "      <td id=\"T_67780_row2_col9\" class=\"data row2 col9\" >0</td>\n",
       "      <td id=\"T_67780_row2_col10\" class=\"data row2 col10\" >0</td>\n",
       "      <td id=\"T_67780_row2_col11\" class=\"data row2 col11\" >peptide</td>\n",
       "      <td id=\"T_67780_row2_col12\" class=\"data row2 col12\" >0</td>\n",
       "      <td id=\"T_67780_row2_col13\" class=\"data row2 col13\" >Peptide_0</td>\n",
       "    </tr>\n",
       "    <tr>\n",
       "      <td id=\"T_67780_row3_col0\" class=\"data row3 col0\" >34</td>\n",
       "      <td id=\"T_67780_row3_col1\" class=\"data row3 col1\" >None</td>\n",
       "      <td id=\"T_67780_row3_col2\" class=\"data row3 col2\" >C</td>\n",
       "      <td id=\"T_67780_row3_col3\" class=\"data row3 col3\" >C</td>\n",
       "      <td id=\"T_67780_row3_col4\" class=\"data row3 col4\" >3</td>\n",
       "      <td id=\"T_67780_row3_col5\" class=\"data row3 col5\" >4</td>\n",
       "      <td id=\"T_67780_row3_col6\" class=\"data row3 col6\" >ALA</td>\n",
       "      <td id=\"T_67780_row3_col7\" class=\"data row3 col7\" >aminoacid</td>\n",
       "      <td id=\"T_67780_row3_col8\" class=\"data row3 col8\" >0</td>\n",
       "      <td id=\"T_67780_row3_col9\" class=\"data row3 col9\" >0</td>\n",
       "      <td id=\"T_67780_row3_col10\" class=\"data row3 col10\" >0</td>\n",
       "      <td id=\"T_67780_row3_col11\" class=\"data row3 col11\" >peptide</td>\n",
       "      <td id=\"T_67780_row3_col12\" class=\"data row3 col12\" >0</td>\n",
       "      <td id=\"T_67780_row3_col13\" class=\"data row3 col13\" >Peptide_0</td>\n",
       "    </tr>\n",
       "    <tr>\n",
       "      <td id=\"T_67780_row4_col0\" class=\"data row4 col0\" >44</td>\n",
       "      <td id=\"T_67780_row4_col1\" class=\"data row4 col1\" >None</td>\n",
       "      <td id=\"T_67780_row4_col2\" class=\"data row4 col2\" >C</td>\n",
       "      <td id=\"T_67780_row4_col3\" class=\"data row4 col3\" >C</td>\n",
       "      <td id=\"T_67780_row4_col4\" class=\"data row4 col4\" >4</td>\n",
       "      <td id=\"T_67780_row4_col5\" class=\"data row4 col5\" >5</td>\n",
       "      <td id=\"T_67780_row4_col6\" class=\"data row4 col6\" >ALA</td>\n",
       "      <td id=\"T_67780_row4_col7\" class=\"data row4 col7\" >aminoacid</td>\n",
       "      <td id=\"T_67780_row4_col8\" class=\"data row4 col8\" >0</td>\n",
       "      <td id=\"T_67780_row4_col9\" class=\"data row4 col9\" >0</td>\n",
       "      <td id=\"T_67780_row4_col10\" class=\"data row4 col10\" >0</td>\n",
       "      <td id=\"T_67780_row4_col11\" class=\"data row4 col11\" >peptide</td>\n",
       "      <td id=\"T_67780_row4_col12\" class=\"data row4 col12\" >0</td>\n",
       "      <td id=\"T_67780_row4_col13\" class=\"data row4 col13\" >Peptide_0</td>\n",
       "    </tr>\n",
       "    <tr>\n",
       "      <td id=\"T_67780_row5_col0\" class=\"data row5 col0\" >54</td>\n",
       "      <td id=\"T_67780_row5_col1\" class=\"data row5 col1\" >None</td>\n",
       "      <td id=\"T_67780_row5_col2\" class=\"data row5 col2\" >C</td>\n",
       "      <td id=\"T_67780_row5_col3\" class=\"data row5 col3\" >C</td>\n",
       "      <td id=\"T_67780_row5_col4\" class=\"data row5 col4\" >5</td>\n",
       "      <td id=\"T_67780_row5_col5\" class=\"data row5 col5\" >6</td>\n",
       "      <td id=\"T_67780_row5_col6\" class=\"data row5 col6\" >ALA</td>\n",
       "      <td id=\"T_67780_row5_col7\" class=\"data row5 col7\" >aminoacid</td>\n",
       "      <td id=\"T_67780_row5_col8\" class=\"data row5 col8\" >0</td>\n",
       "      <td id=\"T_67780_row5_col9\" class=\"data row5 col9\" >0</td>\n",
       "      <td id=\"T_67780_row5_col10\" class=\"data row5 col10\" >0</td>\n",
       "      <td id=\"T_67780_row5_col11\" class=\"data row5 col11\" >peptide</td>\n",
       "      <td id=\"T_67780_row5_col12\" class=\"data row5 col12\" >0</td>\n",
       "      <td id=\"T_67780_row5_col13\" class=\"data row5 col13\" >Peptide_0</td>\n",
       "    </tr>\n",
       "  </tbody>\n",
       "</table>\n"
      ],
      "text/plain": [
       "<pandas.io.formats.style.Styler at 0x7f97ba4c67d0>"
      ]
     },
     "execution_count": 15,
     "metadata": {},
     "output_type": "execute_result"
    }
   ],
   "source": [
    "msm.info(molecular_system, target='atom', selection='@acceptors')"
   ]
  },
  {
   "cell_type": "markdown",
   "metadata": {},
   "source": [
    "## Donor atoms"
   ]
  },
  {
   "cell_type": "code",
   "execution_count": 16,
   "metadata": {
    "execution": {
     "iopub.execute_input": "2021-07-13T21:15:10.118765Z",
     "iopub.status.busy": "2021-07-13T21:15:10.118316Z",
     "iopub.status.idle": "2021-07-13T21:15:10.141618Z",
     "shell.execute_reply": "2021-07-13T21:15:10.141976Z"
    }
   },
   "outputs": [
    {
     "data": {
      "text/plain": [
       "[\"(atom_type=='O') bonded to (atom_type=='H')\",\n",
       " \"(atom_type=='N') bonded to (atom_type=='H')\"]"
      ]
     },
     "execution_count": 16,
     "metadata": {},
     "output_type": "execute_result"
    }
   ],
   "source": [
    "msm.hbonds.donor_inclusion_rules"
   ]
  },
  {
   "cell_type": "code",
   "execution_count": 17,
   "metadata": {
    "execution": {
     "iopub.execute_input": "2021-07-13T21:15:10.145377Z",
     "iopub.status.busy": "2021-07-13T21:15:10.144739Z",
     "iopub.status.idle": "2021-07-13T21:15:10.167562Z",
     "shell.execute_reply": "2021-07-13T21:15:10.167924Z"
    }
   },
   "outputs": [
    {
     "data": {
      "text/plain": [
       "[\"(atom_name=='NE2') not bonded to (atom_type=='H')\",\n",
       " \"(atom_name=='ND1') not bonded to (atom_type=='H')\"]"
      ]
     },
     "execution_count": 17,
     "metadata": {},
     "output_type": "execute_result"
    }
   ],
   "source": [
    "msm.hbonds.donor_exclusion_rules"
   ]
  },
  {
   "cell_type": "code",
   "execution_count": 18,
   "metadata": {
    "execution": {
     "iopub.execute_input": "2021-07-13T21:15:10.171158Z",
     "iopub.status.busy": "2021-07-13T21:15:10.170499Z",
     "iopub.status.idle": "2021-07-13T21:15:10.322008Z",
     "shell.execute_reply": "2021-07-13T21:15:10.322430Z"
    }
   },
   "outputs": [],
   "source": [
    "donors = msm.hbonds.get_donor_atoms(molecular_system)"
   ]
  },
  {
   "cell_type": "code",
   "execution_count": 19,
   "metadata": {
    "execution": {
     "iopub.execute_input": "2021-07-13T21:15:10.325860Z",
     "iopub.status.busy": "2021-07-13T21:15:10.325155Z",
     "iopub.status.idle": "2021-07-13T21:15:10.350973Z",
     "shell.execute_reply": "2021-07-13T21:15:10.350566Z"
    }
   },
   "outputs": [
    {
     "data": {
      "text/plain": [
       "array([[ 6,  7],\n",
       "       [16, 17],\n",
       "       [26, 27],\n",
       "       [36, 37],\n",
       "       [46, 47],\n",
       "       [56, 57]])"
      ]
     },
     "execution_count": 19,
     "metadata": {},
     "output_type": "execute_result"
    }
   ],
   "source": [
    "donors"
   ]
  },
  {
   "cell_type": "code",
   "execution_count": 20,
   "metadata": {
    "execution": {
     "iopub.execute_input": "2021-07-13T21:15:10.354282Z",
     "iopub.status.busy": "2021-07-13T21:15:10.353665Z",
     "iopub.status.idle": "2021-07-13T21:15:10.425173Z",
     "shell.execute_reply": "2021-07-13T21:15:10.424493Z"
    }
   },
   "outputs": [
    {
     "data": {
      "text/html": [
       "<style type=\"text/css\">\n",
       "</style>\n",
       "<table id=\"T_653ff_\">\n",
       "  <thead>\n",
       "    <tr>\n",
       "      <th class=\"col_heading level0 col0\" >index</th>\n",
       "      <th class=\"col_heading level0 col1\" >id</th>\n",
       "      <th class=\"col_heading level0 col2\" >name</th>\n",
       "      <th class=\"col_heading level0 col3\" >type</th>\n",
       "      <th class=\"col_heading level0 col4\" >group index</th>\n",
       "      <th class=\"col_heading level0 col5\" >group id</th>\n",
       "      <th class=\"col_heading level0 col6\" >group name</th>\n",
       "      <th class=\"col_heading level0 col7\" >group type</th>\n",
       "      <th class=\"col_heading level0 col8\" >component index</th>\n",
       "      <th class=\"col_heading level0 col9\" >chain index</th>\n",
       "      <th class=\"col_heading level0 col10\" >molecule index</th>\n",
       "      <th class=\"col_heading level0 col11\" >molecule type</th>\n",
       "      <th class=\"col_heading level0 col12\" >entity index</th>\n",
       "      <th class=\"col_heading level0 col13\" >entity name</th>\n",
       "    </tr>\n",
       "  </thead>\n",
       "  <tbody>\n",
       "    <tr>\n",
       "      <td id=\"T_653ff_row0_col0\" class=\"data row0 col0\" >6</td>\n",
       "      <td id=\"T_653ff_row0_col1\" class=\"data row0 col1\" >None</td>\n",
       "      <td id=\"T_653ff_row0_col2\" class=\"data row0 col2\" >N</td>\n",
       "      <td id=\"T_653ff_row0_col3\" class=\"data row0 col3\" >N</td>\n",
       "      <td id=\"T_653ff_row0_col4\" class=\"data row0 col4\" >1</td>\n",
       "      <td id=\"T_653ff_row0_col5\" class=\"data row0 col5\" >2</td>\n",
       "      <td id=\"T_653ff_row0_col6\" class=\"data row0 col6\" >ALA</td>\n",
       "      <td id=\"T_653ff_row0_col7\" class=\"data row0 col7\" >aminoacid</td>\n",
       "      <td id=\"T_653ff_row0_col8\" class=\"data row0 col8\" >0</td>\n",
       "      <td id=\"T_653ff_row0_col9\" class=\"data row0 col9\" >0</td>\n",
       "      <td id=\"T_653ff_row0_col10\" class=\"data row0 col10\" >0</td>\n",
       "      <td id=\"T_653ff_row0_col11\" class=\"data row0 col11\" >peptide</td>\n",
       "      <td id=\"T_653ff_row0_col12\" class=\"data row0 col12\" >0</td>\n",
       "      <td id=\"T_653ff_row0_col13\" class=\"data row0 col13\" >Peptide_0</td>\n",
       "    </tr>\n",
       "    <tr>\n",
       "      <td id=\"T_653ff_row1_col0\" class=\"data row1 col0\" >7</td>\n",
       "      <td id=\"T_653ff_row1_col1\" class=\"data row1 col1\" >None</td>\n",
       "      <td id=\"T_653ff_row1_col2\" class=\"data row1 col2\" >H</td>\n",
       "      <td id=\"T_653ff_row1_col3\" class=\"data row1 col3\" >H</td>\n",
       "      <td id=\"T_653ff_row1_col4\" class=\"data row1 col4\" >1</td>\n",
       "      <td id=\"T_653ff_row1_col5\" class=\"data row1 col5\" >2</td>\n",
       "      <td id=\"T_653ff_row1_col6\" class=\"data row1 col6\" >ALA</td>\n",
       "      <td id=\"T_653ff_row1_col7\" class=\"data row1 col7\" >aminoacid</td>\n",
       "      <td id=\"T_653ff_row1_col8\" class=\"data row1 col8\" >0</td>\n",
       "      <td id=\"T_653ff_row1_col9\" class=\"data row1 col9\" >0</td>\n",
       "      <td id=\"T_653ff_row1_col10\" class=\"data row1 col10\" >0</td>\n",
       "      <td id=\"T_653ff_row1_col11\" class=\"data row1 col11\" >peptide</td>\n",
       "      <td id=\"T_653ff_row1_col12\" class=\"data row1 col12\" >0</td>\n",
       "      <td id=\"T_653ff_row1_col13\" class=\"data row1 col13\" >Peptide_0</td>\n",
       "    </tr>\n",
       "  </tbody>\n",
       "</table>\n"
      ],
      "text/plain": [
       "<pandas.io.formats.style.Styler at 0x7f97ba58e810>"
      ]
     },
     "execution_count": 20,
     "metadata": {},
     "output_type": "execute_result"
    }
   ],
   "source": [
    "msm.info(molecular_system, target='atom', selection='@donors[0]')"
   ]
  },
  {
   "cell_type": "code",
   "execution_count": 21,
   "metadata": {
    "execution": {
     "iopub.execute_input": "2021-07-13T21:15:10.428209Z",
     "iopub.status.busy": "2021-07-13T21:15:10.427509Z",
     "iopub.status.idle": "2021-07-13T21:15:10.449256Z",
     "shell.execute_reply": "2021-07-13T21:15:10.449659Z"
    }
   },
   "outputs": [],
   "source": [
    "donors_heavy_atom=donors[:,0]"
   ]
  },
  {
   "cell_type": "code",
   "execution_count": 22,
   "metadata": {
    "execution": {
     "iopub.execute_input": "2021-07-13T21:15:10.453069Z",
     "iopub.status.busy": "2021-07-13T21:15:10.452307Z",
     "iopub.status.idle": "2021-07-13T21:15:10.509094Z",
     "shell.execute_reply": "2021-07-13T21:15:10.508685Z"
    }
   },
   "outputs": [
    {
     "data": {
      "text/html": [
       "<style type=\"text/css\">\n",
       "</style>\n",
       "<table id=\"T_f0799_\">\n",
       "  <thead>\n",
       "    <tr>\n",
       "      <th class=\"col_heading level0 col0\" >index</th>\n",
       "      <th class=\"col_heading level0 col1\" >id</th>\n",
       "      <th class=\"col_heading level0 col2\" >name</th>\n",
       "      <th class=\"col_heading level0 col3\" >type</th>\n",
       "      <th class=\"col_heading level0 col4\" >group index</th>\n",
       "      <th class=\"col_heading level0 col5\" >group id</th>\n",
       "      <th class=\"col_heading level0 col6\" >group name</th>\n",
       "      <th class=\"col_heading level0 col7\" >group type</th>\n",
       "      <th class=\"col_heading level0 col8\" >component index</th>\n",
       "      <th class=\"col_heading level0 col9\" >chain index</th>\n",
       "      <th class=\"col_heading level0 col10\" >molecule index</th>\n",
       "      <th class=\"col_heading level0 col11\" >molecule type</th>\n",
       "      <th class=\"col_heading level0 col12\" >entity index</th>\n",
       "      <th class=\"col_heading level0 col13\" >entity name</th>\n",
       "    </tr>\n",
       "  </thead>\n",
       "  <tbody>\n",
       "    <tr>\n",
       "      <td id=\"T_f0799_row0_col0\" class=\"data row0 col0\" >6</td>\n",
       "      <td id=\"T_f0799_row0_col1\" class=\"data row0 col1\" >None</td>\n",
       "      <td id=\"T_f0799_row0_col2\" class=\"data row0 col2\" >N</td>\n",
       "      <td id=\"T_f0799_row0_col3\" class=\"data row0 col3\" >N</td>\n",
       "      <td id=\"T_f0799_row0_col4\" class=\"data row0 col4\" >1</td>\n",
       "      <td id=\"T_f0799_row0_col5\" class=\"data row0 col5\" >2</td>\n",
       "      <td id=\"T_f0799_row0_col6\" class=\"data row0 col6\" >ALA</td>\n",
       "      <td id=\"T_f0799_row0_col7\" class=\"data row0 col7\" >aminoacid</td>\n",
       "      <td id=\"T_f0799_row0_col8\" class=\"data row0 col8\" >0</td>\n",
       "      <td id=\"T_f0799_row0_col9\" class=\"data row0 col9\" >0</td>\n",
       "      <td id=\"T_f0799_row0_col10\" class=\"data row0 col10\" >0</td>\n",
       "      <td id=\"T_f0799_row0_col11\" class=\"data row0 col11\" >peptide</td>\n",
       "      <td id=\"T_f0799_row0_col12\" class=\"data row0 col12\" >0</td>\n",
       "      <td id=\"T_f0799_row0_col13\" class=\"data row0 col13\" >Peptide_0</td>\n",
       "    </tr>\n",
       "    <tr>\n",
       "      <td id=\"T_f0799_row1_col0\" class=\"data row1 col0\" >16</td>\n",
       "      <td id=\"T_f0799_row1_col1\" class=\"data row1 col1\" >None</td>\n",
       "      <td id=\"T_f0799_row1_col2\" class=\"data row1 col2\" >N</td>\n",
       "      <td id=\"T_f0799_row1_col3\" class=\"data row1 col3\" >N</td>\n",
       "      <td id=\"T_f0799_row1_col4\" class=\"data row1 col4\" >2</td>\n",
       "      <td id=\"T_f0799_row1_col5\" class=\"data row1 col5\" >3</td>\n",
       "      <td id=\"T_f0799_row1_col6\" class=\"data row1 col6\" >ALA</td>\n",
       "      <td id=\"T_f0799_row1_col7\" class=\"data row1 col7\" >aminoacid</td>\n",
       "      <td id=\"T_f0799_row1_col8\" class=\"data row1 col8\" >0</td>\n",
       "      <td id=\"T_f0799_row1_col9\" class=\"data row1 col9\" >0</td>\n",
       "      <td id=\"T_f0799_row1_col10\" class=\"data row1 col10\" >0</td>\n",
       "      <td id=\"T_f0799_row1_col11\" class=\"data row1 col11\" >peptide</td>\n",
       "      <td id=\"T_f0799_row1_col12\" class=\"data row1 col12\" >0</td>\n",
       "      <td id=\"T_f0799_row1_col13\" class=\"data row1 col13\" >Peptide_0</td>\n",
       "    </tr>\n",
       "    <tr>\n",
       "      <td id=\"T_f0799_row2_col0\" class=\"data row2 col0\" >26</td>\n",
       "      <td id=\"T_f0799_row2_col1\" class=\"data row2 col1\" >None</td>\n",
       "      <td id=\"T_f0799_row2_col2\" class=\"data row2 col2\" >N</td>\n",
       "      <td id=\"T_f0799_row2_col3\" class=\"data row2 col3\" >N</td>\n",
       "      <td id=\"T_f0799_row2_col4\" class=\"data row2 col4\" >3</td>\n",
       "      <td id=\"T_f0799_row2_col5\" class=\"data row2 col5\" >4</td>\n",
       "      <td id=\"T_f0799_row2_col6\" class=\"data row2 col6\" >ALA</td>\n",
       "      <td id=\"T_f0799_row2_col7\" class=\"data row2 col7\" >aminoacid</td>\n",
       "      <td id=\"T_f0799_row2_col8\" class=\"data row2 col8\" >0</td>\n",
       "      <td id=\"T_f0799_row2_col9\" class=\"data row2 col9\" >0</td>\n",
       "      <td id=\"T_f0799_row2_col10\" class=\"data row2 col10\" >0</td>\n",
       "      <td id=\"T_f0799_row2_col11\" class=\"data row2 col11\" >peptide</td>\n",
       "      <td id=\"T_f0799_row2_col12\" class=\"data row2 col12\" >0</td>\n",
       "      <td id=\"T_f0799_row2_col13\" class=\"data row2 col13\" >Peptide_0</td>\n",
       "    </tr>\n",
       "    <tr>\n",
       "      <td id=\"T_f0799_row3_col0\" class=\"data row3 col0\" >36</td>\n",
       "      <td id=\"T_f0799_row3_col1\" class=\"data row3 col1\" >None</td>\n",
       "      <td id=\"T_f0799_row3_col2\" class=\"data row3 col2\" >N</td>\n",
       "      <td id=\"T_f0799_row3_col3\" class=\"data row3 col3\" >N</td>\n",
       "      <td id=\"T_f0799_row3_col4\" class=\"data row3 col4\" >4</td>\n",
       "      <td id=\"T_f0799_row3_col5\" class=\"data row3 col5\" >5</td>\n",
       "      <td id=\"T_f0799_row3_col6\" class=\"data row3 col6\" >ALA</td>\n",
       "      <td id=\"T_f0799_row3_col7\" class=\"data row3 col7\" >aminoacid</td>\n",
       "      <td id=\"T_f0799_row3_col8\" class=\"data row3 col8\" >0</td>\n",
       "      <td id=\"T_f0799_row3_col9\" class=\"data row3 col9\" >0</td>\n",
       "      <td id=\"T_f0799_row3_col10\" class=\"data row3 col10\" >0</td>\n",
       "      <td id=\"T_f0799_row3_col11\" class=\"data row3 col11\" >peptide</td>\n",
       "      <td id=\"T_f0799_row3_col12\" class=\"data row3 col12\" >0</td>\n",
       "      <td id=\"T_f0799_row3_col13\" class=\"data row3 col13\" >Peptide_0</td>\n",
       "    </tr>\n",
       "    <tr>\n",
       "      <td id=\"T_f0799_row4_col0\" class=\"data row4 col0\" >46</td>\n",
       "      <td id=\"T_f0799_row4_col1\" class=\"data row4 col1\" >None</td>\n",
       "      <td id=\"T_f0799_row4_col2\" class=\"data row4 col2\" >N</td>\n",
       "      <td id=\"T_f0799_row4_col3\" class=\"data row4 col3\" >N</td>\n",
       "      <td id=\"T_f0799_row4_col4\" class=\"data row4 col4\" >5</td>\n",
       "      <td id=\"T_f0799_row4_col5\" class=\"data row4 col5\" >6</td>\n",
       "      <td id=\"T_f0799_row4_col6\" class=\"data row4 col6\" >ALA</td>\n",
       "      <td id=\"T_f0799_row4_col7\" class=\"data row4 col7\" >aminoacid</td>\n",
       "      <td id=\"T_f0799_row4_col8\" class=\"data row4 col8\" >0</td>\n",
       "      <td id=\"T_f0799_row4_col9\" class=\"data row4 col9\" >0</td>\n",
       "      <td id=\"T_f0799_row4_col10\" class=\"data row4 col10\" >0</td>\n",
       "      <td id=\"T_f0799_row4_col11\" class=\"data row4 col11\" >peptide</td>\n",
       "      <td id=\"T_f0799_row4_col12\" class=\"data row4 col12\" >0</td>\n",
       "      <td id=\"T_f0799_row4_col13\" class=\"data row4 col13\" >Peptide_0</td>\n",
       "    </tr>\n",
       "    <tr>\n",
       "      <td id=\"T_f0799_row5_col0\" class=\"data row5 col0\" >56</td>\n",
       "      <td id=\"T_f0799_row5_col1\" class=\"data row5 col1\" >None</td>\n",
       "      <td id=\"T_f0799_row5_col2\" class=\"data row5 col2\" >N</td>\n",
       "      <td id=\"T_f0799_row5_col3\" class=\"data row5 col3\" >N</td>\n",
       "      <td id=\"T_f0799_row5_col4\" class=\"data row5 col4\" >6</td>\n",
       "      <td id=\"T_f0799_row5_col5\" class=\"data row5 col5\" >7</td>\n",
       "      <td id=\"T_f0799_row5_col6\" class=\"data row5 col6\" >NME</td>\n",
       "      <td id=\"T_f0799_row5_col7\" class=\"data row5 col7\" >aminoacid</td>\n",
       "      <td id=\"T_f0799_row5_col8\" class=\"data row5 col8\" >0</td>\n",
       "      <td id=\"T_f0799_row5_col9\" class=\"data row5 col9\" >0</td>\n",
       "      <td id=\"T_f0799_row5_col10\" class=\"data row5 col10\" >0</td>\n",
       "      <td id=\"T_f0799_row5_col11\" class=\"data row5 col11\" >peptide</td>\n",
       "      <td id=\"T_f0799_row5_col12\" class=\"data row5 col12\" >0</td>\n",
       "      <td id=\"T_f0799_row5_col13\" class=\"data row5 col13\" >Peptide_0</td>\n",
       "    </tr>\n",
       "  </tbody>\n",
       "</table>\n"
      ],
      "text/plain": [
       "<pandas.io.formats.style.Styler at 0x7f97ba322050>"
      ]
     },
     "execution_count": 22,
     "metadata": {},
     "output_type": "execute_result"
    }
   ],
   "source": [
    "msm.info(molecular_system, target='atom', selection='@donors_heavy_atom')"
   ]
  },
  {
   "cell_type": "markdown",
   "metadata": {},
   "source": [
    "# Buch"
   ]
  },
  {
   "cell_type": "code",
   "execution_count": 23,
   "metadata": {
    "execution": {
     "iopub.execute_input": "2021-07-13T21:15:10.512254Z",
     "iopub.status.busy": "2021-07-13T21:15:10.511819Z",
     "iopub.status.idle": "2021-07-13T21:15:11.937945Z",
     "shell.execute_reply": "2021-07-13T21:15:11.937137Z"
    }
   },
   "outputs": [],
   "source": [
    "hbonds = msm.hbonds.buch(molecular_system)"
   ]
  },
  {
   "cell_type": "code",
   "execution_count": 24,
   "metadata": {
    "execution": {
     "iopub.execute_input": "2021-07-13T21:15:11.941444Z",
     "iopub.status.busy": "2021-07-13T21:15:11.940751Z",
     "iopub.status.idle": "2021-07-13T21:15:11.965540Z",
     "shell.execute_reply": "2021-07-13T21:15:11.965898Z"
    }
   },
   "outputs": [
    {
     "data": {
      "text/plain": [
       "7"
      ]
     },
     "execution_count": 24,
     "metadata": {},
     "output_type": "execute_result"
    }
   ],
   "source": [
    "len(hbonds)"
   ]
  },
  {
   "cell_type": "code",
   "execution_count": 25,
   "metadata": {
    "execution": {
     "iopub.execute_input": "2021-07-13T21:15:11.969108Z",
     "iopub.status.busy": "2021-07-13T21:15:11.968681Z",
     "iopub.status.idle": "2021-07-13T21:15:11.993197Z",
     "shell.execute_reply": "2021-07-13T21:15:11.992453Z"
    }
   },
   "outputs": [
    {
     "data": {
      "text/plain": [
       "dict_keys([(6, 7, 6), (16, 17, 6), (6, 7, 5), (16, 17, 15), (16, 17, 45), (16, 17, 35), (16, 17, 55)])"
      ]
     },
     "execution_count": 25,
     "metadata": {},
     "output_type": "execute_result"
    }
   ],
   "source": [
    "hbonds.keys()"
   ]
  },
  {
   "cell_type": "code",
   "execution_count": null,
   "metadata": {},
   "outputs": [],
   "source": []
  }
 ],
 "metadata": {
  "kernelspec": {
   "display_name": "Python 3",
   "language": "python",
   "name": "python3"
  },
  "language_info": {
   "codemirror_mode": {
    "name": "ipython",
    "version": 3
   },
   "file_extension": ".py",
   "mimetype": "text/x-python",
   "name": "python",
   "nbconvert_exporter": "python",
   "pygments_lexer": "ipython3",
   "version": "3.7.10"
  },
  "widgets": {
   "application/vnd.jupyter.widget-state+json": {
    "state": {
     "b265990a4e314f7fae20397538b0ca21": {
      "model_module": "nglview-js-widgets",
      "model_module_version": "3.0.1",
      "model_name": "ColormakerRegistryModel",
      "state": {
       "_dom_classes": [],
       "_model_module": "nglview-js-widgets",
       "_model_module_version": "3.0.1",
       "_model_name": "ColormakerRegistryModel",
       "_msg_ar": [],
       "_msg_q": [],
       "_ready": false,
       "_view_count": null,
       "_view_module": "nglview-js-widgets",
       "_view_module_version": "3.0.1",
       "_view_name": "ColormakerRegistryView",
       "layout": "IPY_MODEL_ef35d3eeecf045df9ec216a749b85ec3"
      }
     },
     "ef35d3eeecf045df9ec216a749b85ec3": {
      "model_module": "@jupyter-widgets/base",
      "model_module_version": "1.2.0",
      "model_name": "LayoutModel",
      "state": {
       "_model_module": "@jupyter-widgets/base",
       "_model_module_version": "1.2.0",
       "_model_name": "LayoutModel",
       "_view_count": null,
       "_view_module": "@jupyter-widgets/base",
       "_view_module_version": "1.2.0",
       "_view_name": "LayoutView",
       "align_content": null,
       "align_items": null,
       "align_self": null,
       "border": null,
       "bottom": null,
       "display": null,
       "flex": null,
       "flex_flow": null,
       "grid_area": null,
       "grid_auto_columns": null,
       "grid_auto_flow": null,
       "grid_auto_rows": null,
       "grid_column": null,
       "grid_gap": null,
       "grid_row": null,
       "grid_template_areas": null,
       "grid_template_columns": null,
       "grid_template_rows": null,
       "height": null,
       "justify_content": null,
       "justify_items": null,
       "left": null,
       "margin": null,
       "max_height": null,
       "max_width": null,
       "min_height": null,
       "min_width": null,
       "object_fit": null,
       "object_position": null,
       "order": null,
       "overflow": null,
       "overflow_x": null,
       "overflow_y": null,
       "padding": null,
       "right": null,
       "top": null,
       "visibility": null,
       "width": null
      }
     }
    },
    "version_major": 2,
    "version_minor": 0
   }
  }
 },
 "nbformat": 4,
 "nbformat_minor": 4
}
